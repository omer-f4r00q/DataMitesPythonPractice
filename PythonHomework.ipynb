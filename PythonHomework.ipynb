{
 "cells": [
  {
   "cell_type": "markdown",
   "id": "14975237-b5a8-41d2-b867-2ccbe00d26be",
   "metadata": {},
   "source": [
    "# HomeWork Problems"
   ]
  },
  {
   "cell_type": "markdown",
   "id": "63a41679-725e-4f51-9cb9-7b924b988aab",
   "metadata": {},
   "source": [
    "### 24/04/2025\n",
    "#### Question: Create a program which takes units from the user and calculates the electric bill charges based on the units used.\n",
    "#### Logic:\n",
    "#### if units <= 200 then no charges,\n",
    "#### if > 200 and <= 300 then 5 rupees per units and\n",
    "#### if >300 then rupees 10 per unit."
   ]
  },
  {
   "cell_type": "code",
   "execution_count": 7,
   "id": "a6bc500b-20ad-465c-99a9-f659d45fb6b0",
   "metadata": {},
   "outputs": [
    {
     "name": "stdin",
     "output_type": "stream",
     "text": [
      "Enter the units consumed:  256\n"
     ]
    },
    {
     "name": "stdout",
     "output_type": "stream",
     "text": [
      "Charges: 280\n"
     ]
    }
   ],
   "source": [
    "units = int(input(\"Enter the units consumed: \"))\n",
    "if units <= 200:\n",
    "    print(\"No charges\")\n",
    "elif 200 < units <= 300:\n",
    "    above_200 = units - 200\n",
    "    print(\"Charges:\", above_200*5)\n",
    "elif units > 300:\n",
    "    above_300 = units - 300\n",
    "    print(\"Charges:\", (above_300*10)+500)"
   ]
  },
  {
   "cell_type": "code",
   "execution_count": 21,
   "id": "2a2efa0e-10ea-4a06-9ddb-49c2d4930096",
   "metadata": {},
   "outputs": [
    {
     "name": "stdin",
     "output_type": "stream",
     "text": [
      "Enter the units consumed:  328\n"
     ]
    },
    {
     "name": "stdout",
     "output_type": "stream",
     "text": [
      "Charges: 780\n"
     ]
    }
   ],
   "source": [
    "units = int(input(\"Enter the units consumed: \"))\n",
    "if units <= 200:\n",
    "    print(\"No charges\")\n",
    "elif 200 < units <= 300:\n",
    "    above_200 = units - 200\n",
    "    print(\"Charges:\", above_200*5)\n",
    "elif units > 300:\n",
    "    above_300 = units - 300\n",
    "    print(\"Charges:\", (above_300*10)+500)"
   ]
  },
  {
   "cell_type": "code",
   "execution_count": null,
   "id": "316a5f45-7696-42c5-8ba6-660cfa078b51",
   "metadata": {},
   "outputs": [],
   "source": []
  }
 ],
 "metadata": {
  "kernelspec": {
   "display_name": "Python 3 (ipykernel)",
   "language": "python",
   "name": "python3"
  },
  "language_info": {
   "codemirror_mode": {
    "name": "ipython",
    "version": 3
   },
   "file_extension": ".py",
   "mimetype": "text/x-python",
   "name": "python",
   "nbconvert_exporter": "python",
   "pygments_lexer": "ipython3",
   "version": "3.12.4"
  }
 },
 "nbformat": 4,
 "nbformat_minor": 5
}
