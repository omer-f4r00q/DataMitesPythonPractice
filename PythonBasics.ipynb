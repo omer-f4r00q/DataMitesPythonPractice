{
 "cells": [
  {
   "cell_type": "markdown",
   "id": "c2ba8991-3317-4aeb-8a01-b215c3cf8dc8",
   "metadata": {},
   "source": [
    "# Data Types"
   ]
  },
  {
   "cell_type": "markdown",
   "id": "01009e40-2c5e-4835-b2b1-438e463578be",
   "metadata": {},
   "source": [
    "- Numeric -int, float, complex\n",
    "- Boolean - bool - True(1) and False(0)\n",
    "- String - str- Text data given within double quotes"
   ]
  },
  {
   "cell_type": "markdown",
   "id": "df76e50d-b471-46a1-839e-cca84909fb29",
   "metadata": {},
   "source": [
    "Numeric data type\n",
    "- int - whole nos. (both +ve and -ve)\n",
    "- float - decimal nos.\n",
    "- complex - real and imaginary part"
   ]
  },
  {
   "cell_type": "code",
   "execution_count": 33,
   "id": "b167344f-9435-47e3-aee2-e1cf0fae0d86",
   "metadata": {},
   "outputs": [],
   "source": [
    "import keyword"
   ]
  },
  {
   "cell_type": "code",
   "execution_count": 11,
   "id": "bad1e080-dba2-4a90-b4ab-27a57d2c9679",
   "metadata": {},
   "outputs": [],
   "source": [
    "intvar = 15"
   ]
  },
  {
   "cell_type": "code",
   "execution_count": 15,
   "id": "746c17e2-83ad-4c77-bbd0-718292f15809",
   "metadata": {},
   "outputs": [
    {
     "data": {
      "text/plain": [
       "int"
      ]
     },
     "execution_count": 15,
     "metadata": {},
     "output_type": "execute_result"
    }
   ],
   "source": [
    "type(intvar) #type() gives the datatype of the variable"
   ]
  },
  {
   "cell_type": "code",
   "execution_count": 17,
   "id": "bc375cf8-3224-46ad-8f80-bcf2200868da",
   "metadata": {},
   "outputs": [],
   "source": [
    "floatvar = 20.15"
   ]
  },
  {
   "cell_type": "code",
   "execution_count": 19,
   "id": "617e08f4-9b0c-4a9f-a7ad-c507b934c368",
   "metadata": {},
   "outputs": [
    {
     "data": {
      "text/plain": [
       "float"
      ]
     },
     "execution_count": 19,
     "metadata": {},
     "output_type": "execute_result"
    }
   ],
   "source": [
    "type(floatvar)"
   ]
  },
  {
   "cell_type": "code",
   "execution_count": 21,
   "id": "d64dc751-a049-487f-9bf9-bc759f2f8d3c",
   "metadata": {},
   "outputs": [],
   "source": [
    "complexvar = 3 + 5j"
   ]
  },
  {
   "cell_type": "code",
   "execution_count": 23,
   "id": "81d6fb5a-8614-44db-ac0f-bdcb4219e5f0",
   "metadata": {},
   "outputs": [
    {
     "data": {
      "text/plain": [
       "complex"
      ]
     },
     "execution_count": 23,
     "metadata": {},
     "output_type": "execute_result"
    }
   ],
   "source": [
    "type(complexvar)"
   ]
  },
  {
   "cell_type": "code",
   "execution_count": 25,
   "id": "65b89ee1-6b1d-4975-9026-c43ca4715545",
   "metadata": {},
   "outputs": [],
   "source": [
    "#we can also initialize multiple variable in one go\n",
    "a,b,c = 1, 5, 9"
   ]
  },
  {
   "cell_type": "code",
   "execution_count": 31,
   "id": "26cd2791-02a9-4562-b229-868896381be3",
   "metadata": {},
   "outputs": [
    {
     "name": "stdout",
     "output_type": "stream",
     "text": [
      "1\n",
      "5\n",
      "9\n"
     ]
    }
   ],
   "source": [
    "print(a, b, c, sep = \"\\n\")"
   ]
  },
  {
   "cell_type": "code",
   "execution_count": 3,
   "id": "9ce8927f-1187-404d-8d71-ee95bd751a26",
   "metadata": {},
   "outputs": [
    {
     "name": "stdout",
     "output_type": "stream",
     "text": [
      "<class 'int'>\n"
     ]
    }
   ],
   "source": [
    "# integer\n",
    "a = 10\n",
    "print(type(a))"
   ]
  },
  {
   "cell_type": "code",
   "execution_count": 15,
   "id": "f6f3b4b6-389a-478c-9b16-94e76beb15ca",
   "metadata": {},
   "outputs": [
    {
     "name": "stdout",
     "output_type": "stream",
     "text": [
      "28\n",
      "False\n"
     ]
    }
   ],
   "source": [
    "import sys\n",
    "print(sys.getsizeof(a)) # getsizeof() returns the memory allocated to the variable in bytes\n",
    "print(isinstance(a, float)) #isinstance() returns a boolean value based on if the variable belongs to the given datatype or not"
   ]
  },
  {
   "cell_type": "code",
   "execution_count": 21,
   "id": "ae486d27-80ed-4d03-8d9c-c52e522d34ef",
   "metadata": {},
   "outputs": [
    {
     "name": "stdout",
     "output_type": "stream",
     "text": [
      "<class 'float'>\n",
      "24\n",
      "True\n"
     ]
    }
   ],
   "source": [
    "# float\n",
    "b = 200.5\n",
    "print(type(b))\n",
    "print(sys.getsizeof(b))\n",
    "print(isinstance(b,float))"
   ]
  },
  {
   "cell_type": "code",
   "execution_count": 25,
   "id": "e1ea1615-475a-4ed2-98b6-2eed16a467e6",
   "metadata": {},
   "outputs": [
    {
     "name": "stdout",
     "output_type": "stream",
     "text": [
      "<class 'complex'>\n",
      "32\n",
      "True\n"
     ]
    }
   ],
   "source": [
    "# complex\n",
    "c = 2 + 5j\n",
    "print(type(c))\n",
    "print(sys.getsizeof(c))\n",
    "print(isinstance(c,complex))"
   ]
  },
  {
   "cell_type": "code",
   "execution_count": 27,
   "id": "49faa80d-a58c-40c1-a64b-78a842219ef4",
   "metadata": {},
   "outputs": [
    {
     "name": "stdout",
     "output_type": "stream",
     "text": [
      "<class 'bool'>\n"
     ]
    }
   ],
   "source": [
    "# boolean\n",
    "d = True\n",
    "print(type(d))\n"
   ]
  },
  {
   "cell_type": "code",
   "execution_count": 29,
   "id": "2f0dc0be-115f-4d99-9230-aea4c720dfb2",
   "metadata": {},
   "outputs": [
    {
     "name": "stdout",
     "output_type": "stream",
     "text": [
      "<class 'str'>\n"
     ]
    }
   ],
   "source": [
    "# string\n",
    "e = \"Hello Everyone\"\n",
    "print(type(e))"
   ]
  },
  {
   "cell_type": "markdown",
   "id": "e4cc4f66-1b76-478b-b25d-23a466314fe3",
   "metadata": {},
   "source": [
    "## Typecasting / Typeconversion\n",
    "- Converting one datatype to another datatype\n",
    "- two types - Auto typecasting and Forced typecasting\n",
    "- Auto Typecasting - Python interpretor directly converts the datatype based on a hierarchy\n",
    "- Forced Typecasting - We can manually convert one datatype into another using predefined functions.\n",
    "- <b> In Autotypecasting conversion happens from lower datattype to higher datatype. </b>\n",
    "### Predefined functions in Forced Typecasting\n",
    "- int()\n",
    "- float()\n",
    "- complex()\n",
    "- bool()\n",
    "- str()"
   ]
  },
  {
   "cell_type": "code",
   "execution_count": 58,
   "id": "5c33f064-5b38-43de-9910-21e075c1b19f",
   "metadata": {},
   "outputs": [
    {
     "data": {
      "text/plain": [
       "8.4"
      ]
     },
     "execution_count": 58,
     "metadata": {},
     "output_type": "execute_result"
    }
   ],
   "source": [
    "# AutoTypecasting\n",
    "5 + 2.4 + True \n",
    "# in this example the highest priority is given to float according to the hierarchy and the other datatypes are converted to float\n",
    "# therefore we get 8.4 as the sum"
   ]
  },
  {
   "cell_type": "code",
   "execution_count": 60,
   "id": "82c4f2ee-5e3c-4522-a5a5-5a5c43834f28",
   "metadata": {},
   "outputs": [
    {
     "data": {
      "text/plain": [
       "(9.5+5j)"
      ]
     },
     "execution_count": 60,
     "metadata": {},
     "output_type": "execute_result"
    }
   ],
   "source": [
    "(3 + 5j) + 4 + False + 2.5"
   ]
  },
  {
   "cell_type": "code",
   "execution_count": 72,
   "id": "3adf0940-ee42-47be-b809-614e2d21e974",
   "metadata": {},
   "outputs": [
    {
     "ename": "TypeError",
     "evalue": "unsupported operand type(s) for +: 'float' and 'str'",
     "output_type": "error",
     "traceback": [
      "\u001b[1;31m---------------------------------------------------------------------------\u001b[0m",
      "\u001b[1;31mTypeError\u001b[0m                                 Traceback (most recent call last)",
      "Cell \u001b[1;32mIn[72], line 1\u001b[0m\n\u001b[1;32m----> 1\u001b[0m \u001b[38;5;241m4\u001b[39m \u001b[38;5;241m+\u001b[39m \u001b[38;5;241m1.5\u001b[39m \u001b[38;5;241m+\u001b[39m \u001b[38;5;28;01mTrue\u001b[39;00m \u001b[38;5;241m+\u001b[39m \u001b[38;5;124m'\u001b[39m\u001b[38;5;124mhi\u001b[39m\u001b[38;5;124m'\u001b[39m\n",
      "\u001b[1;31mTypeError\u001b[0m: unsupported operand type(s) for +: 'float' and 'str'"
     ]
    }
   ],
   "source": [
    "4 + 1.5 + True + 'hi' # we get an error here because the string datatype cannot get added to vice versa"
   ]
  },
  {
   "cell_type": "code",
   "execution_count": 66,
   "id": "38c8f223-7641-4983-a11a-022457a9a4a0",
   "metadata": {},
   "outputs": [
    {
     "name": "stdout",
     "output_type": "stream",
     "text": [
      "5\n",
      "5.6\n",
      "(5.6+0j)\n",
      "True\n",
      "5.6\n"
     ]
    }
   ],
   "source": [
    "# Forced Typecasting\n",
    "a = 5.6\n",
    "print(int(a))\n",
    "print(float(a))\n",
    "print(complex(a))\n",
    "print(bool(a))\n",
    "print(str(a))"
   ]
  },
  {
   "cell_type": "code",
   "execution_count": 70,
   "id": "9d242ab8-89e4-4848-a40b-2d8fdf76fccc",
   "metadata": {},
   "outputs": [
    {
     "name": "stdout",
     "output_type": "stream",
     "text": [
      "5\n",
      "5.0\n",
      "(5+0j)\n",
      "True\n",
      "5\n"
     ]
    }
   ],
   "source": [
    "b = 5\n",
    "print(int(b))\n",
    "print(float(b))\n",
    "print(complex(b))\n",
    "print(bool(b))\n",
    "print(str(b))"
   ]
  },
  {
   "cell_type": "code",
   "execution_count": 84,
   "id": "67334969-17aa-46e0-a420-00730ad81ead",
   "metadata": {},
   "outputs": [
    {
     "name": "stdout",
     "output_type": "stream",
     "text": [
      "True\n"
     ]
    },
    {
     "data": {
      "text/plain": [
       "'(3+4j)'"
      ]
     },
     "execution_count": 84,
     "metadata": {},
     "output_type": "execute_result"
    }
   ],
   "source": [
    "c = 3 + 4j\n",
    "print(bool(c))\n",
    "str(c)"
   ]
  },
  {
   "cell_type": "code",
   "execution_count": 90,
   "id": "13e8ae8e-8549-4bfc-b69e-7e682ed2e210",
   "metadata": {},
   "outputs": [
    {
     "name": "stdout",
     "output_type": "stream",
     "text": [
      "1\n",
      "1.0\n",
      "(1+0j)\n",
      "True\n"
     ]
    }
   ],
   "source": [
    "d = True\n",
    "print(int(d))\n",
    "print(float(d))\n",
    "print(complex(d))\n",
    "print(str(d))"
   ]
  },
  {
   "cell_type": "code",
   "execution_count": 98,
   "id": "49ed25c8-a7ca-490f-8bb2-79f03231e409",
   "metadata": {},
   "outputs": [
    {
     "name": "stdout",
     "output_type": "stream",
     "text": [
      "True\n"
     ]
    }
   ],
   "source": [
    "e = 'Hello'\n",
    "print(bool(e))"
   ]
  },
  {
   "cell_type": "code",
   "execution_count": 102,
   "id": "1d4b424b-4d38-4d60-b11e-54a873bd760c",
   "metadata": {},
   "outputs": [
    {
     "data": {
      "text/plain": [
       "(9+5j)"
      ]
     },
     "execution_count": 102,
     "metadata": {},
     "output_type": "execute_result"
    }
   ],
   "source": [
    "int(4.5) + float(2) + (3 + 5j)\n",
    "# 4 + 2.0 + (3 + 5j)\n",
    "# (4 + 0j) + (2.0 + 0j) + (3 + 5j)"
   ]
  },
  {
   "cell_type": "code",
   "execution_count": 106,
   "id": "64ae6d68-6037-4d4b-93a8-e68280551d4b",
   "metadata": {},
   "outputs": [
    {
     "data": {
      "text/plain": [
       "8.0"
      ]
     },
     "execution_count": 106,
     "metadata": {},
     "output_type": "execute_result"
    }
   ],
   "source": [
    "float('5') + int(2.4) + True"
   ]
  },
  {
   "cell_type": "code",
   "execution_count": 110,
   "id": "f294f713-55ee-4395-bd95-245377ce5855",
   "metadata": {},
   "outputs": [
    {
     "data": {
      "text/plain": [
       "4"
      ]
     },
     "execution_count": 110,
     "metadata": {},
     "output_type": "execute_result"
    }
   ],
   "source": [
    "int('4')"
   ]
  },
  {
   "cell_type": "markdown",
   "id": "0b6a2266-4f6c-405a-a003-86b673cd79de",
   "metadata": {},
   "source": [
    "# Operators\n",
    "## Arithmetic operators:"
   ]
  },
  {
   "cell_type": "code",
   "execution_count": 11,
   "id": "af98acb0-3329-474f-bea9-9b145b9342aa",
   "metadata": {},
   "outputs": [
    {
     "name": "stdout",
     "output_type": "stream",
     "text": [
      "5\n",
      "1\n",
      "4\n",
      "2.0\n",
      "2\n",
      "16\n",
      "2\n"
     ]
    }
   ],
   "source": [
    "print(3+2)\n",
    "print(3-2)\n",
    "print(2*2)\n",
    "print(6/3) #Float Division\n",
    "print(6//3) #Floor Division\n",
    "print(4**2) #Exponent\n",
    "print(12%5) #Modulo"
   ]
  },
  {
   "cell_type": "markdown",
   "id": "2e04233e-fd5c-4fc7-9250-7a8d3d7ede23",
   "metadata": {},
   "source": [
    "## Comparison opertaor"
   ]
  },
  {
   "cell_type": "code",
   "execution_count": 15,
   "id": "ecaa743a-ce9f-4719-bcd3-af73f64c9f23",
   "metadata": {},
   "outputs": [],
   "source": [
    "a1 = 10\n",
    "a2 = 15\n",
    "a3 = 12"
   ]
  },
  {
   "cell_type": "code",
   "execution_count": 17,
   "id": "77db5af5-4634-4344-a576-46f11f56279b",
   "metadata": {},
   "outputs": [
    {
     "data": {
      "text/plain": [
       "False"
      ]
     },
     "execution_count": 17,
     "metadata": {},
     "output_type": "execute_result"
    }
   ],
   "source": [
    "a1 > a2"
   ]
  },
  {
   "cell_type": "code",
   "execution_count": 19,
   "id": "03af2029-78d5-48fb-bb34-ea91da23032b",
   "metadata": {},
   "outputs": [
    {
     "data": {
      "text/plain": [
       "False"
      ]
     },
     "execution_count": 19,
     "metadata": {},
     "output_type": "execute_result"
    }
   ],
   "source": [
    "a2 < a1"
   ]
  },
  {
   "cell_type": "code",
   "execution_count": 21,
   "id": "cf190750-9baa-48c8-823e-80b5e87f9159",
   "metadata": {},
   "outputs": [
    {
     "data": {
      "text/plain": [
       "False"
      ]
     },
     "execution_count": 21,
     "metadata": {},
     "output_type": "execute_result"
    }
   ],
   "source": [
    "a1 == a2"
   ]
  },
  {
   "cell_type": "code",
   "execution_count": 23,
   "id": "bf16db38-6556-4084-80ca-cea0eebdec24",
   "metadata": {},
   "outputs": [
    {
     "data": {
      "text/plain": [
       "True"
      ]
     },
     "execution_count": 23,
     "metadata": {},
     "output_type": "execute_result"
    }
   ],
   "source": [
    "a1 <= a2"
   ]
  },
  {
   "cell_type": "code",
   "execution_count": 25,
   "id": "f5baeab2-458d-49a1-b232-89a9570970c7",
   "metadata": {},
   "outputs": [
    {
     "data": {
      "text/plain": [
       "True"
      ]
     },
     "execution_count": 25,
     "metadata": {},
     "output_type": "execute_result"
    }
   ],
   "source": [
    "a2 >= a3"
   ]
  },
  {
   "cell_type": "code",
   "execution_count": 27,
   "id": "56e1c3d6-8b9a-46e3-b31c-8d5820c7682e",
   "metadata": {},
   "outputs": [
    {
     "data": {
      "text/plain": [
       "True"
      ]
     },
     "execution_count": 27,
     "metadata": {},
     "output_type": "execute_result"
    }
   ],
   "source": [
    "a2 != a3"
   ]
  },
  {
   "cell_type": "markdown",
   "id": "7b54ca58-22c0-44b8-999d-f44ae4b77092",
   "metadata": {},
   "source": [
    "### Logical Operator"
   ]
  },
  {
   "cell_type": "code",
   "execution_count": 32,
   "id": "0035a4f7-c695-421b-a6cd-33da90d39ef0",
   "metadata": {},
   "outputs": [],
   "source": [
    "a1 = True\n",
    "a2 = False\n",
    "a3 = True\n",
    "a4 = False"
   ]
  },
  {
   "cell_type": "code",
   "execution_count": 34,
   "id": "811e4d58-a570-43e1-a001-3ea83ac7845d",
   "metadata": {},
   "outputs": [
    {
     "data": {
      "text/plain": [
       "True"
      ]
     },
     "execution_count": 34,
     "metadata": {},
     "output_type": "execute_result"
    }
   ],
   "source": [
    "a1 and a3"
   ]
  },
  {
   "cell_type": "code",
   "execution_count": 36,
   "id": "64a22582-fc7e-418d-9c78-5c9fea31fa49",
   "metadata": {},
   "outputs": [
    {
     "data": {
      "text/plain": [
       "False"
      ]
     },
     "execution_count": 36,
     "metadata": {},
     "output_type": "execute_result"
    }
   ],
   "source": [
    "a2 and a4"
   ]
  },
  {
   "cell_type": "code",
   "execution_count": 38,
   "id": "5978a19c-8173-487e-8ec6-28284dfdf5c4",
   "metadata": {},
   "outputs": [
    {
     "data": {
      "text/plain": [
       "False"
      ]
     },
     "execution_count": 38,
     "metadata": {},
     "output_type": "execute_result"
    }
   ],
   "source": [
    "a1 and a2"
   ]
  },
  {
   "cell_type": "code",
   "execution_count": 44,
   "id": "c351c726-dfac-49d6-bab5-d38487f4845b",
   "metadata": {},
   "outputs": [
    {
     "data": {
      "text/plain": [
       "True"
      ]
     },
     "execution_count": 44,
     "metadata": {},
     "output_type": "execute_result"
    }
   ],
   "source": [
    "a1 or a4"
   ]
  },
  {
   "cell_type": "code",
   "execution_count": 46,
   "id": "79fb1269-a185-4ad9-84ac-885b51ec66c7",
   "metadata": {},
   "outputs": [
    {
     "data": {
      "text/plain": [
       "True"
      ]
     },
     "execution_count": 46,
     "metadata": {},
     "output_type": "execute_result"
    }
   ],
   "source": [
    "a3 or a4"
   ]
  },
  {
   "cell_type": "markdown",
   "id": "48c0b892-abc3-45e6-9032-16daad7f94a0",
   "metadata": {},
   "source": [
    "## Membership Operator"
   ]
  },
  {
   "cell_type": "code",
   "execution_count": 54,
   "id": "37fa7143-913c-474b-be8d-5604e6c6f9ce",
   "metadata": {},
   "outputs": [
    {
     "name": "stdout",
     "output_type": "stream",
     "text": [
      "14\n"
     ]
    }
   ],
   "source": [
    "a1 = \"hello everyone\"\n",
    "print(len(a1))"
   ]
  },
  {
   "cell_type": "code",
   "execution_count": 56,
   "id": "365b844d-c0ed-4f95-a564-f266877545ed",
   "metadata": {},
   "outputs": [
    {
     "data": {
      "text/plain": [
       "True"
      ]
     },
     "execution_count": 56,
     "metadata": {},
     "output_type": "execute_result"
    }
   ],
   "source": [
    "\"v\" in a1"
   ]
  },
  {
   "cell_type": "code",
   "execution_count": 58,
   "id": "0dd1ba5c-2f58-4ab5-ba2e-19875d6a7527",
   "metadata": {},
   "outputs": [
    {
     "data": {
      "text/plain": [
       "False"
      ]
     },
     "execution_count": 58,
     "metadata": {},
     "output_type": "execute_result"
    }
   ],
   "source": [
    "\"x\" in a1"
   ]
  },
  {
   "cell_type": "code",
   "execution_count": 60,
   "id": "6ed22ebb-c096-47e5-ae9f-3cd524c962f0",
   "metadata": {},
   "outputs": [
    {
     "data": {
      "text/plain": [
       "False"
      ]
     },
     "execution_count": 60,
     "metadata": {},
     "output_type": "execute_result"
    }
   ],
   "source": [
    "\"v\" not in a1"
   ]
  },
  {
   "cell_type": "code",
   "execution_count": 62,
   "id": "72524fb4-1a2c-4de8-8a75-721d0830bf57",
   "metadata": {},
   "outputs": [
    {
     "data": {
      "text/plain": [
       "True"
      ]
     },
     "execution_count": 62,
     "metadata": {},
     "output_type": "execute_result"
    }
   ],
   "source": [
    "\"x\" not in a1"
   ]
  },
  {
   "cell_type": "markdown",
   "id": "bac401dc-effe-42eb-99c6-9fdf2177c6a8",
   "metadata": {},
   "source": [
    "### 22/04/2025"
   ]
  },
  {
   "cell_type": "markdown",
   "id": "87575017-4111-4ac0-9b0e-a5d92ce7a27e",
   "metadata": {},
   "source": [
    "# Data Structures\n",
    "- List\n",
    "- Tuple\n",
    "- Set\n",
    "- Dictionary\n",
    "  "
   ]
  },
  {
   "cell_type": "markdown",
   "id": "430cf282-2f7d-4a2f-b101-ff5dffe44071",
   "metadata": {},
   "source": [
    "## List\n",
    "- List is enclosed in a square bracket '[]'.\n",
    "- List allows duplicates.\n",
    "- List is mutable, which means we can modify the list later.\n",
    "- List is ordered.\n",
    "- List is indexed.\n"
   ]
  },
  {
   "cell_type": "code",
   "execution_count": 9,
   "id": "4404bcf3-9b3c-431d-a198-94cfb25394db",
   "metadata": {},
   "outputs": [
    {
     "data": {
      "text/plain": [
       "[34, 32, 53, 23, 56, 23, 10, 88]"
      ]
     },
     "execution_count": 9,
     "metadata": {},
     "output_type": "execute_result"
    }
   ],
   "source": [
    "a1 = [34, 32, 53, 23, 56, 23, 10, 88]   #list of integers\n",
    "a1"
   ]
  },
  {
   "cell_type": "code",
   "execution_count": 7,
   "id": "520c6a4a-330e-4d35-bc3c-e291d73845fe",
   "metadata": {},
   "outputs": [
    {
     "data": {
      "text/plain": [
       "list"
      ]
     },
     "execution_count": 7,
     "metadata": {},
     "output_type": "execute_result"
    }
   ],
   "source": [
    "type(a1)"
   ]
  },
  {
   "cell_type": "code",
   "execution_count": 17,
   "id": "59955966-7b24-4858-a00b-2915db837b7c",
   "metadata": {},
   "outputs": [
    {
     "name": "stdout",
     "output_type": "stream",
     "text": [
      "[12.5, 35.3, 23.5]\n"
     ]
    },
    {
     "data": {
      "text/plain": [
       "list"
      ]
     },
     "execution_count": 17,
     "metadata": {},
     "output_type": "execute_result"
    }
   ],
   "source": [
    "a2 = [12.5, 35.3, 23.5]  #list of floats\n",
    "print(a2)\n",
    "type(a2)"
   ]
  },
  {
   "cell_type": "code",
   "execution_count": 21,
   "id": "b798275c-7483-4a42-afcf-5ec390cc7187",
   "metadata": {},
   "outputs": [
    {
     "name": "stdout",
     "output_type": "stream",
     "text": [
      "['Apple', 'Banana', 45, True, 12.5]\n"
     ]
    },
    {
     "data": {
      "text/plain": [
       "list"
      ]
     },
     "execution_count": 21,
     "metadata": {},
     "output_type": "execute_result"
    }
   ],
   "source": [
    "a3 = [\"Apple\", \"Banana\", 45, True, 12.5] #Mixed list\n",
    "print(a3)\n",
    "type(a3)"
   ]
  },
  {
   "cell_type": "code",
   "execution_count": 114,
   "id": "9ccaef3b-2d5e-4391-b9bd-d92463cecf04",
   "metadata": {},
   "outputs": [
    {
     "name": "stdout",
     "output_type": "stream",
     "text": [
      "[3, 5, [4, 9, 6], 2, 4]\n"
     ]
    },
    {
     "data": {
      "text/plain": [
       "list"
      ]
     },
     "execution_count": 114,
     "metadata": {},
     "output_type": "execute_result"
    }
   ],
   "source": [
    "a4 = [3, 5, [4, 9, 6], 2, 4]    #Nested list\n",
    "print(a4)\n",
    "type(a4)"
   ]
  },
  {
   "cell_type": "markdown",
   "id": "efe94ae7-ca33-411a-a9d0-602b4e692bce",
   "metadata": {},
   "source": [
    "## List indexing and slicing\n",
    "syntax : [ start : end : step ]"
   ]
  },
  {
   "cell_type": "code",
   "execution_count": 3,
   "id": "e210f518-567f-44a0-b13b-1efc299e852c",
   "metadata": {},
   "outputs": [],
   "source": [
    "a5 = [12, 14, 17, 19, 7, 3, 22, 8, 32, 29, 25]"
   ]
  },
  {
   "cell_type": "code",
   "execution_count": 123,
   "id": "0f341e9e-79cd-4019-9ec3-30d0c50ee96c",
   "metadata": {},
   "outputs": [
    {
     "data": {
      "text/plain": [
       "11"
      ]
     },
     "execution_count": 123,
     "metadata": {},
     "output_type": "execute_result"
    }
   ],
   "source": [
    "len(a5)"
   ]
  },
  {
   "cell_type": "code",
   "execution_count": 19,
   "id": "fbdd80fc-60a9-4b19-bf0f-9559c0c4bb98",
   "metadata": {},
   "outputs": [
    {
     "data": {
      "text/plain": [
       "[25, 29, 32, 8, 22, 3, 7, 19, 17, 14, 12]"
      ]
     },
     "execution_count": 19,
     "metadata": {},
     "output_type": "execute_result"
    }
   ],
   "source": [
    "a5[::-1]"
   ]
  },
  {
   "cell_type": "code",
   "execution_count": 11,
   "id": "598da3b2-fa14-48a8-8d7c-814ae385e428",
   "metadata": {},
   "outputs": [
    {
     "data": {
      "text/plain": [
       "[12, 17, 7, 22, 32, 25]"
      ]
     },
     "execution_count": 11,
     "metadata": {},
     "output_type": "execute_result"
    }
   ],
   "source": [
    "a5[::2]"
   ]
  },
  {
   "cell_type": "code",
   "execution_count": 126,
   "id": "da61082e-ef5f-4d02-b37d-caf606dca0bf",
   "metadata": {},
   "outputs": [
    {
     "data": {
      "text/plain": [
       "[12, 14, 17, 19, 7]"
      ]
     },
     "execution_count": 126,
     "metadata": {},
     "output_type": "execute_result"
    }
   ],
   "source": [
    "a5[:5]"
   ]
  },
  {
   "cell_type": "code",
   "execution_count": 127,
   "id": "9920de38-02d4-4bf0-8019-4557d4726f74",
   "metadata": {},
   "outputs": [
    {
     "data": {
      "text/plain": [
       "[12, 14, 17, 19, 7]"
      ]
     },
     "execution_count": 127,
     "metadata": {},
     "output_type": "execute_result"
    }
   ],
   "source": [
    "a5[:-6]"
   ]
  },
  {
   "cell_type": "code",
   "execution_count": 128,
   "id": "980f5e71-d6d8-4e83-bef8-a3ae22a07875",
   "metadata": {},
   "outputs": [
    {
     "data": {
      "text/plain": [
       "[22, 8, 32, 29, 25]"
      ]
     },
     "execution_count": 128,
     "metadata": {},
     "output_type": "execute_result"
    }
   ],
   "source": [
    "a5[6:]"
   ]
  },
  {
   "cell_type": "code",
   "execution_count": 129,
   "id": "ea165ac0-e9c0-4f64-a4fc-9635ab118119",
   "metadata": {},
   "outputs": [
    {
     "data": {
      "text/plain": [
       "[22, 8, 32, 29, 25]"
      ]
     },
     "execution_count": 129,
     "metadata": {},
     "output_type": "execute_result"
    }
   ],
   "source": [
    "a5[-5:]"
   ]
  },
  {
   "cell_type": "code",
   "execution_count": 130,
   "id": "7772a634-40b4-4e1d-b313-f636dde6fbc1",
   "metadata": {},
   "outputs": [
    {
     "data": {
      "text/plain": [
       "[32, 8, 22, 3, 7, 19, 17]"
      ]
     },
     "execution_count": 130,
     "metadata": {},
     "output_type": "execute_result"
    }
   ],
   "source": [
    "a5[8:1:-1] #when we use step as -1 it reverses the order"
   ]
  },
  {
   "cell_type": "code",
   "execution_count": 131,
   "id": "d982d235-5785-43eb-92e2-990077e40c42",
   "metadata": {},
   "outputs": [
    {
     "data": {
      "text/plain": [
       "[32, 8, 22, 3, 7, 19, 17]"
      ]
     },
     "execution_count": 131,
     "metadata": {},
     "output_type": "execute_result"
    }
   ],
   "source": [
    "a5[-3:-10:-1]"
   ]
  },
  {
   "cell_type": "code",
   "execution_count": 132,
   "id": "b57a63f6-89cf-4129-a95a-cae99cb92f0d",
   "metadata": {},
   "outputs": [
    {
     "data": {
      "text/plain": [
       "[25, 29, 32, 8, 22, 3, 7, 19, 17, 14, 12]"
      ]
     },
     "execution_count": 132,
     "metadata": {},
     "output_type": "execute_result"
    }
   ],
   "source": [
    "a5[::-1]"
   ]
  },
  {
   "cell_type": "code",
   "execution_count": 133,
   "id": "6e330943-69bf-46c1-9cb5-70f9d36475db",
   "metadata": {},
   "outputs": [
    {
     "data": {
      "text/plain": [
       "[2, 4, 6, 8, 10, 1, 3, 5, 7, 9, 11, 13, 15, 17, 12, 14]"
      ]
     },
     "execution_count": 133,
     "metadata": {},
     "output_type": "execute_result"
    }
   ],
   "source": [
    "a6=[2,4,6,8,10,1,3,5,7,9,11,13,15,17,12,14]\n",
    "a6"
   ]
  },
  {
   "cell_type": "code",
   "execution_count": 134,
   "id": "c0bd7a01-d6b6-444f-bf21-47c35c45ce75",
   "metadata": {},
   "outputs": [
    {
     "data": {
      "text/plain": [
       "[8, 1, 5, 9, 13, 17]"
      ]
     },
     "execution_count": 134,
     "metadata": {},
     "output_type": "execute_result"
    }
   ],
   "source": [
    "a6[3:14:2]"
   ]
  },
  {
   "cell_type": "code",
   "execution_count": 135,
   "id": "248f6108-e1ff-4268-b138-079a542d0cf2",
   "metadata": {},
   "outputs": [
    {
     "data": {
      "text/plain": [
       "[8, 1, 5, 9, 13, 17]"
      ]
     },
     "execution_count": 135,
     "metadata": {},
     "output_type": "execute_result"
    }
   ],
   "source": [
    "a6[-13:-2:2]"
   ]
  },
  {
   "cell_type": "code",
   "execution_count": 136,
   "id": "1c31a19a-ddf6-4719-b528-dbd44f69b85f",
   "metadata": {},
   "outputs": [
    {
     "data": {
      "text/plain": [
       "[17, 13, 9, 5, 1, 8]"
      ]
     },
     "execution_count": 136,
     "metadata": {},
     "output_type": "execute_result"
    }
   ],
   "source": [
    "a6[13:2:-2]"
   ]
  },
  {
   "cell_type": "code",
   "execution_count": 137,
   "id": "575a4d6b-a9a5-4bbe-b811-244938c5eb02",
   "metadata": {},
   "outputs": [
    {
     "data": {
      "text/plain": [
       "[17, 13, 9, 5, 1, 8]"
      ]
     },
     "execution_count": 137,
     "metadata": {},
     "output_type": "execute_result"
    }
   ],
   "source": [
    "a6[-3:-14:-2]"
   ]
  },
  {
   "cell_type": "code",
   "execution_count": 116,
   "id": "2d3b8c38-d823-407d-a910-24911080b1b8",
   "metadata": {},
   "outputs": [
    {
     "data": {
      "text/plain": [
       "[4, 9, 6]"
      ]
     },
     "execution_count": 116,
     "metadata": {},
     "output_type": "execute_result"
    }
   ],
   "source": [
    "a4[2]"
   ]
  },
  {
   "cell_type": "code",
   "execution_count": 120,
   "id": "62177770-09a3-4f42-8f0a-8aa5a9601afe",
   "metadata": {},
   "outputs": [
    {
     "data": {
      "text/plain": [
       "9"
      ]
     },
     "execution_count": 120,
     "metadata": {},
     "output_type": "execute_result"
    }
   ],
   "source": [
    "a4[2][1]"
   ]
  },
  {
   "cell_type": "markdown",
   "id": "9866f269-0a96-467b-b846-6ec27ae376cd",
   "metadata": {},
   "source": [
    "### Add, change and remove items of list (Modification):"
   ]
  },
  {
   "cell_type": "code",
   "execution_count": 25,
   "id": "357b6027-a447-40eb-a6e5-bf48a32ac71c",
   "metadata": {},
   "outputs": [
    {
     "data": {
      "text/plain": [
       "[1, 2, 3, 4, 5, 6]"
      ]
     },
     "execution_count": 25,
     "metadata": {},
     "output_type": "execute_result"
    }
   ],
   "source": [
    "l1 = [1,2,3,4,5,6]\n",
    "l1"
   ]
  },
  {
   "cell_type": "code",
   "execution_count": 31,
   "id": "22b09e13-aebf-4891-bcd5-c95e2f3876ea",
   "metadata": {},
   "outputs": [
    {
     "data": {
      "text/plain": [
       "[1, 2, 3, 8, 8, 8, 4, 5, 6]"
      ]
     },
     "execution_count": 31,
     "metadata": {},
     "output_type": "execute_result"
    }
   ],
   "source": [
    "l1.insert(3,8)\n",
    "l1"
   ]
  },
  {
   "cell_type": "markdown",
   "id": "9a9deb18-8cc6-440f-8bc0-409fd9907d29",
   "metadata": {},
   "source": [
    "### append() - add a single element at the end of the list"
   ]
  },
  {
   "cell_type": "code",
   "execution_count": 183,
   "id": "24c5d95f-f4e2-45af-846b-7d8078f3ad71",
   "metadata": {},
   "outputs": [
    {
     "name": "stdout",
     "output_type": "stream",
     "text": [
      "[1, 2, 3, 4, 5, 6, 7]\n"
     ]
    }
   ],
   "source": [
    "l1.append(7)\n",
    "print(l1)"
   ]
  },
  {
   "cell_type": "code",
   "execution_count": 185,
   "id": "3255fbf6-06b0-4319-9146-0e06f734271f",
   "metadata": {},
   "outputs": [],
   "source": [
    "l1.append(8)"
   ]
  },
  {
   "cell_type": "code",
   "execution_count": 187,
   "id": "8db2b99a-5ed2-4123-ae71-2706ace252b0",
   "metadata": {},
   "outputs": [
    {
     "data": {
      "text/plain": [
       "[1, 2, 3, 4, 5, 6, 7, 8]"
      ]
     },
     "execution_count": 187,
     "metadata": {},
     "output_type": "execute_result"
    }
   ],
   "source": [
    "l1"
   ]
  },
  {
   "cell_type": "markdown",
   "id": "0305e779-a193-49d1-af6e-ebc677bd7673",
   "metadata": {},
   "source": [
    "### extend() - add multiple elements at the end of the list"
   ]
  },
  {
   "cell_type": "code",
   "execution_count": 194,
   "id": "c1ed75bf-a0e8-48d2-b737-5b527c145b2e",
   "metadata": {},
   "outputs": [],
   "source": [
    "l1.extend([9,10,11])"
   ]
  },
  {
   "cell_type": "code",
   "execution_count": 33,
   "id": "78a1759e-4040-4445-ab8e-f2882cf80a6f",
   "metadata": {},
   "outputs": [
    {
     "data": {
      "text/plain": [
       "[1, 2, 3, 8, 8, 8, 4, 5, 6]"
      ]
     },
     "execution_count": 33,
     "metadata": {},
     "output_type": "execute_result"
    }
   ],
   "source": [
    "l1"
   ]
  },
  {
   "cell_type": "markdown",
   "id": "a1ee1160-ca35-4f9e-ac6b-811bcde19468",
   "metadata": {},
   "source": [
    "### insert() - add element at a specific position in the list"
   ]
  },
  {
   "cell_type": "markdown",
   "id": "eba3f872-b77f-4f96-ae31-219b3d526a7a",
   "metadata": {},
   "source": [
    "##### Syntax - list_name.insert(position, value)"
   ]
  },
  {
   "cell_type": "code",
   "execution_count": 35,
   "id": "385680ef-ab25-4006-8d20-da15f89108d2",
   "metadata": {},
   "outputs": [],
   "source": [
    "l1.insert(5, 13)"
   ]
  },
  {
   "cell_type": "code",
   "execution_count": 211,
   "id": "cc5ce581-bd1a-4318-9ac4-bf3898a879bd",
   "metadata": {},
   "outputs": [
    {
     "data": {
      "text/plain": [
       "[1, 2, 3, 4, 5, 6, 7, 8, 9, 10, 11, 12, 12, 13]"
      ]
     },
     "execution_count": 211,
     "metadata": {},
     "output_type": "execute_result"
    }
   ],
   "source": [
    "l1"
   ]
  },
  {
   "cell_type": "code",
   "execution_count": 215,
   "id": "941ec881-8af1-4488-a92a-9160c6b280b5",
   "metadata": {},
   "outputs": [],
   "source": [
    "l1[-1] = 14"
   ]
  },
  {
   "cell_type": "code",
   "execution_count": 217,
   "id": "cb76aadb-af2f-46db-95d9-7b5dab8f6a9b",
   "metadata": {},
   "outputs": [
    {
     "data": {
      "text/plain": [
       "[1, 2, 3, 4, 5, 6, 7, 8, 9, 10, 11, 12, 13, 14]"
      ]
     },
     "execution_count": 217,
     "metadata": {},
     "output_type": "execute_result"
    }
   ],
   "source": [
    "l1[-2] = 13\n",
    "l1"
   ]
  },
  {
   "cell_type": "markdown",
   "id": "2fb1aa07-c383-4d06-a6d1-eeb7c135cb02",
   "metadata": {},
   "source": [
    "### pop() - removes the element at given index location\n",
    "Syntax - list_name.pop(position) /\n",
    "by default it will remove the last element"
   ]
  },
  {
   "cell_type": "code",
   "execution_count": 219,
   "id": "4d5ece1c-af47-4b18-a36c-801d09b43970",
   "metadata": {},
   "outputs": [
    {
     "data": {
      "text/plain": [
       "14"
      ]
     },
     "execution_count": 219,
     "metadata": {},
     "output_type": "execute_result"
    }
   ],
   "source": [
    "l1.pop(-1)"
   ]
  },
  {
   "cell_type": "code",
   "execution_count": 221,
   "id": "90d405c8-63ef-49b1-9c6c-ab2f4f686338",
   "metadata": {},
   "outputs": [
    {
     "data": {
      "text/plain": [
       "[1, 2, 3, 4, 5, 6, 7, 8, 9, 10, 11, 12, 13]"
      ]
     },
     "execution_count": 221,
     "metadata": {},
     "output_type": "execute_result"
    }
   ],
   "source": [
    "l1"
   ]
  },
  {
   "cell_type": "markdown",
   "id": "f910528f-8c3c-4004-8871-efb39a4c70a5",
   "metadata": {},
   "source": [
    "### del - it is a keyword and can be used generally for lists, strings etc"
   ]
  },
  {
   "cell_type": "code",
   "execution_count": 227,
   "id": "6b4a74e7-226c-497f-97b8-02940335cda9",
   "metadata": {},
   "outputs": [
    {
     "data": {
      "text/plain": [
       "[1, 2, 3, 4, 5, 6, 7, 8, 9, 10, 11, 12]"
      ]
     },
     "execution_count": 227,
     "metadata": {},
     "output_type": "execute_result"
    }
   ],
   "source": [
    "del l1[-1]\n",
    "l1"
   ]
  },
  {
   "cell_type": "markdown",
   "id": "d3d2930b-44d0-47b6-8bf1-5245786a6ef1",
   "metadata": {},
   "source": [
    "### clear() - it removes all elements from the list without deleting the list"
   ]
  },
  {
   "cell_type": "code",
   "execution_count": 229,
   "id": "dd5bae7c-a86a-4d57-b254-2fc73e1146ea",
   "metadata": {},
   "outputs": [
    {
     "data": {
      "text/plain": [
       "[]"
      ]
     },
     "execution_count": 229,
     "metadata": {},
     "output_type": "execute_result"
    }
   ],
   "source": [
    "l1.clear()\n",
    "l1"
   ]
  },
  {
   "cell_type": "markdown",
   "id": "3e0d3429-ee26-447b-95ea-2ad45830a438",
   "metadata": {},
   "source": [
    "### Reversing and sorting the List"
   ]
  },
  {
   "cell_type": "markdown",
   "id": "f66bba1d-fc7d-424f-bcc7-57b609152aec",
   "metadata": {},
   "source": [
    "1. Temporary reversing"
   ]
  },
  {
   "cell_type": "code",
   "execution_count": 259,
   "id": "31219589-0ce8-45fb-a40f-9479df4ea2b8",
   "metadata": {},
   "outputs": [
    {
     "data": {
      "text/plain": [
       "[5, 4, 3, 2, 1]"
      ]
     },
     "execution_count": 259,
     "metadata": {},
     "output_type": "execute_result"
    }
   ],
   "source": [
    "l2 = [1,2,3,4,5]\n",
    "l2[::-1]"
   ]
  },
  {
   "cell_type": "markdown",
   "id": "b3904b6f-f0c4-47c5-88f0-a960634ef22f",
   "metadata": {},
   "source": [
    "2. Permanent reversing, method 1"
   ]
  },
  {
   "cell_type": "code",
   "execution_count": 249,
   "id": "c6fcb3b4-5c5d-404f-8bf7-3fe3c5b292a8",
   "metadata": {},
   "outputs": [],
   "source": [
    "l2 = [1,2,3,4,5]\n",
    "l2 = l2[::-1]"
   ]
  },
  {
   "cell_type": "code",
   "execution_count": 251,
   "id": "129fd2a6-08da-40fd-b1d4-91c3b31bfb1d",
   "metadata": {},
   "outputs": [
    {
     "data": {
      "text/plain": [
       "[5, 4, 3, 2, 1]"
      ]
     },
     "execution_count": 251,
     "metadata": {},
     "output_type": "execute_result"
    }
   ],
   "source": [
    "l2"
   ]
  },
  {
   "cell_type": "markdown",
   "id": "28411bfd-bb65-4b31-a249-ad2a77466870",
   "metadata": {},
   "source": [
    "3. Permanent reversing, method 2"
   ]
  },
  {
   "cell_type": "code",
   "execution_count": 253,
   "id": "3b197938-b0e5-432f-ab27-76afbd60d8d5",
   "metadata": {},
   "outputs": [],
   "source": [
    "l2.reverse()"
   ]
  },
  {
   "cell_type": "code",
   "execution_count": 255,
   "id": "f4ac5dc5-1310-4b0c-aa7a-5e4a2c43b165",
   "metadata": {},
   "outputs": [
    {
     "data": {
      "text/plain": [
       "[1, 2, 3, 4, 5]"
      ]
     },
     "execution_count": 255,
     "metadata": {},
     "output_type": "execute_result"
    }
   ],
   "source": [
    "l2"
   ]
  },
  {
   "cell_type": "markdown",
   "id": "6d127ee3-6fc1-4079-98f8-2873051416b5",
   "metadata": {},
   "source": [
    "4. Permanent sorting"
   ]
  },
  {
   "cell_type": "code",
   "execution_count": 267,
   "id": "205eae76-e607-45da-87ed-d91b496a084e",
   "metadata": {},
   "outputs": [],
   "source": [
    "l3 = [54, 3, 12, 66]\n",
    "l3.sort()"
   ]
  },
  {
   "cell_type": "code",
   "execution_count": 269,
   "id": "2718e688-53de-488d-a595-234b8b7e5e23",
   "metadata": {},
   "outputs": [
    {
     "data": {
      "text/plain": [
       "[3, 12, 54, 66]"
      ]
     },
     "execution_count": 269,
     "metadata": {},
     "output_type": "execute_result"
    }
   ],
   "source": [
    "l3"
   ]
  },
  {
   "cell_type": "code",
   "execution_count": 271,
   "id": "6ae0d554-41b3-43e1-b2a6-98f96a0526ab",
   "metadata": {},
   "outputs": [],
   "source": [
    "l3.sort(reverse= True)"
   ]
  },
  {
   "cell_type": "code",
   "execution_count": 273,
   "id": "2edfe495-94d2-4bcc-80cb-d7de3a1ef7c0",
   "metadata": {},
   "outputs": [
    {
     "data": {
      "text/plain": [
       "[66, 54, 12, 3]"
      ]
     },
     "execution_count": 273,
     "metadata": {},
     "output_type": "execute_result"
    }
   ],
   "source": [
    "l3"
   ]
  },
  {
   "cell_type": "markdown",
   "id": "9ad6b0aa-cdfc-4d0a-871c-a0b169041ec3",
   "metadata": {},
   "source": [
    "5. Temporary sorting"
   ]
  },
  {
   "cell_type": "code",
   "execution_count": 277,
   "id": "122317bf-86e8-4b81-a1c1-63d1f37b5fe4",
   "metadata": {},
   "outputs": [
    {
     "data": {
      "text/plain": [
       "[3, 12, 54, 66]"
      ]
     },
     "execution_count": 277,
     "metadata": {},
     "output_type": "execute_result"
    }
   ],
   "source": [
    "sorted(l3)"
   ]
  },
  {
   "cell_type": "code",
   "execution_count": 279,
   "id": "dc9cd5ea-75b0-4c2c-8d26-8f1f67fdc5a7",
   "metadata": {},
   "outputs": [
    {
     "data": {
      "text/plain": [
       "[66, 54, 12, 3]"
      ]
     },
     "execution_count": 279,
     "metadata": {},
     "output_type": "execute_result"
    }
   ],
   "source": [
    "sorted(l3, reverse=True)"
   ]
  },
  {
   "cell_type": "markdown",
   "id": "bf48ec5a-6d95-49d5-b14a-360f147ff011",
   "metadata": {},
   "source": [
    "## Tuple"
   ]
  },
  {
   "cell_type": "markdown",
   "id": "02782557-5c43-4f0f-953f-21d9db410f37",
   "metadata": {},
   "source": [
    "- Tuples are immutable which means once it is made, it cannot be modified\n",
    "- Tuples are ordered\n",
    "- Tuples are indexed\n",
    "- A tuple is enclosed in parenthesis '()'.\n",
    "- Tuples allow duplicate values.\n",
    "- Tuples are faster than lists"
   ]
  },
  {
   "cell_type": "code",
   "execution_count": 52,
   "id": "0a93fa47-554f-44dc-b33b-00a4ba02682d",
   "metadata": {},
   "outputs": [
    {
     "name": "stdout",
     "output_type": "stream",
     "text": [
      "(1, 2, 3, 4)\n"
     ]
    }
   ],
   "source": [
    "tup1 = (1,2,3,4)   #tuple of integers\n",
    "print(tup1)"
   ]
  },
  {
   "cell_type": "code",
   "execution_count": 40,
   "id": "ae3ecbf3-fffe-40dc-83f6-c17b8d9fadeb",
   "metadata": {},
   "outputs": [
    {
     "data": {
      "text/plain": [
       "tuple"
      ]
     },
     "execution_count": 40,
     "metadata": {},
     "output_type": "execute_result"
    }
   ],
   "source": [
    "type(tup1)"
   ]
  },
  {
   "cell_type": "code",
   "execution_count": 48,
   "id": "f2e22b4b-9e08-461e-90cb-acb75aff6f96",
   "metadata": {},
   "outputs": [
    {
     "name": "stdout",
     "output_type": "stream",
     "text": [
      "(1.3, 0.1, 23.1)\n"
     ]
    }
   ],
   "source": [
    "tup2 = (1.3, 0.1, 23.1)   #tuple of floats\n",
    "print(tup2)"
   ]
  },
  {
   "cell_type": "code",
   "execution_count": 46,
   "id": "09e0fbbe-202f-4a18-9487-f40f84dd22a1",
   "metadata": {},
   "outputs": [
    {
     "name": "stdout",
     "output_type": "stream",
     "text": [
      "('h', 'i')\n"
     ]
    }
   ],
   "source": [
    "tup3 = (\"h\",\"i\")   #tuple of strings\n",
    "print(tup3)"
   ]
  },
  {
   "cell_type": "code",
   "execution_count": 54,
   "id": "f62288ab-e61b-43b8-9329-de77126e6035",
   "metadata": {},
   "outputs": [
    {
     "name": "stdout",
     "output_type": "stream",
     "text": [
      "('A', 1, 1.5, True)\n"
     ]
    }
   ],
   "source": [
    "tup4 = (\"A\", 1, 1.5, True)   #mixed tuple\n",
    "print(tup4)"
   ]
  },
  {
   "cell_type": "code",
   "execution_count": 56,
   "id": "1da37907-643a-437a-be56-003b7ef8c2f7",
   "metadata": {},
   "outputs": [
    {
     "name": "stdout",
     "output_type": "stream",
     "text": [
      "(1, 2, (3, 4), 5)\n"
     ]
    }
   ],
   "source": [
    "tup5 = (1, 2, (3,4), 5)    #nested tuple\n",
    "print(tup5)"
   ]
  },
  {
   "cell_type": "code",
   "execution_count": 58,
   "id": "ce93b488-48f2-4fab-b48e-1ea5dbc05140",
   "metadata": {},
   "outputs": [
    {
     "name": "stdout",
     "output_type": "stream",
     "text": [
      "('a', 'b', ['A', 'B'])\n"
     ]
    }
   ],
   "source": [
    "tup6 = (\"a\", \"b\", [\"A\", \"B\"])   #list inside a tuple\n",
    "print(tup6)"
   ]
  },
  {
   "cell_type": "code",
   "execution_count": 60,
   "id": "ba03d489-e5b1-4356-b43a-36500fe74d4d",
   "metadata": {},
   "outputs": [
    {
     "name": "stdout",
     "output_type": "stream",
     "text": [
      "[23, 43, (1, 2, 3), 53]\n"
     ]
    }
   ],
   "source": [
    "lst1 = [23, 43, (1,2,3), 53]   #tuple inside a list\n",
    "print(lst1)"
   ]
  },
  {
   "cell_type": "markdown",
   "id": "02968307-d8fc-4f55-886c-b368e89d4c2b",
   "metadata": {},
   "source": [
    "### Tuple indexing and slicing -- same as list"
   ]
  },
  {
   "cell_type": "code",
   "execution_count": null,
   "id": "41dd2a0b-efd2-4729-8945-fc8d11f56a1d",
   "metadata": {},
   "outputs": [],
   "source": []
  },
  {
   "cell_type": "markdown",
   "id": "46a7167a-933b-4db7-9c2a-0f8160ca0fc5",
   "metadata": {},
   "source": [
    "## Some other useful methods"
   ]
  },
  {
   "cell_type": "markdown",
   "id": "1873acbd-386c-4851-af07-cbfe0d9c3952",
   "metadata": {},
   "source": [
    "1. count() - return the number of occurences of the given element"
   ]
  },
  {
   "cell_type": "code",
   "execution_count": 7,
   "id": "dd381ea6-43be-467a-b182-f8af898cdfe0",
   "metadata": {},
   "outputs": [],
   "source": [
    "lst2 = [1,2,3,4,5,5]\n",
    "tup7 = (1,2,3,4,5,4)\n",
    "str1= \"hello world\""
   ]
  },
  {
   "cell_type": "code",
   "execution_count": 9,
   "id": "d6ab1dba-0f07-47dd-94bc-8a3578e64b0a",
   "metadata": {},
   "outputs": [
    {
     "name": "stdout",
     "output_type": "stream",
     "text": [
      "2\n",
      "2\n",
      "3\n"
     ]
    }
   ],
   "source": [
    "print(lst2.count(5))\n",
    "print(tup7.count(4))\n",
    "print(str1.count(\"l\"))"
   ]
  },
  {
   "cell_type": "markdown",
   "id": "0f54dd06-44ae-4e41-a4f5-68f20605e52a",
   "metadata": {},
   "source": [
    "2. index() - return the lowest index of the given value"
   ]
  },
  {
   "cell_type": "code",
   "execution_count": 11,
   "id": "9139bd75-d539-421f-9349-ea904b88e39c",
   "metadata": {},
   "outputs": [
    {
     "name": "stdout",
     "output_type": "stream",
     "text": [
      "2\n",
      "1\n",
      "4\n"
     ]
    }
   ],
   "source": [
    "print(lst2.index(3))\n",
    "print(tup7.index(2))\n",
    "print(str1.index(\"o\"))"
   ]
  },
  {
   "cell_type": "markdown",
   "id": "1112a6ae-ee8f-44f8-860d-4396773bef53",
   "metadata": {},
   "source": [
    "## Sets"
   ]
  },
  {
   "cell_type": "code",
   "execution_count": 161,
   "id": "14ec3eb8-35ad-42cc-a7f1-f7afe06d5754",
   "metadata": {},
   "outputs": [
    {
     "data": {
      "text/plain": [
       "{5, 8, 9, 12, 15, 22}"
      ]
     },
     "execution_count": 161,
     "metadata": {},
     "output_type": "execute_result"
    }
   ],
   "source": [
    "s1 = {12, 9, 15, 8, 5, 22, 9, 8}          #Set o intergers\n",
    "s1"
   ]
  },
  {
   "cell_type": "code",
   "execution_count": 163,
   "id": "fda76d59-3ffa-46d9-b672-0bbf91e0ffdb",
   "metadata": {},
   "outputs": [
    {
     "data": {
      "text/plain": [
       "{3.9, 5.7, 8.3, 11.4}"
      ]
     },
     "execution_count": 163,
     "metadata": {},
     "output_type": "execute_result"
    }
   ],
   "source": [
    "s2 = {5.7, 3.9, 11.4, 8.3, 3.9}           #Set o float\n",
    "s2"
   ]
  },
  {
   "cell_type": "code",
   "execution_count": 167,
   "id": "1f0d558e-8959-4398-af18-b96d5366c5b4",
   "metadata": {},
   "outputs": [
    {
     "data": {
      "text/plain": [
       "{'Apple', 'Banana', 'Kiwi', 'apple', 'banana'}"
      ]
     },
     "execution_count": 167,
     "metadata": {},
     "output_type": "execute_result"
    }
   ],
   "source": [
    "s3 = {'Apple', \"Banana\", \"Apple\", 'apple', \"Kiwi\", 'banana'}        #Set o strings\n",
    "s3"
   ]
  },
  {
   "cell_type": "code",
   "execution_count": 169,
   "id": "10bcd2f7-f56d-41c6-83b9-7f871989812d",
   "metadata": {},
   "outputs": [
    {
     "data": {
      "text/plain": [
       "{1.2, 2, 3.4, 5.6, 6, 9}"
      ]
     },
     "execution_count": 169,
     "metadata": {},
     "output_type": "execute_result"
    }
   ],
   "source": [
    "s4 = {6, 3.4, 9, 5.6, 1.2, 2}\n",
    "s4"
   ]
  },
  {
   "cell_type": "code",
   "execution_count": 171,
   "id": "3114a908-846a-44c7-ab13-2d6750eed542",
   "metadata": {},
   "outputs": [
    {
     "data": {
      "text/plain": [
       "{2, 2.5, 22, 4, 45, 7, 8, 'apple', 'hi'}"
      ]
     },
     "execution_count": 171,
     "metadata": {},
     "output_type": "execute_result"
    }
   ],
   "source": [
    "s5 = {4, 2, 45, 8, 2.5, 22, 'hi', 'apple', 7}\n",
    "s5"
   ]
  },
  {
   "cell_type": "code",
   "execution_count": null,
   "id": "fff6a231-9ccd-444a-9282-c77bbaaaea66",
   "metadata": {},
   "outputs": [],
   "source": []
  },
  {
   "cell_type": "markdown",
   "id": "4776cc75-cae3-472a-b0ca-cc889cac837c",
   "metadata": {},
   "source": [
    "## Dictionary"
   ]
  },
  {
   "cell_type": "code",
   "execution_count": 16,
   "id": "8f7ded90-d806-428b-b53d-ddaa1f40e107",
   "metadata": {},
   "outputs": [
    {
     "data": {
      "text/plain": [
       "{'Name': 'Rahul', 'Age': 25, 'Id': 'A001'}"
      ]
     },
     "execution_count": 16,
     "metadata": {},
     "output_type": "execute_result"
    }
   ],
   "source": [
    "d1 = {'Name':'Rahul', 'Age':25, 'Id':'A001'}\n",
    "d1"
   ]
  },
  {
   "cell_type": "code",
   "execution_count": 18,
   "id": "abfc20a0-b286-4a60-bec7-3d2400a4045d",
   "metadata": {},
   "outputs": [
    {
     "data": {
      "text/plain": [
       "dict_keys(['Name', 'Age', 'Id'])"
      ]
     },
     "execution_count": 18,
     "metadata": {},
     "output_type": "execute_result"
    }
   ],
   "source": [
    "d1.keys()"
   ]
  },
  {
   "cell_type": "code",
   "execution_count": 20,
   "id": "ab7c62e5-51fd-4ac2-a952-dfcf0a771302",
   "metadata": {},
   "outputs": [
    {
     "data": {
      "text/plain": [
       "dict_values(['Rahul', 25, 'A001'])"
      ]
     },
     "execution_count": 20,
     "metadata": {},
     "output_type": "execute_result"
    }
   ],
   "source": [
    "d1.values()"
   ]
  },
  {
   "cell_type": "code",
   "execution_count": 22,
   "id": "cabe5cf2-f3c3-448a-9f88-2c0cf9269fe3",
   "metadata": {},
   "outputs": [
    {
     "data": {
      "text/plain": [
       "dict_items([('Name', 'Rahul'), ('Age', 25), ('Id', 'A001')])"
      ]
     },
     "execution_count": 22,
     "metadata": {},
     "output_type": "execute_result"
    }
   ],
   "source": [
    "d1.items()"
   ]
  },
  {
   "cell_type": "code",
   "execution_count": 24,
   "id": "b92a836a-a725-406f-9248-903f1ec4e1c9",
   "metadata": {},
   "outputs": [
    {
     "data": {
      "text/plain": [
       "{'Name': 'Pavan', 'Age': 25, 'Id': 'A001'}"
      ]
     },
     "execution_count": 24,
     "metadata": {},
     "output_type": "execute_result"
    }
   ],
   "source": [
    "d2 = {'Name':'Rahul', 'Age':25, 'Id':'A001', 'Name':'Pavan'}\n",
    "d2"
   ]
  },
  {
   "cell_type": "code",
   "execution_count": 26,
   "id": "b261b118-c360-46e2-b1bb-e4d46e6f61d2",
   "metadata": {},
   "outputs": [
    {
     "data": {
      "text/plain": [
       "{'Name': 'Rahul', 'Age': 25, 'Id': 'A001', 'Name1': 'Rahul'}"
      ]
     },
     "execution_count": 26,
     "metadata": {},
     "output_type": "execute_result"
    }
   ],
   "source": [
    "d3 = {'Name':'Rahul', 'Age':25, 'Id':'A001', 'Name1':'Rahul'}\n",
    "d3"
   ]
  },
  {
   "cell_type": "code",
   "execution_count": 34,
   "id": "ee1d4278-7512-44fd-a54a-4900ee914eb7",
   "metadata": {},
   "outputs": [
    {
     "data": {
      "text/plain": [
       "[]"
      ]
     },
     "execution_count": 34,
     "metadata": {},
     "output_type": "execute_result"
    }
   ],
   "source": [
    "a1 = []\n",
    "a1"
   ]
  },
  {
   "cell_type": "code",
   "execution_count": 36,
   "id": "c188ba89-1942-49b6-8c57-98548d04d356",
   "metadata": {},
   "outputs": [
    {
     "data": {
      "text/plain": [
       "list"
      ]
     },
     "execution_count": 36,
     "metadata": {},
     "output_type": "execute_result"
    }
   ],
   "source": [
    "type(a1)"
   ]
  },
  {
   "cell_type": "code",
   "execution_count": 30,
   "id": "487cdadb-c4b9-4039-9a89-dcebc53ab69e",
   "metadata": {},
   "outputs": [
    {
     "data": {
      "text/plain": [
       "()"
      ]
     },
     "execution_count": 30,
     "metadata": {},
     "output_type": "execute_result"
    }
   ],
   "source": [
    "a2 = ()\n",
    "a2"
   ]
  },
  {
   "cell_type": "code",
   "execution_count": 38,
   "id": "698c0ee9-9000-4536-beed-049634e8dfc5",
   "metadata": {},
   "outputs": [
    {
     "data": {
      "text/plain": [
       "tuple"
      ]
     },
     "execution_count": 38,
     "metadata": {},
     "output_type": "execute_result"
    }
   ],
   "source": [
    "type(a2)"
   ]
  },
  {
   "cell_type": "code",
   "execution_count": 32,
   "id": "474b5ffd-eaa7-461c-b97c-5d63571f5096",
   "metadata": {},
   "outputs": [
    {
     "data": {
      "text/plain": [
       "{}"
      ]
     },
     "execution_count": 32,
     "metadata": {},
     "output_type": "execute_result"
    }
   ],
   "source": [
    "a3 = {}\n",
    "a3"
   ]
  },
  {
   "cell_type": "code",
   "execution_count": 40,
   "id": "4b3d10b6-3f40-40cd-a2d6-392ab1d8c044",
   "metadata": {},
   "outputs": [
    {
     "data": {
      "text/plain": [
       "dict"
      ]
     },
     "execution_count": 40,
     "metadata": {},
     "output_type": "execute_result"
    }
   ],
   "source": [
    "type(a3)"
   ]
  },
  {
   "cell_type": "markdown",
   "id": "867d6c6e-dd84-4d43-8019-e23399fbebeb",
   "metadata": {},
   "source": [
    "### NOTE: you can not create and empty set. An empty flower bracket is always a dictionary"
   ]
  },
  {
   "cell_type": "code",
   "execution_count": 43,
   "id": "376eecad-ca34-4a15-8133-aaf019d85195",
   "metadata": {},
   "outputs": [
    {
     "data": {
      "text/plain": [
       "{'Name': ['Rahul', 'Omer', 'Pavan', 'Vinod'],\n",
       " 'Age': [22, 23, 24],\n",
       " 'Address': 'xyz'}"
      ]
     },
     "execution_count": 43,
     "metadata": {},
     "output_type": "execute_result"
    }
   ],
   "source": [
    "d4 = {\"Name\" : [\"Rahul\", \"Omer\", \"Pavan\", \"Vinod\"], \"Age\" : [22,23,24], \"Address\" : \"xyz\"}\n",
    "d4"
   ]
  },
  {
   "cell_type": "code",
   "execution_count": 45,
   "id": "564f4625-cc36-409b-bd60-53e414379439",
   "metadata": {},
   "outputs": [
    {
     "data": {
      "text/plain": [
       "dict_keys(['Name', 'Age', 'Address'])"
      ]
     },
     "execution_count": 45,
     "metadata": {},
     "output_type": "execute_result"
    }
   ],
   "source": [
    "d4.keys()"
   ]
  },
  {
   "cell_type": "code",
   "execution_count": 47,
   "id": "3a7c96f0-604d-4a91-9b84-53ac99c3b686",
   "metadata": {},
   "outputs": [
    {
     "data": {
      "text/plain": [
       "dict_values([['Rahul', 'Omer', 'Pavan', 'Vinod'], [22, 23, 24], 'xyz'])"
      ]
     },
     "execution_count": 47,
     "metadata": {},
     "output_type": "execute_result"
    }
   ],
   "source": [
    "d4.values()"
   ]
  },
  {
   "cell_type": "code",
   "execution_count": 49,
   "id": "1539cb1b-3e39-4d02-9ae4-c86bf886a175",
   "metadata": {},
   "outputs": [
    {
     "data": {
      "text/plain": [
       "dict_items([('Name', ['Rahul', 'Omer', 'Pavan', 'Vinod']), ('Age', [22, 23, 24]), ('Address', 'xyz')])"
      ]
     },
     "execution_count": 49,
     "metadata": {},
     "output_type": "execute_result"
    }
   ],
   "source": [
    "d4.items()"
   ]
  },
  {
   "cell_type": "markdown",
   "id": "7c54b9d6-0a30-4d98-a9c5-21c533f198ed",
   "metadata": {},
   "source": [
    "### NOTE: when you assign multiple values to a variable without using any brackets, the default data structure will be tuple "
   ]
  },
  {
   "cell_type": "code",
   "execution_count": 55,
   "id": "2216318e-fd5a-471a-ba5e-66c247711e01",
   "metadata": {},
   "outputs": [
    {
     "data": {
      "text/plain": [
       "(12, 13, 14)"
      ]
     },
     "execution_count": 55,
     "metadata": {},
     "output_type": "execute_result"
    }
   ],
   "source": [
    "a1 = 12, 13, 14\n",
    "a1"
   ]
  },
  {
   "cell_type": "code",
   "execution_count": 57,
   "id": "632cbf11-57be-4dec-9f87-ee993a7bb684",
   "metadata": {},
   "outputs": [
    {
     "data": {
      "text/plain": [
       "tuple"
      ]
     },
     "execution_count": 57,
     "metadata": {},
     "output_type": "execute_result"
    }
   ],
   "source": [
    "type(a1)"
   ]
  },
  {
   "cell_type": "markdown",
   "id": "2fbd3500-a25c-474e-888a-03d364abcc82",
   "metadata": {},
   "source": [
    "## Indexing in Dictionary"
   ]
  },
  {
   "cell_type": "code",
   "execution_count": 60,
   "id": "b0764f40-4eaf-45c5-afa4-9963ea627f7f",
   "metadata": {},
   "outputs": [
    {
     "data": {
      "text/plain": [
       "{'Name': 'Rahul', 'Age': 25, 'Id': 'A001'}"
      ]
     },
     "execution_count": 60,
     "metadata": {},
     "output_type": "execute_result"
    }
   ],
   "source": [
    "d1"
   ]
  },
  {
   "cell_type": "code",
   "execution_count": 62,
   "id": "38b0d13b-4f40-4129-9abd-c8f94ec5d7b2",
   "metadata": {},
   "outputs": [
    {
     "data": {
      "text/plain": [
       "'Rahul'"
      ]
     },
     "execution_count": 62,
     "metadata": {},
     "output_type": "execute_result"
    }
   ],
   "source": [
    "d1[\"Name\"]"
   ]
  },
  {
   "cell_type": "code",
   "execution_count": 68,
   "id": "8eaa1fb9-b7d3-4ff6-9a95-724ec5d62943",
   "metadata": {},
   "outputs": [
    {
     "data": {
      "text/plain": [
       "'h'"
      ]
     },
     "execution_count": 68,
     "metadata": {},
     "output_type": "execute_result"
    }
   ],
   "source": [
    "d1[\"Name\"][2]   #if we want to get an element from within an element we can use the square brackets twice and vice versa."
   ]
  },
  {
   "cell_type": "code",
   "execution_count": 66,
   "id": "de8350ab-6146-4734-a539-d536d9bcbc4b",
   "metadata": {},
   "outputs": [
    {
     "data": {
      "text/plain": [
       "25"
      ]
     },
     "execution_count": 66,
     "metadata": {},
     "output_type": "execute_result"
    }
   ],
   "source": [
    "d1[\"Age\"]"
   ]
  },
  {
   "cell_type": "code",
   "execution_count": 70,
   "id": "c5330955-e20e-441d-82d9-bf1da95d37f3",
   "metadata": {},
   "outputs": [
    {
     "data": {
      "text/plain": [
       "{'Name': ['Rahul', 'Omer', 'Pavan', 'Vinod'],\n",
       " 'Age': [22, 23, 24],\n",
       " 'Address': 'xyz'}"
      ]
     },
     "execution_count": 70,
     "metadata": {},
     "output_type": "execute_result"
    }
   ],
   "source": [
    "d4"
   ]
  },
  {
   "cell_type": "code",
   "execution_count": 145,
   "id": "99541906-433a-405d-a491-3ebac134253f",
   "metadata": {},
   "outputs": [
    {
     "data": {
      "text/plain": [
       "'Vinod'"
      ]
     },
     "execution_count": 145,
     "metadata": {},
     "output_type": "execute_result"
    }
   ],
   "source": [
    "d4['Name'][3]"
   ]
  },
  {
   "cell_type": "code",
   "execution_count": 78,
   "id": "c8ff8e48-a745-4c4b-837d-928a6e6c5f5e",
   "metadata": {},
   "outputs": [
    {
     "data": {
      "text/plain": [
       "'m'"
      ]
     },
     "execution_count": 78,
     "metadata": {},
     "output_type": "execute_result"
    }
   ],
   "source": [
    "d4[\"Name\"][1][1]"
   ]
  },
  {
   "cell_type": "code",
   "execution_count": 80,
   "id": "54cbcc43-d013-41a6-bc7a-5725c57ded2e",
   "metadata": {},
   "outputs": [
    {
     "data": {
      "text/plain": [
       "{'Location': {'Place': ['Bangalore', 'Hyderabad'],\n",
       "  'Area': ['Kudlu Gate', 'Madhapur']}}"
      ]
     },
     "execution_count": 80,
     "metadata": {},
     "output_type": "execute_result"
    }
   ],
   "source": [
    "d5 = {\"Location\" : {\"Place\" : [\"Bangalore\", \"Hyderabad\"], \"Area\":[\"Kudlu Gate\", \"Madhapur\"]}}\n",
    "d5"
   ]
  },
  {
   "cell_type": "code",
   "execution_count": 82,
   "id": "61107337-70e8-4179-90a4-eea1e2c4a145",
   "metadata": {},
   "outputs": [
    {
     "data": {
      "text/plain": [
       "['Bangalore', 'Hyderabad']"
      ]
     },
     "execution_count": 82,
     "metadata": {},
     "output_type": "execute_result"
    }
   ],
   "source": [
    "d5[\"Location\"][\"Place\"]"
   ]
  },
  {
   "cell_type": "code",
   "execution_count": 94,
   "id": "3a7b5884-3429-4412-afd6-d0410e69ac43",
   "metadata": {},
   "outputs": [
    {
     "data": {
      "text/plain": [
       "'G'"
      ]
     },
     "execution_count": 94,
     "metadata": {},
     "output_type": "execute_result"
    }
   ],
   "source": [
    "d5[\"Location\"][\"Area\"][0][-4]"
   ]
  },
  {
   "cell_type": "code",
   "execution_count": 98,
   "id": "0bb2d6d0-69ed-46f3-8aa1-13c942224225",
   "metadata": {},
   "outputs": [
    {
     "data": {
      "text/plain": [
       "4"
      ]
     },
     "execution_count": 98,
     "metadata": {},
     "output_type": "execute_result"
    }
   ],
   "source": [
    "d6 = [3, 5, [2, 8, {'a':{'Place':['Bangalore', 'Hyderabad']}}, 3, (6,10,12), 7], 5]\n",
    "len(d6)"
   ]
  },
  {
   "cell_type": "code",
   "execution_count": 100,
   "id": "af173ac4-abfb-4a7f-8786-07ce8b910384",
   "metadata": {},
   "outputs": [
    {
     "data": {
      "text/plain": [
       "list"
      ]
     },
     "execution_count": 100,
     "metadata": {},
     "output_type": "execute_result"
    }
   ],
   "source": [
    "type(d6)"
   ]
  },
  {
   "cell_type": "code",
   "execution_count": 102,
   "id": "05a2e3c3-d0b2-435f-8653-d37697974f56",
   "metadata": {},
   "outputs": [
    {
     "data": {
      "text/plain": [
       "5"
      ]
     },
     "execution_count": 102,
     "metadata": {},
     "output_type": "execute_result"
    }
   ],
   "source": [
    "d6[-1]"
   ]
  },
  {
   "cell_type": "code",
   "execution_count": 104,
   "id": "315d2726-ddfb-437e-b1fa-97dfe066a5e6",
   "metadata": {},
   "outputs": [
    {
     "data": {
      "text/plain": [
       "10"
      ]
     },
     "execution_count": 104,
     "metadata": {},
     "output_type": "execute_result"
    }
   ],
   "source": [
    "d6[2][4][1]"
   ]
  },
  {
   "cell_type": "code",
   "execution_count": 108,
   "id": "be5cb31c-842e-4044-88bf-791a5e074061",
   "metadata": {},
   "outputs": [
    {
     "data": {
      "text/plain": [
       "'e'"
      ]
     },
     "execution_count": 108,
     "metadata": {},
     "output_type": "execute_result"
    }
   ],
   "source": [
    "d6[2][2][\"a\"][\"Place\"][1][3]"
   ]
  },
  {
   "cell_type": "markdown",
   "id": "0cd7e777-3065-425d-988d-07baf2ed3457",
   "metadata": {},
   "source": [
    "### Add, Remove and change items of dictionary"
   ]
  },
  {
   "cell_type": "code",
   "execution_count": 111,
   "id": "1b372c91-3ebf-415f-a11b-178b94d03ebd",
   "metadata": {},
   "outputs": [
    {
     "data": {
      "text/plain": [
       "{'Name': 'Rahul', 'Age': 25, 'Id': 'A001'}"
      ]
     },
     "execution_count": 111,
     "metadata": {},
     "output_type": "execute_result"
    }
   ],
   "source": [
    "d1"
   ]
  },
  {
   "cell_type": "markdown",
   "id": "73738271-d958-431e-9e0f-bb42c9bf26c6",
   "metadata": {},
   "source": [
    "### .update() is used to add new key and value pairs, change values and add or change multiple values."
   ]
  },
  {
   "cell_type": "code",
   "execution_count": 115,
   "id": "17221ca0-08cf-4449-a988-69d6cb06dfbf",
   "metadata": {},
   "outputs": [],
   "source": [
    "d1.update({'Salary' : 50000})"
   ]
  },
  {
   "cell_type": "code",
   "execution_count": 117,
   "id": "4629002d-8335-4073-ade6-96a4c42f99fa",
   "metadata": {},
   "outputs": [
    {
     "data": {
      "text/plain": [
       "{'Name': 'Rahul', 'Age': 25, 'Id': 'A001', 'Salary': 50000}"
      ]
     },
     "execution_count": 117,
     "metadata": {},
     "output_type": "execute_result"
    }
   ],
   "source": [
    "d1"
   ]
  },
  {
   "cell_type": "code",
   "execution_count": 119,
   "id": "861cf361-27c9-4251-94f0-d0d6e5845795",
   "metadata": {},
   "outputs": [
    {
     "data": {
      "text/plain": [
       "{'Name': 'Rahul',\n",
       " 'Age': 25,\n",
       " 'Id': 'A001',\n",
       " 'Salary': 50000,\n",
       " 'Profession': 'Data Scientist',\n",
       " 'Address': 'xyz'}"
      ]
     },
     "execution_count": 119,
     "metadata": {},
     "output_type": "execute_result"
    }
   ],
   "source": [
    "d1.update({'Profession' : 'Data Scientist', 'Address' : 'xyz'})\n",
    "d1"
   ]
  },
  {
   "cell_type": "code",
   "execution_count": 121,
   "id": "b91dbc03-f1a3-421d-9e3b-1958e0ec1930",
   "metadata": {},
   "outputs": [],
   "source": [
    "d1.update({'Age' : 30})"
   ]
  },
  {
   "cell_type": "code",
   "execution_count": 123,
   "id": "d7c23228-dbfe-45c1-9192-8718e603ceb0",
   "metadata": {},
   "outputs": [
    {
     "data": {
      "text/plain": [
       "{'Name': 'Rahul',\n",
       " 'Age': 30,\n",
       " 'Id': 'A001',\n",
       " 'Salary': 50000,\n",
       " 'Profession': 'Data Scientist',\n",
       " 'Address': 'xyz'}"
      ]
     },
     "execution_count": 123,
     "metadata": {},
     "output_type": "execute_result"
    }
   ],
   "source": [
    "d1"
   ]
  },
  {
   "cell_type": "markdown",
   "id": "f1e2e800-ad97-4c43-9a93-a10ebf721c41",
   "metadata": {},
   "source": [
    "### We can also use assignment operator '=' to change values, add new key and value pairs and add or change multiple values."
   ]
  },
  {
   "cell_type": "code",
   "execution_count": 125,
   "id": "2e282a14-78ff-4b9f-bc50-39926f8d5e47",
   "metadata": {},
   "outputs": [
    {
     "data": {
      "text/plain": [
       "{'Name': 'Omer',\n",
       " 'Age': 30,\n",
       " 'Id': 'A001',\n",
       " 'Salary': 50000,\n",
       " 'Profession': 'Data Scientist',\n",
       " 'Address': 'xyz'}"
      ]
     },
     "execution_count": 125,
     "metadata": {},
     "output_type": "execute_result"
    }
   ],
   "source": [
    "d1['Name'] = 'Omer'\n",
    "d1"
   ]
  },
  {
   "cell_type": "code",
   "execution_count": 127,
   "id": "ce3239b1-9365-441a-baf4-d5fe60454e0f",
   "metadata": {},
   "outputs": [],
   "source": [
    "d1['Gender'] = 'Male'"
   ]
  },
  {
   "cell_type": "code",
   "execution_count": 147,
   "id": "63637e77-cbb1-4da7-98e0-30b1863169f1",
   "metadata": {},
   "outputs": [],
   "source": [
    "d1['Id'] = \"a1\""
   ]
  },
  {
   "cell_type": "code",
   "execution_count": 149,
   "id": "a2933dfd-31d8-4fc9-a98c-c867528959b4",
   "metadata": {},
   "outputs": [
    {
     "data": {
      "text/plain": [
       "{'Name': 'Omer',\n",
       " 'Age': 30,\n",
       " 'Salary': 50000,\n",
       " 'Profession': 'Data Scientist',\n",
       " 'Address': 'xyz',\n",
       " 'Gender': 'Male',\n",
       " 'Id': 'a1'}"
      ]
     },
     "execution_count": 149,
     "metadata": {},
     "output_type": "execute_result"
    }
   ],
   "source": [
    "d1"
   ]
  },
  {
   "cell_type": "markdown",
   "id": "f6f70cc7-e910-4114-8808-74961e6b5628",
   "metadata": {},
   "source": [
    "### .pop() is used to remove keys from a dictionary, but some value must be passed in it or it will throw error unlike in lists."
   ]
  },
  {
   "cell_type": "code",
   "execution_count": 151,
   "id": "3591768d-3cac-4a5a-9a94-b42a0aca0c5a",
   "metadata": {},
   "outputs": [
    {
     "data": {
      "text/plain": [
       "'a1'"
      ]
     },
     "execution_count": 151,
     "metadata": {},
     "output_type": "execute_result"
    }
   ],
   "source": [
    "d1.pop('Id')"
   ]
  },
  {
   "cell_type": "code",
   "execution_count": 153,
   "id": "3aabd4c9-f65a-4817-a8ef-6e1b92014888",
   "metadata": {},
   "outputs": [
    {
     "data": {
      "text/plain": [
       "{'Name': 'Omer',\n",
       " 'Age': 30,\n",
       " 'Salary': 50000,\n",
       " 'Profession': 'Data Scientist',\n",
       " 'Address': 'xyz',\n",
       " 'Gender': 'Male'}"
      ]
     },
     "execution_count": 153,
     "metadata": {},
     "output_type": "execute_result"
    }
   ],
   "source": [
    "d1"
   ]
  },
  {
   "cell_type": "code",
   "execution_count": null,
   "id": "8c6e44c1-6a4f-47a9-97bf-0d715253d6c6",
   "metadata": {},
   "outputs": [],
   "source": []
  },
  {
   "cell_type": "markdown",
   "id": "4200510a-2d39-46d0-848b-3be35477be94",
   "metadata": {},
   "source": [
    "## if-else condition or conditional statements"
   ]
  },
  {
   "cell_type": "code",
   "execution_count": 176,
   "id": "cac53eb7-b8bc-470f-8528-f71f05cec315",
   "metadata": {},
   "outputs": [
    {
     "name": "stdout",
     "output_type": "stream",
     "text": [
      "You are allowed to drive\n"
     ]
    }
   ],
   "source": [
    "age = 22\n",
    "if age >= 18:\n",
    "    print(\"You are allowed to drive\")"
   ]
  },
  {
   "cell_type": "code",
   "execution_count": 178,
   "id": "229f764d-e8c7-4781-8185-03e18e42841a",
   "metadata": {},
   "outputs": [],
   "source": [
    "age = 15\n",
    "if age >= 18:\n",
    "    print(\"You are allowed to drive\")"
   ]
  },
  {
   "cell_type": "code",
   "execution_count": 182,
   "id": "9bd8e69f-f739-4d5b-9d91-a7d25d460d31",
   "metadata": {},
   "outputs": [
    {
     "name": "stdout",
     "output_type": "stream",
     "text": [
      "hi\n"
     ]
    }
   ],
   "source": [
    "age = 15\n",
    "if age >= 18:\n",
    "    print(\"You are allowed to drive\") #Indentation shows if the code is part of the if statement or not\n",
    "print(\"hi\")"
   ]
  },
  {
   "cell_type": "code",
   "execution_count": 188,
   "id": "2795a4d8-3a49-4b18-8e42-9ed4cc61e7cc",
   "metadata": {},
   "outputs": [
    {
     "name": "stdout",
     "output_type": "stream",
     "text": [
      "You are not allowed to drive\n"
     ]
    }
   ],
   "source": [
    "age = 15\n",
    "if age >= 18:\n",
    "    print(\"You are allowed to drive\")\n",
    "else:\n",
    "    print(\"You are not allowed to drive\")"
   ]
  },
  {
   "cell_type": "markdown",
   "id": "7f85574f-ee79-46db-8621-e8d99b026435",
   "metadata": {},
   "source": [
    "## Input Function"
   ]
  },
  {
   "cell_type": "code",
   "execution_count": 191,
   "id": "3de86a9d-bd2d-4d4b-8ad7-917673cceab2",
   "metadata": {},
   "outputs": [
    {
     "name": "stdin",
     "output_type": "stream",
     "text": [
      " 20\n"
     ]
    }
   ],
   "source": [
    "a = input()"
   ]
  },
  {
   "cell_type": "code",
   "execution_count": 193,
   "id": "c23b0623-5a20-4edd-a1f1-eb9d29087777",
   "metadata": {},
   "outputs": [
    {
     "data": {
      "text/plain": [
       "'20'"
      ]
     },
     "execution_count": 193,
     "metadata": {},
     "output_type": "execute_result"
    }
   ],
   "source": [
    "a"
   ]
  },
  {
   "cell_type": "code",
   "execution_count": 195,
   "id": "7399d6fd-3c8c-4e7d-a8c6-8abde7eef99f",
   "metadata": {},
   "outputs": [
    {
     "data": {
      "text/plain": [
       "str"
      ]
     },
     "execution_count": 195,
     "metadata": {},
     "output_type": "execute_result"
    }
   ],
   "source": [
    "type(a)"
   ]
  },
  {
   "cell_type": "markdown",
   "id": "a17c7664-f2f9-4ff3-aa09-9e377f70c1ef",
   "metadata": {},
   "source": [
    "#### input function stores the given input in string type by default"
   ]
  },
  {
   "cell_type": "code",
   "execution_count": 202,
   "id": "7bcb9759-5a9e-4e11-89c0-995031c75805",
   "metadata": {},
   "outputs": [
    {
     "name": "stdin",
     "output_type": "stream",
     "text": [
      "Enter the age 22\n"
     ]
    }
   ],
   "source": [
    "a = input(\"Enter the age\")   #we can write the prompt in the parenthesis of the input function"
   ]
  },
  {
   "cell_type": "code",
   "execution_count": 204,
   "id": "0b899bb2-d066-4d77-a1a2-4e8b830d5a62",
   "metadata": {},
   "outputs": [
    {
     "data": {
      "text/plain": [
       "'22'"
      ]
     },
     "execution_count": 204,
     "metadata": {},
     "output_type": "execute_result"
    }
   ],
   "source": [
    "a"
   ]
  },
  {
   "cell_type": "markdown",
   "id": "6be5aa1e-924e-42a8-abda-d82f3c4d5819",
   "metadata": {},
   "source": [
    "#### we can change the datatype of the input by using type conversion"
   ]
  },
  {
   "cell_type": "code",
   "execution_count": 207,
   "id": "26e8b0ff-9703-4b23-9c47-cbb91f7e5695",
   "metadata": {},
   "outputs": [
    {
     "name": "stdin",
     "output_type": "stream",
     "text": [
      "Enter the age 22\n"
     ]
    }
   ],
   "source": [
    "a = int(input(\"Enter the age\"))"
   ]
  },
  {
   "cell_type": "code",
   "execution_count": 209,
   "id": "63e350b0-0419-4316-ba2d-88bff7ecffc4",
   "metadata": {},
   "outputs": [
    {
     "data": {
      "text/plain": [
       "int"
      ]
     },
     "execution_count": 209,
     "metadata": {},
     "output_type": "execute_result"
    }
   ],
   "source": [
    "type(a)"
   ]
  },
  {
   "cell_type": "code",
   "execution_count": 211,
   "id": "deeaf26b-21d7-40e4-b90a-64a566978cb7",
   "metadata": {},
   "outputs": [
    {
     "name": "stdin",
     "output_type": "stream",
     "text": [
      "Enter the age 18\n"
     ]
    },
    {
     "name": "stdout",
     "output_type": "stream",
     "text": [
      "You are allowed to drive\n"
     ]
    }
   ],
   "source": [
    "age = int(input(\"Enter the age\"))\n",
    "if age >= 18:\n",
    "    print(\"You are allowed to drive\")\n",
    "else:\n",
    "    print(\"You are not allowed to drive\")"
   ]
  },
  {
   "cell_type": "code",
   "execution_count": 213,
   "id": "919b259e-d875-4152-af64-601a825465e0",
   "metadata": {},
   "outputs": [
    {
     "name": "stdin",
     "output_type": "stream",
     "text": [
      "Enter the age 18\n"
     ]
    },
    {
     "name": "stdout",
     "output_type": "stream",
     "text": [
      "Take a test drive\n"
     ]
    }
   ],
   "source": [
    "age = int(input(\"Enter the age\"))\n",
    "if age > 18:\n",
    "    print(\"You are allowed to drive\")\n",
    "elif age == 18:\n",
    "    print(\"Take a test drive\")\n",
    "else:\n",
    "    print(\"You are not allowed to drive\")"
   ]
  },
  {
   "cell_type": "code",
   "execution_count": 251,
   "id": "497f9b65-8792-4cbc-a145-b83aebdaeb89",
   "metadata": {},
   "outputs": [
    {
     "name": "stdin",
     "output_type": "stream",
     "text": [
      "Enter the marks 66\n"
     ]
    },
    {
     "name": "stdout",
     "output_type": "stream",
     "text": [
      "B\n"
     ]
    }
   ],
   "source": [
    "marks = int(input(\"Enter the marks\"))\n",
    "if marks >= 90:\n",
    "    print(\"A+\")\n",
    "elif marks >= 80 and marks < 90:    #another format: 80>marks>=90\n",
    "    print(\"A\")\n",
    "elif marks >= 70 and marks < 80:\n",
    "    print(\"B+\")\n",
    "elif marks >= 60 and marks < 70:\n",
    "    print(\"B\")\n",
    "elif marks >= 50 and marks < 60:\n",
    "    print(\"C+\")\n",
    "elif marks >= 40 and marks < 50:\n",
    "    print(\"C\")\n",
    "elif marks > 100:\n",
    "    print(\"Enter correct marks\")\n",
    "else:\n",
    "    print(\"F\")"
   ]
  },
  {
   "cell_type": "code",
   "execution_count": null,
   "id": "64a31b2a-fbda-4b88-b6ca-5b66ad12512b",
   "metadata": {},
   "outputs": [],
   "source": []
  }
 ],
 "metadata": {
  "kernelspec": {
   "display_name": "Python 3 (ipykernel)",
   "language": "python",
   "name": "python3"
  },
  "language_info": {
   "codemirror_mode": {
    "name": "ipython",
    "version": 3
   },
   "file_extension": ".py",
   "mimetype": "text/x-python",
   "name": "python",
   "nbconvert_exporter": "python",
   "pygments_lexer": "ipython3",
   "version": "3.12.4"
  }
 },
 "nbformat": 4,
 "nbformat_minor": 5
}
