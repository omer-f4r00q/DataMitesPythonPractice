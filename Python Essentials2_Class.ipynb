{
 "cells": [
  {
   "cell_type": "markdown",
   "id": "9b9f12e0-ec8c-40ea-bd04-781574fb1c31",
   "metadata": {},
   "source": [
    "# Operators"
   ]
  },
  {
   "cell_type": "markdown",
   "id": "c25b0461-412e-434f-a48f-5fa54093f0cc",
   "metadata": {},
   "source": [
    "### Arithmatic operator"
   ]
  },
  {
   "cell_type": "code",
   "execution_count": 1,
   "id": "8f58ca59-93e4-47be-82af-4e4d37172e08",
   "metadata": {},
   "outputs": [
    {
     "data": {
      "text/plain": [
       "12"
      ]
     },
     "execution_count": 1,
     "metadata": {},
     "output_type": "execute_result"
    }
   ],
   "source": [
    "5+7"
   ]
  },
  {
   "cell_type": "code",
   "execution_count": 2,
   "id": "6b18d36c-7a25-4a30-8c39-c488d1bcd14b",
   "metadata": {},
   "outputs": [
    {
     "data": {
      "text/plain": [
       "9"
      ]
     },
     "execution_count": 2,
     "metadata": {},
     "output_type": "execute_result"
    }
   ],
   "source": [
    "12-3"
   ]
  },
  {
   "cell_type": "code",
   "execution_count": 3,
   "id": "e7cf540d-f4ee-4b53-b5d7-d4525b268b20",
   "metadata": {},
   "outputs": [
    {
     "data": {
      "text/plain": [
       "36"
      ]
     },
     "execution_count": 3,
     "metadata": {},
     "output_type": "execute_result"
    }
   ],
   "source": [
    "12*3"
   ]
  },
  {
   "cell_type": "code",
   "execution_count": 4,
   "id": "80dc8031-3ff6-4cd7-ab4c-8a0090dd21a0",
   "metadata": {},
   "outputs": [
    {
     "data": {
      "text/plain": [
       "2.6"
      ]
     },
     "execution_count": 4,
     "metadata": {},
     "output_type": "execute_result"
    }
   ],
   "source": [
    "13/5"
   ]
  },
  {
   "cell_type": "code",
   "execution_count": 5,
   "id": "45d0140b-bc20-4ecc-b63d-e55194231332",
   "metadata": {},
   "outputs": [
    {
     "data": {
      "text/plain": [
       "2"
      ]
     },
     "execution_count": 5,
     "metadata": {},
     "output_type": "execute_result"
    }
   ],
   "source": [
    "13//5"
   ]
  },
  {
   "cell_type": "code",
   "execution_count": 6,
   "id": "1274675d-ddf7-426f-8a74-0f7491e082a6",
   "metadata": {},
   "outputs": [
    {
     "data": {
      "text/plain": [
       "3"
      ]
     },
     "execution_count": 6,
     "metadata": {},
     "output_type": "execute_result"
    }
   ],
   "source": [
    "13%5"
   ]
  },
  {
   "cell_type": "code",
   "execution_count": 7,
   "id": "7b8498cc-4687-44e6-9225-334434f08a2e",
   "metadata": {},
   "outputs": [
    {
     "data": {
      "text/plain": [
       "32"
      ]
     },
     "execution_count": 7,
     "metadata": {},
     "output_type": "execute_result"
    }
   ],
   "source": [
    "2**5"
   ]
  },
  {
   "cell_type": "code",
   "execution_count": 8,
   "id": "56bf66b3-1067-4fac-9848-2d08eaf2e5f4",
   "metadata": {
    "scrolled": true
   },
   "outputs": [
    {
     "data": {
      "text/plain": [
       "2.0"
      ]
     },
     "execution_count": 8,
     "metadata": {},
     "output_type": "execute_result"
    }
   ],
   "source": [
    "6/3"
   ]
  },
  {
   "cell_type": "markdown",
   "id": "9adc03aa-3f9e-45b4-9d9d-2cf27b8146cc",
   "metadata": {},
   "source": [
    "### Comparison operator"
   ]
  },
  {
   "cell_type": "code",
   "execution_count": 22,
   "id": "d11fbe3d-3048-4b7b-ac48-5bd25e3ded62",
   "metadata": {},
   "outputs": [],
   "source": [
    "a1 = 10\n",
    "a2 = 15\n",
    "a3 = 10"
   ]
  },
  {
   "cell_type": "code",
   "execution_count": 18,
   "id": "2155c29b-03d1-4204-a290-c35517544153",
   "metadata": {},
   "outputs": [
    {
     "data": {
      "text/plain": [
       "False"
      ]
     },
     "execution_count": 18,
     "metadata": {},
     "output_type": "execute_result"
    }
   ],
   "source": [
    "a1 > a2"
   ]
  },
  {
   "cell_type": "code",
   "execution_count": 19,
   "id": "4ec49ed5-9952-40a7-a75f-be15ab0cc9ac",
   "metadata": {},
   "outputs": [
    {
     "data": {
      "text/plain": [
       "True"
      ]
     },
     "execution_count": 19,
     "metadata": {},
     "output_type": "execute_result"
    }
   ],
   "source": [
    "a1 < a2"
   ]
  },
  {
   "cell_type": "code",
   "execution_count": 20,
   "id": "aff30ccb-8c75-4b72-86d0-383147188df3",
   "metadata": {},
   "outputs": [
    {
     "data": {
      "text/plain": [
       "False"
      ]
     },
     "execution_count": 20,
     "metadata": {},
     "output_type": "execute_result"
    }
   ],
   "source": [
    "a1 == a2"
   ]
  },
  {
   "cell_type": "code",
   "execution_count": 21,
   "id": "c35f0947-8d34-44d0-9657-cf1521435ec3",
   "metadata": {},
   "outputs": [
    {
     "data": {
      "text/plain": [
       "True"
      ]
     },
     "execution_count": 21,
     "metadata": {},
     "output_type": "execute_result"
    }
   ],
   "source": [
    "a1 != a2"
   ]
  },
  {
   "cell_type": "code",
   "execution_count": 23,
   "id": "3d341b25-27e0-412a-8e9a-e862c18e73f7",
   "metadata": {},
   "outputs": [
    {
     "data": {
      "text/plain": [
       "True"
      ]
     },
     "execution_count": 23,
     "metadata": {},
     "output_type": "execute_result"
    }
   ],
   "source": [
    "a1 == a3"
   ]
  },
  {
   "cell_type": "code",
   "execution_count": 24,
   "id": "0ea5a14e-d110-4bda-a5c2-0829dffa25b1",
   "metadata": {},
   "outputs": [
    {
     "data": {
      "text/plain": [
       "False"
      ]
     },
     "execution_count": 24,
     "metadata": {},
     "output_type": "execute_result"
    }
   ],
   "source": [
    "a1 != a3"
   ]
  },
  {
   "cell_type": "code",
   "execution_count": 25,
   "id": "8705e540-5ddd-4444-a63e-f2b164a93692",
   "metadata": {},
   "outputs": [
    {
     "data": {
      "text/plain": [
       "False"
      ]
     },
     "execution_count": 25,
     "metadata": {},
     "output_type": "execute_result"
    }
   ],
   "source": [
    "a1 >= a2"
   ]
  },
  {
   "cell_type": "code",
   "execution_count": 26,
   "id": "77650ba2-3e9e-4e55-bb14-2ff4336997a2",
   "metadata": {},
   "outputs": [
    {
     "data": {
      "text/plain": [
       "True"
      ]
     },
     "execution_count": 26,
     "metadata": {},
     "output_type": "execute_result"
    }
   ],
   "source": [
    "a1 <= a1"
   ]
  },
  {
   "cell_type": "code",
   "execution_count": 27,
   "id": "6ab1d1f7-284c-4bc0-bf7e-cd1142aa8e38",
   "metadata": {},
   "outputs": [
    {
     "data": {
      "text/plain": [
       "True"
      ]
     },
     "execution_count": 27,
     "metadata": {},
     "output_type": "execute_result"
    }
   ],
   "source": [
    "a1 >= a3"
   ]
  },
  {
   "cell_type": "code",
   "execution_count": 28,
   "id": "84918033-51b9-4578-835b-ffab59bb1b63",
   "metadata": {},
   "outputs": [
    {
     "data": {
      "text/plain": [
       "True"
      ]
     },
     "execution_count": 28,
     "metadata": {},
     "output_type": "execute_result"
    }
   ],
   "source": [
    "a1 <= a3"
   ]
  },
  {
   "cell_type": "code",
   "execution_count": 29,
   "id": "563ccd46-45c7-4123-ad9f-dc6cc4574f7e",
   "metadata": {},
   "outputs": [
    {
     "data": {
      "text/plain": [
       "10"
      ]
     },
     "execution_count": 29,
     "metadata": {},
     "output_type": "execute_result"
    }
   ],
   "source": [
    "a1"
   ]
  },
  {
   "cell_type": "code",
   "execution_count": 30,
   "id": "25fe7efb-8443-4899-bac3-044a1e46f78e",
   "metadata": {},
   "outputs": [
    {
     "name": "stdout",
     "output_type": "stream",
     "text": [
      "10\n"
     ]
    }
   ],
   "source": [
    "print(a1)"
   ]
  },
  {
   "cell_type": "markdown",
   "id": "4175900a-9d9a-484e-a26c-810dc9cce165",
   "metadata": {},
   "source": [
    "### Logical operator"
   ]
  },
  {
   "cell_type": "code",
   "execution_count": 35,
   "id": "42411c0a-2da6-43e8-92d9-c2364c376815",
   "metadata": {},
   "outputs": [],
   "source": [
    "a1 = True\n",
    "a2 = False\n",
    "a3 = True\n",
    "a4 = False"
   ]
  },
  {
   "cell_type": "code",
   "execution_count": 39,
   "id": "54a7f453-919d-4ac4-9c1f-60b41397e8eb",
   "metadata": {},
   "outputs": [
    {
     "data": {
      "text/plain": [
       "True"
      ]
     },
     "execution_count": 39,
     "metadata": {},
     "output_type": "execute_result"
    }
   ],
   "source": [
    "a1 and a3"
   ]
  },
  {
   "cell_type": "code",
   "execution_count": 40,
   "id": "76680edd-752f-4265-bd3d-72eadc7d79f6",
   "metadata": {},
   "outputs": [
    {
     "data": {
      "text/plain": [
       "False"
      ]
     },
     "execution_count": 40,
     "metadata": {},
     "output_type": "execute_result"
    }
   ],
   "source": [
    "a1 and a2"
   ]
  },
  {
   "cell_type": "code",
   "execution_count": 41,
   "id": "2dec816d-50b3-44c9-8c82-741beeda8924",
   "metadata": {},
   "outputs": [
    {
     "data": {
      "text/plain": [
       "False"
      ]
     },
     "execution_count": 41,
     "metadata": {},
     "output_type": "execute_result"
    }
   ],
   "source": [
    "a2 and a3"
   ]
  },
  {
   "cell_type": "code",
   "execution_count": 42,
   "id": "d1fac4d4-b3bf-45e1-a526-b0ead5afc2f7",
   "metadata": {},
   "outputs": [
    {
     "data": {
      "text/plain": [
       "False"
      ]
     },
     "execution_count": 42,
     "metadata": {},
     "output_type": "execute_result"
    }
   ],
   "source": [
    "a2 and a4"
   ]
  },
  {
   "cell_type": "code",
   "execution_count": 43,
   "id": "dd0e7260-ac31-4e45-a059-84d034161a36",
   "metadata": {},
   "outputs": [
    {
     "data": {
      "text/plain": [
       "True"
      ]
     },
     "execution_count": 43,
     "metadata": {},
     "output_type": "execute_result"
    }
   ],
   "source": [
    "a1 or a3"
   ]
  },
  {
   "cell_type": "code",
   "execution_count": 44,
   "id": "5c1f04c7-c23e-43a8-a295-191d80eeac7d",
   "metadata": {},
   "outputs": [
    {
     "data": {
      "text/plain": [
       "True"
      ]
     },
     "execution_count": 44,
     "metadata": {},
     "output_type": "execute_result"
    }
   ],
   "source": [
    "a1 or a2"
   ]
  },
  {
   "cell_type": "code",
   "execution_count": 45,
   "id": "7f638cfd-062b-4a31-a8f9-afb24a066781",
   "metadata": {},
   "outputs": [
    {
     "data": {
      "text/plain": [
       "True"
      ]
     },
     "execution_count": 45,
     "metadata": {},
     "output_type": "execute_result"
    }
   ],
   "source": [
    "a2 or a3"
   ]
  },
  {
   "cell_type": "code",
   "execution_count": 46,
   "id": "aa5bf55d-7648-459f-83db-bd66306b42a3",
   "metadata": {},
   "outputs": [
    {
     "data": {
      "text/plain": [
       "False"
      ]
     },
     "execution_count": 46,
     "metadata": {},
     "output_type": "execute_result"
    }
   ],
   "source": [
    "a2 or a4"
   ]
  },
  {
   "cell_type": "markdown",
   "id": "bfe91564-d522-4018-b9a5-bd5594d96738",
   "metadata": {},
   "source": [
    "### Membership operator"
   ]
  },
  {
   "cell_type": "code",
   "execution_count": 47,
   "id": "6dab914d-100b-420b-99b6-c186fa0caca9",
   "metadata": {},
   "outputs": [
    {
     "data": {
      "text/plain": [
       "'Hello Everyone'"
      ]
     },
     "execution_count": 47,
     "metadata": {},
     "output_type": "execute_result"
    }
   ],
   "source": [
    "a1 = 'Hello Everyone'\n",
    "a1"
   ]
  },
  {
   "cell_type": "code",
   "execution_count": 48,
   "id": "d306fe6b-b00d-47a7-b3a3-3f7707392a11",
   "metadata": {},
   "outputs": [
    {
     "data": {
      "text/plain": [
       "14"
      ]
     },
     "execution_count": 48,
     "metadata": {},
     "output_type": "execute_result"
    }
   ],
   "source": [
    "len(a1)"
   ]
  },
  {
   "cell_type": "code",
   "execution_count": 49,
   "id": "da117a2e-5ddc-4e53-b005-187673e19168",
   "metadata": {},
   "outputs": [
    {
     "data": {
      "text/plain": [
       "True"
      ]
     },
     "execution_count": 49,
     "metadata": {},
     "output_type": "execute_result"
    }
   ],
   "source": [
    "'v' in a1"
   ]
  },
  {
   "cell_type": "code",
   "execution_count": 50,
   "id": "c3790413-1c3b-4a02-b019-8a5207299e7f",
   "metadata": {},
   "outputs": [
    {
     "data": {
      "text/plain": [
       "False"
      ]
     },
     "execution_count": 50,
     "metadata": {},
     "output_type": "execute_result"
    }
   ],
   "source": [
    "'v' not in a1"
   ]
  },
  {
   "cell_type": "code",
   "execution_count": 51,
   "id": "8d5a5b47-fca1-4a1a-84f8-2e17b53f84b3",
   "metadata": {},
   "outputs": [
    {
     "data": {
      "text/plain": [
       "False"
      ]
     },
     "execution_count": 51,
     "metadata": {},
     "output_type": "execute_result"
    }
   ],
   "source": [
    "'x' in a1"
   ]
  },
  {
   "cell_type": "code",
   "execution_count": 52,
   "id": "fa7e4ee4-1376-43ab-9284-c80c2195ec7c",
   "metadata": {},
   "outputs": [
    {
     "data": {
      "text/plain": [
       "True"
      ]
     },
     "execution_count": 52,
     "metadata": {},
     "output_type": "execute_result"
    }
   ],
   "source": [
    "'x' not in a1"
   ]
  },
  {
   "cell_type": "markdown",
   "id": "611e71d3-f878-4bc9-b405-ae8f3f09f6eb",
   "metadata": {},
   "source": [
    "# Data Structures"
   ]
  },
  {
   "cell_type": "markdown",
   "id": "c20c8c55-fb24-4e35-82da-60ed51c7c0e7",
   "metadata": {},
   "source": [
    "1. List\n",
    "2. Tuple\n",
    "3. Set\n",
    "4. Dictionary"
   ]
  },
  {
   "cell_type": "markdown",
   "id": "d5edfe85-eb3a-4dc5-bfb9-82402a1a320d",
   "metadata": {},
   "source": [
    "## List"
   ]
  },
  {
   "cell_type": "code",
   "execution_count": 2,
   "id": "70b86a0f-819f-454d-8922-1f71d198f4da",
   "metadata": {},
   "outputs": [
    {
     "data": {
      "text/plain": [
       "[47, 36, 24, 50, 22, 29, 38, 36]"
      ]
     },
     "execution_count": 2,
     "metadata": {},
     "output_type": "execute_result"
    }
   ],
   "source": [
    "a1 = [47, 36, 24, 50, 22, 29, 38, 36]          #list of integers\n",
    "a1"
   ]
  },
  {
   "cell_type": "code",
   "execution_count": 3,
   "id": "c46b10ef-1682-4ca0-ac01-71d8df3ff3b7",
   "metadata": {},
   "outputs": [
    {
     "data": {
      "text/plain": [
       "list"
      ]
     },
     "execution_count": 3,
     "metadata": {},
     "output_type": "execute_result"
    }
   ],
   "source": [
    "type(a1)"
   ]
  },
  {
   "cell_type": "code",
   "execution_count": 9,
   "id": "14d686da-f17c-453b-b475-affce40becf3",
   "metadata": {},
   "outputs": [
    {
     "data": {
      "text/plain": [
       "8"
      ]
     },
     "execution_count": 9,
     "metadata": {},
     "output_type": "execute_result"
    }
   ],
   "source": [
    "len(a1)"
   ]
  },
  {
   "cell_type": "code",
   "execution_count": 4,
   "id": "b7fceae5-2f22-489e-baac-a7705179ed57",
   "metadata": {},
   "outputs": [
    {
     "data": {
      "text/plain": [
       "[6.4, 3.4, 2, 9, 8.6]"
      ]
     },
     "execution_count": 4,
     "metadata": {},
     "output_type": "execute_result"
    }
   ],
   "source": [
    "a2 = [6.4, 3.4, 2,9, 8.6]                      #list of float\n",
    "a2"
   ]
  },
  {
   "cell_type": "code",
   "execution_count": 5,
   "id": "a3c08698-a132-49cb-aef8-981ed3928963",
   "metadata": {},
   "outputs": [
    {
     "data": {
      "text/plain": [
       "['Apple', 'Banana', 'Orange', 'Kiwi']"
      ]
     },
     "execution_count": 5,
     "metadata": {},
     "output_type": "execute_result"
    }
   ],
   "source": [
    "a3 = ['Apple', 'Banana', 'Orange', 'Kiwi']     #list of string\n",
    "a3"
   ]
  },
  {
   "cell_type": "code",
   "execution_count": 6,
   "id": "7710b193-497f-41e5-b5f3-0d4caf933b71",
   "metadata": {},
   "outputs": [
    {
     "data": {
      "text/plain": [
       "[73, 'hi', True, 6.9]"
      ]
     },
     "execution_count": 6,
     "metadata": {},
     "output_type": "execute_result"
    }
   ],
   "source": [
    "a4 = [73, 'hi', True, 6.9]                     #Mixed list\n",
    "a4"
   ]
  },
  {
   "cell_type": "code",
   "execution_count": 8,
   "id": "29d0eae1-0db5-481d-9706-7196f1ce3af4",
   "metadata": {},
   "outputs": [
    {
     "data": {
      "text/plain": [
       "[3, 5, [4, 9, 6], 2, 5]"
      ]
     },
     "execution_count": 8,
     "metadata": {},
     "output_type": "execute_result"
    }
   ],
   "source": [
    "a5 = [3, 5, [4, 9, 6], 2, 5]                   #Nested list\n",
    "a5"
   ]
  },
  {
   "cell_type": "code",
   "execution_count": 10,
   "id": "15c7bc6d-5059-4832-be49-b4e1f1c41123",
   "metadata": {},
   "outputs": [
    {
     "data": {
      "text/plain": [
       "5"
      ]
     },
     "execution_count": 10,
     "metadata": {},
     "output_type": "execute_result"
    }
   ],
   "source": [
    "len(a5)"
   ]
  },
  {
   "cell_type": "code",
   "execution_count": 11,
   "id": "beb5e075-8c8c-44ee-a39b-dc7e69cf8880",
   "metadata": {},
   "outputs": [
    {
     "data": {
      "text/plain": [
       "[3, 8, 9, 8, 3, 5]"
      ]
     },
     "execution_count": 11,
     "metadata": {},
     "output_type": "execute_result"
    }
   ],
   "source": [
    "a6 = [3,8,9,8,3,5]\n",
    "a6"
   ]
  },
  {
   "cell_type": "markdown",
   "id": "37d12838-30ed-4761-b8c3-e36bec1fc22b",
   "metadata": {},
   "source": [
    "### List indexing and slicng"
   ]
  },
  {
   "cell_type": "code",
   "execution_count": 12,
   "id": "2ff4e3f7-610f-4d04-ba51-f7c1010c5c3a",
   "metadata": {},
   "outputs": [
    {
     "data": {
      "text/plain": [
       "[12, 14, 17, 19, 7, 3, 22, 8, 32, 29, 25]"
      ]
     },
     "execution_count": 12,
     "metadata": {},
     "output_type": "execute_result"
    }
   ],
   "source": [
    "a7 = [12,14,17,19,7,3,22,8,32,29,25]\n",
    "a7"
   ]
  },
  {
   "cell_type": "code",
   "execution_count": 13,
   "id": "cb4c8246-a20f-4a17-b430-4b835108ef0c",
   "metadata": {},
   "outputs": [
    {
     "data": {
      "text/plain": [
       "11"
      ]
     },
     "execution_count": 13,
     "metadata": {},
     "output_type": "execute_result"
    }
   ],
   "source": [
    "len(a7)"
   ]
  },
  {
   "cell_type": "code",
   "execution_count": 14,
   "id": "ae70ab0a-3de5-4dcf-93aa-1e82b72c34f6",
   "metadata": {},
   "outputs": [
    {
     "data": {
      "text/plain": [
       "7"
      ]
     },
     "execution_count": 14,
     "metadata": {},
     "output_type": "execute_result"
    }
   ],
   "source": [
    "a7[4]"
   ]
  },
  {
   "cell_type": "code",
   "execution_count": 15,
   "id": "003b909c-46cb-467c-bcf8-957ec12958e3",
   "metadata": {},
   "outputs": [
    {
     "data": {
      "text/plain": [
       "7"
      ]
     },
     "execution_count": 15,
     "metadata": {},
     "output_type": "execute_result"
    }
   ],
   "source": [
    "a7[-7]"
   ]
  },
  {
   "cell_type": "code",
   "execution_count": 17,
   "id": "ba253e62-2fe1-4fa6-ab98-aff2b8821949",
   "metadata": {},
   "outputs": [
    {
     "data": {
      "text/plain": [
       "[14, 17, 19, 7, 3, 22, 8, 32, 29]"
      ]
     },
     "execution_count": 17,
     "metadata": {},
     "output_type": "execute_result"
    }
   ],
   "source": [
    "a7[1:10]"
   ]
  },
  {
   "cell_type": "code",
   "execution_count": 18,
   "id": "988d82bd-a5fe-41e0-b8d3-442c767232b8",
   "metadata": {},
   "outputs": [
    {
     "data": {
      "text/plain": [
       "[14, 17, 19, 7, 3, 22, 8, 32, 29]"
      ]
     },
     "execution_count": 18,
     "metadata": {},
     "output_type": "execute_result"
    }
   ],
   "source": [
    "a7[1:10:1]"
   ]
  },
  {
   "cell_type": "code",
   "execution_count": 20,
   "id": "71b4de88-1d3c-441d-97a1-138ff32a0cea",
   "metadata": {},
   "outputs": [
    {
     "data": {
      "text/plain": [
       "[14, 17, 19, 7, 3, 22, 8, 32, 29]"
      ]
     },
     "execution_count": 20,
     "metadata": {},
     "output_type": "execute_result"
    }
   ],
   "source": [
    "a7[-10:-1]"
   ]
  },
  {
   "cell_type": "code",
   "execution_count": 21,
   "id": "e624d7c2-9390-41ee-a720-cabac0e0a627",
   "metadata": {},
   "outputs": [
    {
     "data": {
      "text/plain": [
       "[12, 14, 17, 19, 7, 3, 22, 8, 32, 29, 25]"
      ]
     },
     "execution_count": 21,
     "metadata": {},
     "output_type": "execute_result"
    }
   ],
   "source": [
    "a7"
   ]
  },
  {
   "cell_type": "code",
   "execution_count": 22,
   "id": "d1378db5-06d3-472e-b4cb-ef32c978b3da",
   "metadata": {},
   "outputs": [
    {
     "data": {
      "text/plain": [
       "[12, 14, 17, 19, 7]"
      ]
     },
     "execution_count": 22,
     "metadata": {},
     "output_type": "execute_result"
    }
   ],
   "source": [
    "a7[0:5]"
   ]
  },
  {
   "cell_type": "code",
   "execution_count": 23,
   "id": "ea4b1ad6-4fcb-4842-b1bf-6007b72cede1",
   "metadata": {},
   "outputs": [
    {
     "data": {
      "text/plain": [
       "[12, 14, 17, 19, 7]"
      ]
     },
     "execution_count": 23,
     "metadata": {},
     "output_type": "execute_result"
    }
   ],
   "source": [
    "a7[:5]"
   ]
  },
  {
   "cell_type": "code",
   "execution_count": 24,
   "id": "5f3f52dc-79b2-4070-bb3d-168d876c9885",
   "metadata": {},
   "outputs": [
    {
     "data": {
      "text/plain": [
       "[12, 14, 17, 19, 7]"
      ]
     },
     "execution_count": 24,
     "metadata": {},
     "output_type": "execute_result"
    }
   ],
   "source": [
    "a7[-11:-6]"
   ]
  },
  {
   "cell_type": "code",
   "execution_count": 25,
   "id": "39a9a1d2-584e-4da7-9571-90a26763dd00",
   "metadata": {},
   "outputs": [
    {
     "data": {
      "text/plain": [
       "[12, 14, 17, 19, 7]"
      ]
     },
     "execution_count": 25,
     "metadata": {},
     "output_type": "execute_result"
    }
   ],
   "source": [
    "a7[:-6]"
   ]
  },
  {
   "cell_type": "code",
   "execution_count": 26,
   "id": "6988b2de-7a46-4aa2-8392-ec397ffc0450",
   "metadata": {},
   "outputs": [
    {
     "data": {
      "text/plain": [
       "[22, 8, 32, 29, 25]"
      ]
     },
     "execution_count": 26,
     "metadata": {},
     "output_type": "execute_result"
    }
   ],
   "source": [
    "a7[6:11]"
   ]
  },
  {
   "cell_type": "code",
   "execution_count": 27,
   "id": "34d3517d-6ba8-4d37-822f-ac93f49ac00c",
   "metadata": {},
   "outputs": [
    {
     "data": {
      "text/plain": [
       "[22, 8, 32, 29, 25]"
      ]
     },
     "execution_count": 27,
     "metadata": {},
     "output_type": "execute_result"
    }
   ],
   "source": [
    "a7[6:]"
   ]
  },
  {
   "cell_type": "code",
   "execution_count": 28,
   "id": "4378e50b-7e83-4d42-884a-7563e02a6f7e",
   "metadata": {},
   "outputs": [
    {
     "data": {
      "text/plain": [
       "[22, 8, 32, 29, 25]"
      ]
     },
     "execution_count": 28,
     "metadata": {},
     "output_type": "execute_result"
    }
   ],
   "source": [
    "a7[-5:]"
   ]
  },
  {
   "cell_type": "code",
   "execution_count": 29,
   "id": "a2c4ffca-d114-446c-905b-9385cb10c81a",
   "metadata": {},
   "outputs": [
    {
     "data": {
      "text/plain": [
       "[12, 14, 17, 19, 7, 3, 22, 8, 32, 29, 25]"
      ]
     },
     "execution_count": 29,
     "metadata": {},
     "output_type": "execute_result"
    }
   ],
   "source": [
    "a7[:]"
   ]
  },
  {
   "cell_type": "code",
   "execution_count": 30,
   "id": "164b36ff-c5db-49b3-aa6c-1942d0409f42",
   "metadata": {},
   "outputs": [
    {
     "data": {
      "text/plain": [
       "[12, 17, 7, 22, 32, 25]"
      ]
     },
     "execution_count": 30,
     "metadata": {},
     "output_type": "execute_result"
    }
   ],
   "source": [
    "a7[::2]"
   ]
  },
  {
   "cell_type": "code",
   "execution_count": 32,
   "id": "963d6466-da68-4e5e-9013-b9a18d85b2c0",
   "metadata": {},
   "outputs": [
    {
     "data": {
      "text/plain": [
       "[32, 8, 22, 3, 7, 19, 17]"
      ]
     },
     "execution_count": 32,
     "metadata": {},
     "output_type": "execute_result"
    }
   ],
   "source": [
    "a7[8:1:-1]"
   ]
  },
  {
   "cell_type": "code",
   "execution_count": 33,
   "id": "deea47c3-a9bf-41e7-b9c1-42ce4f3751cd",
   "metadata": {},
   "outputs": [
    {
     "data": {
      "text/plain": [
       "[32, 8, 22, 3, 7, 19, 17]"
      ]
     },
     "execution_count": 33,
     "metadata": {},
     "output_type": "execute_result"
    }
   ],
   "source": [
    "a7[-3:-10:-1]"
   ]
  },
  {
   "cell_type": "code",
   "execution_count": 34,
   "id": "d905ab62-5261-4123-b4d6-9735bfa9d04e",
   "metadata": {},
   "outputs": [
    {
     "data": {
      "text/plain": [
       "[32, 22, 7, 17]"
      ]
     },
     "execution_count": 34,
     "metadata": {},
     "output_type": "execute_result"
    }
   ],
   "source": [
    "a7[-3:-10:-2]"
   ]
  },
  {
   "cell_type": "code",
   "execution_count": 35,
   "id": "2c71c18c-36a1-4edb-a73a-168e9498f364",
   "metadata": {},
   "outputs": [
    {
     "data": {
      "text/plain": [
       "[25, 29, 32, 8, 22, 3, 7, 19, 17, 14, 12]"
      ]
     },
     "execution_count": 35,
     "metadata": {},
     "output_type": "execute_result"
    }
   ],
   "source": [
    "a7[::-1]"
   ]
  },
  {
   "cell_type": "code",
   "execution_count": 36,
   "id": "b3b01b80-266f-406e-9a14-99afc0d4f070",
   "metadata": {},
   "outputs": [
    {
     "data": {
      "text/plain": [
       "[2, 4, 6, 8, 10, 1, 3, 5, 7, 9, 11, 13, 15, 17, 12, 14]"
      ]
     },
     "execution_count": 36,
     "metadata": {},
     "output_type": "execute_result"
    }
   ],
   "source": [
    "a8 = [2,4,6,8,10,1,3,5,7,9,11,13,15,17,12,14]\n",
    "a8"
   ]
  },
  {
   "cell_type": "code",
   "execution_count": 37,
   "id": "ef8d52fb-3869-4c70-b206-da0932bcd3ef",
   "metadata": {},
   "outputs": [
    {
     "data": {
      "text/plain": [
       "[8, 1, 5, 9, 13, 17]"
      ]
     },
     "execution_count": 37,
     "metadata": {},
     "output_type": "execute_result"
    }
   ],
   "source": [
    "a8[3:14:2]"
   ]
  },
  {
   "cell_type": "code",
   "execution_count": 38,
   "id": "fc51488e-e41d-48a7-9cd1-70b32b1ac092",
   "metadata": {},
   "outputs": [
    {
     "data": {
      "text/plain": [
       "[8, 1, 5, 9, 13, 17]"
      ]
     },
     "execution_count": 38,
     "metadata": {},
     "output_type": "execute_result"
    }
   ],
   "source": [
    "a8[-13:-2:2]"
   ]
  },
  {
   "cell_type": "code",
   "execution_count": 39,
   "id": "f3a8d4af-570d-459c-9f83-4d4a69dda034",
   "metadata": {},
   "outputs": [
    {
     "data": {
      "text/plain": [
       "[17, 13, 9, 5, 1, 8]"
      ]
     },
     "execution_count": 39,
     "metadata": {},
     "output_type": "execute_result"
    }
   ],
   "source": [
    "a8[13:2:-2]"
   ]
  },
  {
   "cell_type": "code",
   "execution_count": 40,
   "id": "2a4e0c10-bbd9-4a54-a849-b7f33d7a239c",
   "metadata": {},
   "outputs": [
    {
     "data": {
      "text/plain": [
       "[17, 13, 9, 5, 1, 8]"
      ]
     },
     "execution_count": 40,
     "metadata": {},
     "output_type": "execute_result"
    }
   ],
   "source": [
    "a8[-3:-14:-2]"
   ]
  },
  {
   "cell_type": "code",
   "execution_count": 41,
   "id": "38faac6f-302e-4ab5-b661-e5d87c4616c0",
   "metadata": {},
   "outputs": [
    {
     "data": {
      "text/plain": [
       "[3, 5, [4, 9, 6], 2, 5]"
      ]
     },
     "execution_count": 41,
     "metadata": {},
     "output_type": "execute_result"
    }
   ],
   "source": [
    "a5"
   ]
  },
  {
   "cell_type": "code",
   "execution_count": 42,
   "id": "7c782335-63b5-4502-98f8-1d77824fc130",
   "metadata": {},
   "outputs": [
    {
     "data": {
      "text/plain": [
       "2"
      ]
     },
     "execution_count": 42,
     "metadata": {},
     "output_type": "execute_result"
    }
   ],
   "source": [
    "a5[3]"
   ]
  },
  {
   "cell_type": "code",
   "execution_count": 43,
   "id": "0cbe0090-d60e-47b6-80b7-112080ee9469",
   "metadata": {},
   "outputs": [
    {
     "data": {
      "text/plain": [
       "2"
      ]
     },
     "execution_count": 43,
     "metadata": {},
     "output_type": "execute_result"
    }
   ],
   "source": [
    "a5[-2]"
   ]
  },
  {
   "cell_type": "code",
   "execution_count": 44,
   "id": "52a647a2-7043-49de-b855-95970c65cb24",
   "metadata": {},
   "outputs": [
    {
     "data": {
      "text/plain": [
       "[4, 9, 6]"
      ]
     },
     "execution_count": 44,
     "metadata": {},
     "output_type": "execute_result"
    }
   ],
   "source": [
    "a5[2]"
   ]
  },
  {
   "cell_type": "code",
   "execution_count": 45,
   "id": "67a8536e-dbd6-4912-a8bc-7ea2c61bf84a",
   "metadata": {},
   "outputs": [
    {
     "data": {
      "text/plain": [
       "9"
      ]
     },
     "execution_count": 45,
     "metadata": {},
     "output_type": "execute_result"
    }
   ],
   "source": [
    "a5[2][1]"
   ]
  },
  {
   "cell_type": "code",
   "execution_count": 47,
   "id": "572df366-d79b-4403-98dc-1f3ad4ef6892",
   "metadata": {},
   "outputs": [
    {
     "data": {
      "text/plain": [
       "3"
      ]
     },
     "execution_count": 47,
     "metadata": {},
     "output_type": "execute_result"
    }
   ],
   "source": [
    "len(a5[2])"
   ]
  },
  {
   "cell_type": "markdown",
   "id": "0cf20fe0-5034-4afe-8870-4dca9de3e168",
   "metadata": {},
   "source": [
    "### Add, change and remove items of list"
   ]
  },
  {
   "cell_type": "code",
   "execution_count": 48,
   "id": "6029652e-837f-41f0-92dd-f51644d8abe2",
   "metadata": {},
   "outputs": [
    {
     "data": {
      "text/plain": [
       "[47, 36, 24, 50, 22, 29, 38, 36]"
      ]
     },
     "execution_count": 48,
     "metadata": {},
     "output_type": "execute_result"
    }
   ],
   "source": [
    "a1"
   ]
  },
  {
   "cell_type": "code",
   "execution_count": 49,
   "id": "84e7f3ef-3710-4e5f-b520-f45ebbe70b16",
   "metadata": {},
   "outputs": [],
   "source": [
    "a1.append(40)"
   ]
  },
  {
   "cell_type": "code",
   "execution_count": 50,
   "id": "a11a5a7b-bfb3-47eb-894c-688de6bbcc0c",
   "metadata": {},
   "outputs": [
    {
     "data": {
      "text/plain": [
       "[47, 36, 24, 50, 22, 29, 38, 36, 40]"
      ]
     },
     "execution_count": 50,
     "metadata": {},
     "output_type": "execute_result"
    }
   ],
   "source": [
    "a1"
   ]
  },
  {
   "cell_type": "code",
   "execution_count": 51,
   "id": "83eacda8-f89a-4e68-9d0f-997e8f464ff5",
   "metadata": {},
   "outputs": [],
   "source": [
    "a1.append(35)"
   ]
  },
  {
   "cell_type": "code",
   "execution_count": 52,
   "id": "ffa6474a-6488-4945-bd14-f172f8d2c4b0",
   "metadata": {},
   "outputs": [
    {
     "data": {
      "text/plain": [
       "[47, 36, 24, 50, 22, 29, 38, 36, 40, 35]"
      ]
     },
     "execution_count": 52,
     "metadata": {},
     "output_type": "execute_result"
    }
   ],
   "source": [
    "a1"
   ]
  },
  {
   "cell_type": "code",
   "execution_count": 53,
   "id": "7fc8f9cf-43ca-4185-8d84-995f32eb60a2",
   "metadata": {},
   "outputs": [],
   "source": [
    "a1.extend([24,25,26])"
   ]
  },
  {
   "cell_type": "code",
   "execution_count": 54,
   "id": "fc956dbf-061a-44da-95c9-460d11ecc704",
   "metadata": {},
   "outputs": [
    {
     "data": {
      "text/plain": [
       "[47, 36, 24, 50, 22, 29, 38, 36, 40, 35, 24, 25, 26]"
      ]
     },
     "execution_count": 54,
     "metadata": {},
     "output_type": "execute_result"
    }
   ],
   "source": [
    "a1"
   ]
  },
  {
   "cell_type": "code",
   "execution_count": 55,
   "id": "eacc5891-cb22-491a-927b-0b1967aee14f",
   "metadata": {},
   "outputs": [],
   "source": [
    "a1.append([31,12,35])"
   ]
  },
  {
   "cell_type": "code",
   "execution_count": 56,
   "id": "2988cc78-0eeb-4103-a729-23629f68a065",
   "metadata": {},
   "outputs": [
    {
     "data": {
      "text/plain": [
       "[47, 36, 24, 50, 22, 29, 38, 36, 40, 35, 24, 25, 26, [31, 12, 35]]"
      ]
     },
     "execution_count": 56,
     "metadata": {},
     "output_type": "execute_result"
    }
   ],
   "source": [
    "a1"
   ]
  },
  {
   "cell_type": "code",
   "execution_count": 57,
   "id": "a535cf71-1aa5-44b8-9af2-bc56edd65dbc",
   "metadata": {},
   "outputs": [],
   "source": [
    "a1.insert(4, 42)"
   ]
  },
  {
   "cell_type": "code",
   "execution_count": 58,
   "id": "d13a1e5c-d25e-4862-8ace-6d2b70ad778b",
   "metadata": {},
   "outputs": [
    {
     "data": {
      "text/plain": [
       "[47, 36, 24, 50, 42, 22, 29, 38, 36, 40, 35, 24, 25, 26, [31, 12, 35]]"
      ]
     },
     "execution_count": 58,
     "metadata": {},
     "output_type": "execute_result"
    }
   ],
   "source": [
    "a1"
   ]
  },
  {
   "cell_type": "code",
   "execution_count": 59,
   "id": "ab4dafe4-bcaf-462d-8235-523b3fca67ef",
   "metadata": {},
   "outputs": [],
   "source": [
    "a1.insert(10,50)"
   ]
  },
  {
   "cell_type": "code",
   "execution_count": 60,
   "id": "9ea6b15c-0277-4aae-acdb-eb1b456df21e",
   "metadata": {},
   "outputs": [
    {
     "data": {
      "text/plain": [
       "[47, 36, 24, 50, 42, 22, 29, 38, 36, 40, 50, 35, 24, 25, 26, [31, 12, 35]]"
      ]
     },
     "execution_count": 60,
     "metadata": {},
     "output_type": "execute_result"
    }
   ],
   "source": [
    "a1"
   ]
  },
  {
   "cell_type": "code",
   "execution_count": 62,
   "id": "aaee44cb-94bf-4742-b2ab-3a0d664542e7",
   "metadata": {},
   "outputs": [],
   "source": [
    "a1[5] = 32"
   ]
  },
  {
   "cell_type": "code",
   "execution_count": 63,
   "id": "f47867d7-a692-4d2d-88fd-8c56982ad642",
   "metadata": {},
   "outputs": [
    {
     "data": {
      "text/plain": [
       "[47, 36, 24, 50, 42, 32, 29, 38, 36, 40, 50, 35, 24, 25, 26, [31, 12, 35]]"
      ]
     },
     "execution_count": 63,
     "metadata": {},
     "output_type": "execute_result"
    }
   ],
   "source": [
    "a1"
   ]
  },
  {
   "cell_type": "code",
   "execution_count": 64,
   "id": "0e2c69c3-a470-43ca-8830-026014ec1524",
   "metadata": {},
   "outputs": [],
   "source": [
    "a1[2] = 30"
   ]
  },
  {
   "cell_type": "code",
   "execution_count": 65,
   "id": "4f6f7710-4f5d-4364-be55-dfc3ecf75341",
   "metadata": {},
   "outputs": [
    {
     "data": {
      "text/plain": [
       "[47, 36, 30, 50, 42, 32, 29, 38, 36, 40, 50, 35, 24, 25, 26, [31, 12, 35]]"
      ]
     },
     "execution_count": 65,
     "metadata": {},
     "output_type": "execute_result"
    }
   ],
   "source": [
    "a1"
   ]
  },
  {
   "cell_type": "code",
   "execution_count": 66,
   "id": "ef23f4b9-48cf-4e54-8b53-3d8b91a911b9",
   "metadata": {},
   "outputs": [
    {
     "data": {
      "text/plain": [
       "29"
      ]
     },
     "execution_count": 66,
     "metadata": {},
     "output_type": "execute_result"
    }
   ],
   "source": [
    "a1.pop(6)"
   ]
  },
  {
   "cell_type": "code",
   "execution_count": 67,
   "id": "bd11d2d4-c1a1-49a2-8a6a-25dbc18d2d9a",
   "metadata": {},
   "outputs": [
    {
     "data": {
      "text/plain": [
       "[47, 36, 30, 50, 42, 32, 38, 36, 40, 50, 35, 24, 25, 26, [31, 12, 35]]"
      ]
     },
     "execution_count": 67,
     "metadata": {},
     "output_type": "execute_result"
    }
   ],
   "source": [
    "a1"
   ]
  },
  {
   "cell_type": "code",
   "execution_count": 68,
   "id": "7152bb1c-ba6a-4e89-b4cc-e97947336858",
   "metadata": {},
   "outputs": [
    {
     "data": {
      "text/plain": [
       "50"
      ]
     },
     "execution_count": 68,
     "metadata": {},
     "output_type": "execute_result"
    }
   ],
   "source": [
    "a1.pop(3)"
   ]
  },
  {
   "cell_type": "code",
   "execution_count": 69,
   "id": "d4a85e12-ad2a-4845-912c-6329879ffae5",
   "metadata": {},
   "outputs": [
    {
     "data": {
      "text/plain": [
       "[47, 36, 30, 42, 32, 38, 36, 40, 50, 35, 24, 25, 26, [31, 12, 35]]"
      ]
     },
     "execution_count": 69,
     "metadata": {},
     "output_type": "execute_result"
    }
   ],
   "source": [
    "a1"
   ]
  },
  {
   "cell_type": "code",
   "execution_count": 70,
   "id": "c132d87d-caa1-44ad-a3cc-a63d8eb54f43",
   "metadata": {},
   "outputs": [
    {
     "data": {
      "text/plain": [
       "[31, 12, 35]"
      ]
     },
     "execution_count": 70,
     "metadata": {},
     "output_type": "execute_result"
    }
   ],
   "source": [
    "a1.pop()"
   ]
  },
  {
   "cell_type": "code",
   "execution_count": 71,
   "id": "2bfd3e71-1035-432e-8026-f1dc87b540fa",
   "metadata": {},
   "outputs": [
    {
     "data": {
      "text/plain": [
       "[47, 36, 30, 42, 32, 38, 36, 40, 50, 35, 24, 25, 26]"
      ]
     },
     "execution_count": 71,
     "metadata": {},
     "output_type": "execute_result"
    }
   ],
   "source": [
    "a1"
   ]
  },
  {
   "cell_type": "code",
   "execution_count": 72,
   "id": "e5263c3c-7377-4f71-9c6e-a062888c7525",
   "metadata": {},
   "outputs": [
    {
     "data": {
      "text/plain": [
       "26"
      ]
     },
     "execution_count": 72,
     "metadata": {},
     "output_type": "execute_result"
    }
   ],
   "source": [
    "a1.pop()"
   ]
  },
  {
   "cell_type": "code",
   "execution_count": 73,
   "id": "4d19ebdd-5b17-4c9e-9a2d-a34f2a920e33",
   "metadata": {},
   "outputs": [
    {
     "data": {
      "text/plain": [
       "[47, 36, 30, 42, 32, 38, 36, 40, 50, 35, 24, 25]"
      ]
     },
     "execution_count": 73,
     "metadata": {},
     "output_type": "execute_result"
    }
   ],
   "source": [
    "a1"
   ]
  },
  {
   "cell_type": "code",
   "execution_count": 75,
   "id": "77a02d13-d1f8-4e88-97a8-8e1edb71dcce",
   "metadata": {},
   "outputs": [],
   "source": [
    "del a1[3]"
   ]
  },
  {
   "cell_type": "code",
   "execution_count": 76,
   "id": "d4cf732d-4f54-4e98-a22c-34e91e9255e0",
   "metadata": {},
   "outputs": [
    {
     "data": {
      "text/plain": [
       "[47, 36, 30, 32, 38, 36, 40, 50, 35, 24, 25]"
      ]
     },
     "execution_count": 76,
     "metadata": {},
     "output_type": "execute_result"
    }
   ],
   "source": [
    "a1"
   ]
  },
  {
   "cell_type": "code",
   "execution_count": 77,
   "id": "f48e6254-d6b1-4eff-b396-d8b5c358c1db",
   "metadata": {},
   "outputs": [],
   "source": [
    "a1.clear()"
   ]
  },
  {
   "cell_type": "code",
   "execution_count": 78,
   "id": "20c982f9-78b7-4d9a-9f4e-5b45cfb1f8a3",
   "metadata": {},
   "outputs": [
    {
     "data": {
      "text/plain": [
       "[]"
      ]
     },
     "execution_count": 78,
     "metadata": {},
     "output_type": "execute_result"
    }
   ],
   "source": [
    "a1"
   ]
  },
  {
   "cell_type": "code",
   "execution_count": 79,
   "id": "14a2e5ae-9828-480d-8549-a24cfdcef3de",
   "metadata": {},
   "outputs": [],
   "source": [
    "del a1"
   ]
  },
  {
   "cell_type": "code",
   "execution_count": 80,
   "id": "2db1517b-8762-4722-8dd9-06e70c9d2fc6",
   "metadata": {},
   "outputs": [
    {
     "ename": "NameError",
     "evalue": "name 'a1' is not defined",
     "output_type": "error",
     "traceback": [
      "\u001b[1;31m---------------------------------------------------------------------------\u001b[0m",
      "\u001b[1;31mNameError\u001b[0m                                 Traceback (most recent call last)",
      "Cell \u001b[1;32mIn[80], line 1\u001b[0m\n\u001b[1;32m----> 1\u001b[0m a1\n",
      "\u001b[1;31mNameError\u001b[0m: name 'a1' is not defined"
     ]
    }
   ],
   "source": [
    "a1"
   ]
  },
  {
   "cell_type": "markdown",
   "id": "09e6c5a7-e8ed-4603-a66d-f14c1ddaa3ee",
   "metadata": {},
   "source": [
    "### List Membership"
   ]
  },
  {
   "cell_type": "code",
   "execution_count": 81,
   "id": "f962061d-dd3e-4870-81ed-4fb8930e3ffe",
   "metadata": {},
   "outputs": [
    {
     "data": {
      "text/plain": [
       "[2, 4, 6, 8, 1, 3]"
      ]
     },
     "execution_count": 81,
     "metadata": {},
     "output_type": "execute_result"
    }
   ],
   "source": [
    "a1 = [2,4,6,8,1,3]\n",
    "a1"
   ]
  },
  {
   "cell_type": "code",
   "execution_count": 82,
   "id": "c1bdac77-2c08-4432-9979-217dabc72b24",
   "metadata": {},
   "outputs": [
    {
     "data": {
      "text/plain": [
       "True"
      ]
     },
     "execution_count": 82,
     "metadata": {},
     "output_type": "execute_result"
    }
   ],
   "source": [
    "6 in a1"
   ]
  },
  {
   "cell_type": "code",
   "execution_count": 83,
   "id": "3b5bb120-cd39-4aed-bb3f-4f3e88ff6a64",
   "metadata": {},
   "outputs": [
    {
     "data": {
      "text/plain": [
       "False"
      ]
     },
     "execution_count": 83,
     "metadata": {},
     "output_type": "execute_result"
    }
   ],
   "source": [
    "6 not in a1"
   ]
  },
  {
   "cell_type": "code",
   "execution_count": 84,
   "id": "2950b44a-0a3e-4498-9024-7e7537f4a539",
   "metadata": {},
   "outputs": [
    {
     "data": {
      "text/plain": [
       "False"
      ]
     },
     "execution_count": 84,
     "metadata": {},
     "output_type": "execute_result"
    }
   ],
   "source": [
    "10 in a1"
   ]
  },
  {
   "cell_type": "code",
   "execution_count": 85,
   "id": "fed68a9f-fdec-426a-a222-d850da42f8da",
   "metadata": {},
   "outputs": [
    {
     "data": {
      "text/plain": [
       "True"
      ]
     },
     "execution_count": 85,
     "metadata": {},
     "output_type": "execute_result"
    }
   ],
   "source": [
    "10 not in a1"
   ]
  },
  {
   "cell_type": "markdown",
   "id": "88336129-f194-419c-9a3e-be21726b6d3b",
   "metadata": {},
   "source": [
    "### Reverse and sort list"
   ]
  },
  {
   "cell_type": "code",
   "execution_count": 86,
   "id": "22c65258-794e-446c-8fbe-c9c3c9d12a1c",
   "metadata": {},
   "outputs": [
    {
     "data": {
      "text/plain": [
       "[2, 4, 6, 8, 1, 3]"
      ]
     },
     "execution_count": 86,
     "metadata": {},
     "output_type": "execute_result"
    }
   ],
   "source": [
    "a1"
   ]
  },
  {
   "cell_type": "code",
   "execution_count": 87,
   "id": "8eb44385-6e19-4879-a74f-243df452ed7a",
   "metadata": {},
   "outputs": [
    {
     "data": {
      "text/plain": [
       "[3, 1, 8, 6, 4, 2]"
      ]
     },
     "execution_count": 87,
     "metadata": {},
     "output_type": "execute_result"
    }
   ],
   "source": [
    "a1[::-1]"
   ]
  },
  {
   "cell_type": "code",
   "execution_count": 88,
   "id": "9509d3cb-2e18-474d-9ee5-466539333218",
   "metadata": {},
   "outputs": [
    {
     "data": {
      "text/plain": [
       "[2, 4, 6, 8, 1, 3]"
      ]
     },
     "execution_count": 88,
     "metadata": {},
     "output_type": "execute_result"
    }
   ],
   "source": [
    "a1"
   ]
  },
  {
   "cell_type": "code",
   "execution_count": 89,
   "id": "c99f4433-3523-46a7-b19c-619d72a81895",
   "metadata": {},
   "outputs": [],
   "source": [
    "a2 = a1[::-1]"
   ]
  },
  {
   "cell_type": "code",
   "execution_count": 91,
   "id": "316c7979-028e-4ac0-9cac-a1bc11339226",
   "metadata": {},
   "outputs": [
    {
     "data": {
      "text/plain": [
       "[3, 1, 8, 6, 4, 2]"
      ]
     },
     "execution_count": 91,
     "metadata": {},
     "output_type": "execute_result"
    }
   ],
   "source": [
    "a2"
   ]
  },
  {
   "cell_type": "code",
   "execution_count": 92,
   "id": "e07fff9f-2f69-433b-bc28-bd7cb4226c7f",
   "metadata": {},
   "outputs": [
    {
     "data": {
      "text/plain": [
       "[2, 4, 6, 8, 1, 3]"
      ]
     },
     "execution_count": 92,
     "metadata": {},
     "output_type": "execute_result"
    }
   ],
   "source": [
    "a1"
   ]
  },
  {
   "cell_type": "code",
   "execution_count": 93,
   "id": "9d10e2a7-19e8-410b-a8ed-baf4faa5d453",
   "metadata": {},
   "outputs": [],
   "source": [
    "a1.reverse()"
   ]
  },
  {
   "cell_type": "code",
   "execution_count": 94,
   "id": "09027970-f52a-4b35-a4ca-92f61fd127b2",
   "metadata": {},
   "outputs": [
    {
     "data": {
      "text/plain": [
       "[3, 1, 8, 6, 4, 2]"
      ]
     },
     "execution_count": 94,
     "metadata": {},
     "output_type": "execute_result"
    }
   ],
   "source": [
    "a1"
   ]
  },
  {
   "cell_type": "code",
   "execution_count": 95,
   "id": "b3c23fca-054c-41d9-b256-57600339817d",
   "metadata": {},
   "outputs": [],
   "source": [
    "a1.sort()"
   ]
  },
  {
   "cell_type": "code",
   "execution_count": 96,
   "id": "43290bc2-0941-4cf6-a71b-4470a22601b2",
   "metadata": {},
   "outputs": [
    {
     "data": {
      "text/plain": [
       "[1, 2, 3, 4, 6, 8]"
      ]
     },
     "execution_count": 96,
     "metadata": {},
     "output_type": "execute_result"
    }
   ],
   "source": [
    "a1"
   ]
  },
  {
   "cell_type": "code",
   "execution_count": 97,
   "id": "95442d82-07d9-4411-9a3a-ff5040b82b26",
   "metadata": {},
   "outputs": [
    {
     "data": {
      "text/plain": [
       "[3, 1, 8, 6, 4, 2]"
      ]
     },
     "execution_count": 97,
     "metadata": {},
     "output_type": "execute_result"
    }
   ],
   "source": [
    "a2"
   ]
  },
  {
   "cell_type": "code",
   "execution_count": 98,
   "id": "88410230-7038-4646-a2e1-1eb7cd1ee798",
   "metadata": {},
   "outputs": [],
   "source": [
    "a2.sort(reverse=True)"
   ]
  },
  {
   "cell_type": "code",
   "execution_count": 99,
   "id": "cdbe3b2b-a477-429d-ab40-c221e0feef05",
   "metadata": {},
   "outputs": [
    {
     "data": {
      "text/plain": [
       "[8, 6, 4, 3, 2, 1]"
      ]
     },
     "execution_count": 99,
     "metadata": {},
     "output_type": "execute_result"
    }
   ],
   "source": [
    "a2"
   ]
  },
  {
   "cell_type": "code",
   "execution_count": 104,
   "id": "0111f73e-cb70-4ca6-bdec-bf128fa7ed6c",
   "metadata": {},
   "outputs": [
    {
     "data": {
      "text/plain": [
       "[9, 6, 4, 11, 9]"
      ]
     },
     "execution_count": 104,
     "metadata": {},
     "output_type": "execute_result"
    }
   ],
   "source": [
    "a3 = [9,6,4,11,9]\n",
    "a3"
   ]
  },
  {
   "cell_type": "code",
   "execution_count": 105,
   "id": "9e162af3-12f8-4b02-aa04-44615b7e37db",
   "metadata": {},
   "outputs": [
    {
     "data": {
      "text/plain": [
       "[4, 6, 9, 9, 11]"
      ]
     },
     "execution_count": 105,
     "metadata": {},
     "output_type": "execute_result"
    }
   ],
   "source": [
    "sorted(a3)"
   ]
  },
  {
   "cell_type": "code",
   "execution_count": 106,
   "id": "8e160938-5de1-447e-be0b-ede90dbae477",
   "metadata": {},
   "outputs": [
    {
     "data": {
      "text/plain": [
       "[9, 6, 4, 11, 9]"
      ]
     },
     "execution_count": 106,
     "metadata": {},
     "output_type": "execute_result"
    }
   ],
   "source": [
    "a3"
   ]
  },
  {
   "cell_type": "code",
   "execution_count": 107,
   "id": "5b869b0d-1b04-4350-b89b-e15bd1e839f2",
   "metadata": {},
   "outputs": [],
   "source": [
    "a4 = sorted(a3)"
   ]
  },
  {
   "cell_type": "code",
   "execution_count": 108,
   "id": "6676de5c-9fdf-4d1e-a553-215da419cfae",
   "metadata": {},
   "outputs": [
    {
     "data": {
      "text/plain": [
       "[4, 6, 9, 9, 11]"
      ]
     },
     "execution_count": 108,
     "metadata": {},
     "output_type": "execute_result"
    }
   ],
   "source": [
    "a4"
   ]
  },
  {
   "cell_type": "code",
   "execution_count": 109,
   "id": "8cd743ad-ff55-494f-8187-6104690bdd27",
   "metadata": {},
   "outputs": [
    {
     "data": {
      "text/plain": [
       "[11, 9, 9, 6, 4]"
      ]
     },
     "execution_count": 109,
     "metadata": {},
     "output_type": "execute_result"
    }
   ],
   "source": [
    "sorted(a3, reverse=True)"
   ]
  },
  {
   "cell_type": "markdown",
   "id": "eb195a6d-e360-413e-8f47-f985e703962b",
   "metadata": {},
   "source": [
    "## Tuple"
   ]
  },
  {
   "cell_type": "code",
   "execution_count": 1,
   "id": "7d9e1124-3b82-42ac-a77c-e6265d8ebf1d",
   "metadata": {},
   "outputs": [
    {
     "data": {
      "text/plain": [
       "(12, 15, 17, 11, 22)"
      ]
     },
     "execution_count": 1,
     "metadata": {},
     "output_type": "execute_result"
    }
   ],
   "source": [
    "tup1 = (12, 15, 17, 11, 22)            #Tuple of integers\n",
    "tup1"
   ]
  },
  {
   "cell_type": "code",
   "execution_count": 2,
   "id": "aa047fad-bcb4-4d75-a796-7913f4bc6bd5",
   "metadata": {},
   "outputs": [
    {
     "data": {
      "text/plain": [
       "tuple"
      ]
     },
     "execution_count": 2,
     "metadata": {},
     "output_type": "execute_result"
    }
   ],
   "source": [
    "type(tup1)"
   ]
  },
  {
   "cell_type": "code",
   "execution_count": 4,
   "id": "ecaf5cf1-5c76-48e8-81d5-6915ae03663a",
   "metadata": {},
   "outputs": [
    {
     "data": {
      "text/plain": [
       "5"
      ]
     },
     "execution_count": 4,
     "metadata": {},
     "output_type": "execute_result"
    }
   ],
   "source": [
    "len(tup1)"
   ]
  },
  {
   "cell_type": "code",
   "execution_count": 5,
   "id": "9cf9192e-686e-4280-a9f2-ed542c74f727",
   "metadata": {},
   "outputs": [
    {
     "data": {
      "text/plain": [
       "(4.7, 9.3, 9.7, 2.8, 4.7)"
      ]
     },
     "execution_count": 5,
     "metadata": {},
     "output_type": "execute_result"
    }
   ],
   "source": [
    "tup2 = (4.7, 9.3, 9.7, 2.8, 4.7)      #Tuple of float\n",
    "tup2"
   ]
  },
  {
   "cell_type": "code",
   "execution_count": 6,
   "id": "04000ea5-eda2-410f-9b43-8ac90790f9a2",
   "metadata": {},
   "outputs": [
    {
     "data": {
      "text/plain": [
       "('Apple', 'Banana', 'Kiwi', 'Apple')"
      ]
     },
     "execution_count": 6,
     "metadata": {},
     "output_type": "execute_result"
    }
   ],
   "source": [
    "tup3 = ('Apple', 'Banana', 'Kiwi', 'Apple')         #Tuple of strings\n",
    "tup3"
   ]
  },
  {
   "cell_type": "code",
   "execution_count": 7,
   "id": "3ad8be9b-005f-47d6-a70c-853cd7c9f38a",
   "metadata": {},
   "outputs": [
    {
     "data": {
      "text/plain": [
       "('hi', 7, 9.2, True)"
      ]
     },
     "execution_count": 7,
     "metadata": {},
     "output_type": "execute_result"
    }
   ],
   "source": [
    "tup4 = ('hi', 7, 9.2, True)               #Mixed tuple\n",
    "tup4"
   ]
  },
  {
   "cell_type": "code",
   "execution_count": 8,
   "id": "b336c325-aead-4228-b5a3-1e2e8c4ec1d6",
   "metadata": {},
   "outputs": [
    {
     "data": {
      "text/plain": [
       "(3, 9, (5, 9, 7), 8, 2)"
      ]
     },
     "execution_count": 8,
     "metadata": {},
     "output_type": "execute_result"
    }
   ],
   "source": [
    "tup5 = (3, 9, (5, 9, 7), 8, 2)            #Nested tuple\n",
    "tup5"
   ]
  },
  {
   "cell_type": "code",
   "execution_count": 9,
   "id": "e1b1c86a-bd40-4016-b2ae-0ad8ea7591ce",
   "metadata": {},
   "outputs": [
    {
     "data": {
      "text/plain": [
       "5"
      ]
     },
     "execution_count": 9,
     "metadata": {},
     "output_type": "execute_result"
    }
   ],
   "source": [
    "len(tup5)"
   ]
  },
  {
   "cell_type": "code",
   "execution_count": 10,
   "id": "993b737d-19b0-4ea2-abca-f6a4ce8dc1c5",
   "metadata": {},
   "outputs": [
    {
     "data": {
      "text/plain": [
       "(4, 9, [4, 9], 7)"
      ]
     },
     "execution_count": 10,
     "metadata": {},
     "output_type": "execute_result"
    }
   ],
   "source": [
    "tup6 = (4, 9, [4,9], 7)           #List inside tuple\n",
    "tup6"
   ]
  },
  {
   "cell_type": "code",
   "execution_count": 12,
   "id": "38b93012-eb05-4e56-b254-dc89e18c22c7",
   "metadata": {},
   "outputs": [
    {
     "data": {
      "text/plain": [
       "4"
      ]
     },
     "execution_count": 12,
     "metadata": {},
     "output_type": "execute_result"
    }
   ],
   "source": [
    "len(tup6)"
   ]
  },
  {
   "cell_type": "code",
   "execution_count": 11,
   "id": "c7f660cd-4fa1-4895-86e2-e01fd8bd9883",
   "metadata": {},
   "outputs": [
    {
     "data": {
      "text/plain": [
       "[4, 9, (3, 4, 5), 8]"
      ]
     },
     "execution_count": 11,
     "metadata": {},
     "output_type": "execute_result"
    }
   ],
   "source": [
    "list1 = [4, 9, (3,4,5), 8]         #Tuple inside list\n",
    "list1"
   ]
  },
  {
   "cell_type": "markdown",
   "id": "64fa3203-f625-49f5-953a-9d97ab1319dc",
   "metadata": {},
   "source": [
    "### Tuple indexing and slicing"
   ]
  },
  {
   "cell_type": "code",
   "execution_count": 13,
   "id": "4d847351-0443-4e44-9c11-4542fc605b10",
   "metadata": {},
   "outputs": [
    {
     "data": {
      "text/plain": [
       "(2, 4, 6, 8, 1, 3, 5, 7, 9, 11, 16, 35)"
      ]
     },
     "execution_count": 13,
     "metadata": {},
     "output_type": "execute_result"
    }
   ],
   "source": [
    "t1 = (2,4,6,8,1,3,5,7,9,11,16,35)\n",
    "t1"
   ]
  },
  {
   "cell_type": "code",
   "execution_count": 14,
   "id": "d19d46a2-8ed5-40c4-806c-552d2da334b4",
   "metadata": {},
   "outputs": [
    {
     "data": {
      "text/plain": [
       "5"
      ]
     },
     "execution_count": 14,
     "metadata": {},
     "output_type": "execute_result"
    }
   ],
   "source": [
    "t1[6]"
   ]
  },
  {
   "cell_type": "code",
   "execution_count": 15,
   "id": "e79d7ddd-e8e4-4d67-8e48-02837e87b26e",
   "metadata": {},
   "outputs": [
    {
     "data": {
      "text/plain": [
       "5"
      ]
     },
     "execution_count": 15,
     "metadata": {},
     "output_type": "execute_result"
    }
   ],
   "source": [
    "t1[-6]"
   ]
  },
  {
   "cell_type": "code",
   "execution_count": 16,
   "id": "20bd6058-b09a-4581-a540-6802f3bc0cd6",
   "metadata": {},
   "outputs": [
    {
     "data": {
      "text/plain": [
       "(2, 4, 6, 8, 1, 3, 5, 7, 9, 11, 16, 35)"
      ]
     },
     "execution_count": 16,
     "metadata": {},
     "output_type": "execute_result"
    }
   ],
   "source": [
    "t1"
   ]
  },
  {
   "cell_type": "code",
   "execution_count": 18,
   "id": "3396b8c3-1571-4b8a-b946-642135ed5bff",
   "metadata": {},
   "outputs": [
    {
     "data": {
      "text/plain": [
       "(6, 1, 5, 9)"
      ]
     },
     "execution_count": 18,
     "metadata": {},
     "output_type": "execute_result"
    }
   ],
   "source": [
    "t1[2:10:2]"
   ]
  },
  {
   "cell_type": "code",
   "execution_count": 19,
   "id": "a42c096c-52d8-4dc3-8519-c3d69bf62f05",
   "metadata": {},
   "outputs": [
    {
     "data": {
      "text/plain": [
       "(6, 1, 5, 9)"
      ]
     },
     "execution_count": 19,
     "metadata": {},
     "output_type": "execute_result"
    }
   ],
   "source": [
    "t1[-10:-2:2]"
   ]
  },
  {
   "cell_type": "code",
   "execution_count": 20,
   "id": "4e2ba2f5-93fc-4f4d-8fee-36596ac56c24",
   "metadata": {},
   "outputs": [
    {
     "data": {
      "text/plain": [
       "(11, 7, 3, 8)"
      ]
     },
     "execution_count": 20,
     "metadata": {},
     "output_type": "execute_result"
    }
   ],
   "source": [
    "t1[9:1:-2]"
   ]
  },
  {
   "cell_type": "code",
   "execution_count": 21,
   "id": "21717ebd-454c-43ac-b302-2ba92dc52f64",
   "metadata": {},
   "outputs": [
    {
     "data": {
      "text/plain": [
       "(11, 7, 3, 8)"
      ]
     },
     "execution_count": 21,
     "metadata": {},
     "output_type": "execute_result"
    }
   ],
   "source": [
    "t1[-3:-11:-2]"
   ]
  },
  {
   "cell_type": "code",
   "execution_count": 22,
   "id": "bf4ad69d-7392-4c8a-98c5-b139acbba53c",
   "metadata": {},
   "outputs": [
    {
     "data": {
      "text/plain": [
       "(3, 9, (5, 9, 7), 8, 2)"
      ]
     },
     "execution_count": 22,
     "metadata": {},
     "output_type": "execute_result"
    }
   ],
   "source": [
    "tup5"
   ]
  },
  {
   "cell_type": "code",
   "execution_count": 26,
   "id": "ed286a7c-7a96-4509-a804-6c29d46f34ae",
   "metadata": {},
   "outputs": [
    {
     "data": {
      "text/plain": [
       "(5, 9, 7)"
      ]
     },
     "execution_count": 26,
     "metadata": {},
     "output_type": "execute_result"
    }
   ],
   "source": [
    "tup5[2]"
   ]
  },
  {
   "cell_type": "code",
   "execution_count": 25,
   "id": "cdd667b3-bc72-4dc3-ae7d-0d85050f750b",
   "metadata": {},
   "outputs": [
    {
     "data": {
      "text/plain": [
       "5"
      ]
     },
     "execution_count": 25,
     "metadata": {},
     "output_type": "execute_result"
    }
   ],
   "source": [
    "tup5[2][0]"
   ]
  },
  {
   "cell_type": "markdown",
   "id": "e1f3f455-31b5-4ab9-a9b3-b5ba4882ff00",
   "metadata": {},
   "source": [
    "### Tuple methods"
   ]
  },
  {
   "cell_type": "code",
   "execution_count": 29,
   "id": "7625956a-fa9a-4a8e-a83f-6388a7cd85e7",
   "metadata": {},
   "outputs": [
    {
     "data": {
      "text/plain": [
       "(5, 9, 2, 8, 9, 3, 9)"
      ]
     },
     "execution_count": 29,
     "metadata": {},
     "output_type": "execute_result"
    }
   ],
   "source": [
    "t11 = (5,9,2,8,9,3,9)\n",
    "t11"
   ]
  },
  {
   "cell_type": "code",
   "execution_count": 30,
   "id": "9ea8fcf3-8dc7-44e2-9d3d-e0879b3335e4",
   "metadata": {},
   "outputs": [
    {
     "data": {
      "text/plain": [
       "3"
      ]
     },
     "execution_count": 30,
     "metadata": {},
     "output_type": "execute_result"
    }
   ],
   "source": [
    "t11.count(9)"
   ]
  },
  {
   "cell_type": "code",
   "execution_count": 31,
   "id": "6466d379-d1fb-4429-bb42-709b842accce",
   "metadata": {},
   "outputs": [
    {
     "data": {
      "text/plain": [
       "2"
      ]
     },
     "execution_count": 31,
     "metadata": {},
     "output_type": "execute_result"
    }
   ],
   "source": [
    "t11.index(2)"
   ]
  },
  {
   "cell_type": "code",
   "execution_count": 32,
   "id": "fe750df6-dd93-40f5-8837-718c93dab9ea",
   "metadata": {},
   "outputs": [
    {
     "data": {
      "text/plain": [
       "1"
      ]
     },
     "execution_count": 32,
     "metadata": {},
     "output_type": "execute_result"
    }
   ],
   "source": [
    "t11.index(9)"
   ]
  },
  {
   "cell_type": "code",
   "execution_count": 33,
   "id": "2f3921da-e47a-4fe6-a6cb-228ca0adfee0",
   "metadata": {},
   "outputs": [],
   "source": [
    "del t11"
   ]
  },
  {
   "cell_type": "code",
   "execution_count": 34,
   "id": "54e0e561-5dfe-4bf2-8e95-d56ff1511f7b",
   "metadata": {},
   "outputs": [
    {
     "ename": "NameError",
     "evalue": "name 't11' is not defined",
     "output_type": "error",
     "traceback": [
      "\u001b[1;31m---------------------------------------------------------------------------\u001b[0m",
      "\u001b[1;31mNameError\u001b[0m                                 Traceback (most recent call last)",
      "Cell \u001b[1;32mIn[34], line 1\u001b[0m\n\u001b[1;32m----> 1\u001b[0m t11\n",
      "\u001b[1;31mNameError\u001b[0m: name 't11' is not defined"
     ]
    }
   ],
   "source": [
    "t11"
   ]
  },
  {
   "cell_type": "markdown",
   "id": "bdae95ed-6099-4862-8ccf-c287bf461a89",
   "metadata": {},
   "source": [
    "### Tuple membership"
   ]
  },
  {
   "cell_type": "code",
   "execution_count": 36,
   "id": "2e307f89-8f66-4fb3-9580-c2771fdef9ed",
   "metadata": {},
   "outputs": [
    {
     "data": {
      "text/plain": [
       "(2, 4, 6, 8, 1, 3, 5, 7, 9, 11, 16, 35)"
      ]
     },
     "execution_count": 36,
     "metadata": {},
     "output_type": "execute_result"
    }
   ],
   "source": [
    "t1"
   ]
  },
  {
   "cell_type": "code",
   "execution_count": 37,
   "id": "13a3931f-ca5f-4c0a-a72d-74d9bf18cbbb",
   "metadata": {},
   "outputs": [
    {
     "data": {
      "text/plain": [
       "True"
      ]
     },
     "execution_count": 37,
     "metadata": {},
     "output_type": "execute_result"
    }
   ],
   "source": [
    "8 in t1"
   ]
  },
  {
   "cell_type": "code",
   "execution_count": 38,
   "id": "c089ba11-bbcc-4b24-8ec0-d4b4bd56060a",
   "metadata": {},
   "outputs": [
    {
     "data": {
      "text/plain": [
       "False"
      ]
     },
     "execution_count": 38,
     "metadata": {},
     "output_type": "execute_result"
    }
   ],
   "source": [
    "8 not in t1"
   ]
  },
  {
   "cell_type": "code",
   "execution_count": 39,
   "id": "1581a28a-68ed-43ae-9c70-0c6cad6099d3",
   "metadata": {},
   "outputs": [
    {
     "data": {
      "text/plain": [
       "False"
      ]
     },
     "execution_count": 39,
     "metadata": {},
     "output_type": "execute_result"
    }
   ],
   "source": [
    "50 in t1"
   ]
  },
  {
   "cell_type": "code",
   "execution_count": 40,
   "id": "ec1666e7-f416-41cc-9bf2-e7ec898c46fb",
   "metadata": {},
   "outputs": [
    {
     "data": {
      "text/plain": [
       "True"
      ]
     },
     "execution_count": 40,
     "metadata": {},
     "output_type": "execute_result"
    }
   ],
   "source": [
    "50 not in t1"
   ]
  },
  {
   "cell_type": "markdown",
   "id": "fce20a82-a5fb-4fc7-ba44-2e0a125407bd",
   "metadata": {},
   "source": [
    "### Reverse and sort tuple"
   ]
  },
  {
   "cell_type": "code",
   "execution_count": 41,
   "id": "de3d0743-f300-4e5a-a8c5-957efa562668",
   "metadata": {},
   "outputs": [
    {
     "data": {
      "text/plain": [
       "(2, 4, 6, 8, 1, 3, 5, 7, 9, 11, 16, 35)"
      ]
     },
     "execution_count": 41,
     "metadata": {},
     "output_type": "execute_result"
    }
   ],
   "source": [
    "t1"
   ]
  },
  {
   "cell_type": "code",
   "execution_count": 42,
   "id": "d9383c85-471c-4ea7-b373-921e30299b1a",
   "metadata": {},
   "outputs": [
    {
     "data": {
      "text/plain": [
       "(35, 16, 11, 9, 7, 5, 3, 1, 8, 6, 4, 2)"
      ]
     },
     "execution_count": 42,
     "metadata": {},
     "output_type": "execute_result"
    }
   ],
   "source": [
    "t1[::-1]"
   ]
  },
  {
   "cell_type": "code",
   "execution_count": 43,
   "id": "60035d65-ec89-4438-ab09-dcd09522d3e2",
   "metadata": {},
   "outputs": [
    {
     "data": {
      "text/plain": [
       "(2, 4, 6, 8, 1, 3, 5, 7, 9, 11, 16, 35)"
      ]
     },
     "execution_count": 43,
     "metadata": {},
     "output_type": "execute_result"
    }
   ],
   "source": [
    "t1"
   ]
  },
  {
   "cell_type": "code",
   "execution_count": 44,
   "id": "e5686eb5-7369-4568-8311-c87a40cf1db9",
   "metadata": {},
   "outputs": [
    {
     "data": {
      "text/plain": [
       "[1, 2, 3, 4, 5, 6, 7, 8, 9, 11, 16, 35]"
      ]
     },
     "execution_count": 44,
     "metadata": {},
     "output_type": "execute_result"
    }
   ],
   "source": [
    "sorted(t1)"
   ]
  },
  {
   "cell_type": "code",
   "execution_count": 45,
   "id": "c843f702-0491-4ddc-9a41-a9c1e40b1556",
   "metadata": {},
   "outputs": [
    {
     "data": {
      "text/plain": [
       "(2, 4, 6, 8, 1, 3, 5, 7, 9, 11, 16, 35)"
      ]
     },
     "execution_count": 45,
     "metadata": {},
     "output_type": "execute_result"
    }
   ],
   "source": [
    "t1"
   ]
  },
  {
   "cell_type": "code",
   "execution_count": 46,
   "id": "e73037eb-21d4-4f0d-8b42-bb662956cfff",
   "metadata": {},
   "outputs": [
    {
     "data": {
      "text/plain": [
       "[35, 16, 11, 9, 8, 7, 6, 5, 4, 3, 2, 1]"
      ]
     },
     "execution_count": 46,
     "metadata": {},
     "output_type": "execute_result"
    }
   ],
   "source": [
    "sorted(t1, reverse=True)"
   ]
  },
  {
   "cell_type": "markdown",
   "id": "9ee763e1-be65-449f-adfb-b40cdd3c5d1c",
   "metadata": {},
   "source": [
    "## Set"
   ]
  },
  {
   "cell_type": "code",
   "execution_count": 1,
   "id": "6622307e-f3af-42da-8f15-d65b328be487",
   "metadata": {},
   "outputs": [
    {
     "data": {
      "text/plain": [
       "{5, 8, 9, 12, 15, 22}"
      ]
     },
     "execution_count": 1,
     "metadata": {},
     "output_type": "execute_result"
    }
   ],
   "source": [
    "s1 = {12, 9, 15, 8, 5, 22, 9, 8}          #Set o intergers\n",
    "s1"
   ]
  },
  {
   "cell_type": "code",
   "execution_count": 48,
   "id": "e093d899-675c-40b5-8940-2ae9e649e2a6",
   "metadata": {},
   "outputs": [
    {
     "data": {
      "text/plain": [
       "{3.9, 5.7, 8.3, 11.4}"
      ]
     },
     "execution_count": 48,
     "metadata": {},
     "output_type": "execute_result"
    }
   ],
   "source": [
    "s2 = {5.7, 3.9, 11.4, 8.3, 3.9}           #Set o float\n",
    "s2"
   ]
  },
  {
   "cell_type": "code",
   "execution_count": 49,
   "id": "e25acd9e-8e42-4956-8702-ca42be6f0ed8",
   "metadata": {},
   "outputs": [
    {
     "data": {
      "text/plain": [
       "{'Apple', 'Banana', 'Kiwi', 'apple', 'banana'}"
      ]
     },
     "execution_count": 49,
     "metadata": {},
     "output_type": "execute_result"
    }
   ],
   "source": [
    "s3 = {'Apple', \"Banana\", \"Apple\", 'apple', \"Kiwi\", 'banana'}        #Set o strings\n",
    "s3"
   ]
  },
  {
   "cell_type": "code",
   "execution_count": 50,
   "id": "97ff99b0-fcf4-46dc-88c8-67ba72f97f8e",
   "metadata": {},
   "outputs": [
    {
     "data": {
      "text/plain": [
       "{1.2, 2, 3.4, 5.6, 6, 9}"
      ]
     },
     "execution_count": 50,
     "metadata": {},
     "output_type": "execute_result"
    }
   ],
   "source": [
    "s4 = {6, 3.4, 9, 5.6, 1.2, 2}\n",
    "s4"
   ]
  },
  {
   "cell_type": "code",
   "execution_count": 51,
   "id": "86df178b-185c-48d8-aaac-1ae3209cd09f",
   "metadata": {},
   "outputs": [
    {
     "data": {
      "text/plain": [
       "{2, 2.5, 22, 4, 45, 7, 8, 'apple', 'hi'}"
      ]
     },
     "execution_count": 51,
     "metadata": {},
     "output_type": "execute_result"
    }
   ],
   "source": [
    "s5 = {4, 2, 45, 8, 2.5, 22, 'hi', 'apple', 7}\n",
    "s5"
   ]
  },
  {
   "cell_type": "markdown",
   "id": "611720a5-2429-4933-8e78-600829853654",
   "metadata": {},
   "source": [
    "### Add, remove and change items of set"
   ]
  },
  {
   "cell_type": "code",
   "execution_count": 52,
   "id": "4722172c-919f-443c-8bd3-7d9757f9b315",
   "metadata": {},
   "outputs": [
    {
     "data": {
      "text/plain": [
       "{5, 8, 9, 12, 15, 22}"
      ]
     },
     "execution_count": 52,
     "metadata": {},
     "output_type": "execute_result"
    }
   ],
   "source": [
    "s1"
   ]
  },
  {
   "cell_type": "code",
   "execution_count": 53,
   "id": "ae6b88ac-f5e2-4442-b991-e2f64b9cd3d8",
   "metadata": {},
   "outputs": [],
   "source": [
    "s1.add(10)"
   ]
  },
  {
   "cell_type": "code",
   "execution_count": 54,
   "id": "13c568c7-c6e5-410c-af71-3b9e71e3a9cf",
   "metadata": {},
   "outputs": [
    {
     "data": {
      "text/plain": [
       "{5, 8, 9, 10, 12, 15, 22}"
      ]
     },
     "execution_count": 54,
     "metadata": {},
     "output_type": "execute_result"
    }
   ],
   "source": [
    "s1"
   ]
  },
  {
   "cell_type": "code",
   "execution_count": 55,
   "id": "123d607c-928c-4951-b784-8d7547ae4069",
   "metadata": {},
   "outputs": [],
   "source": [
    "s1.update((6, 9, 13))"
   ]
  },
  {
   "cell_type": "code",
   "execution_count": 56,
   "id": "69a14fcc-ad46-4ef8-8204-8f64a622fea6",
   "metadata": {},
   "outputs": [
    {
     "data": {
      "text/plain": [
       "{5, 6, 8, 9, 10, 12, 13, 15, 22}"
      ]
     },
     "execution_count": 56,
     "metadata": {},
     "output_type": "execute_result"
    }
   ],
   "source": [
    "s1"
   ]
  },
  {
   "cell_type": "code",
   "execution_count": 59,
   "id": "070ccf94-f2e9-4bfd-8b0b-7eeee3d6aba8",
   "metadata": {},
   "outputs": [],
   "source": [
    "s1.update([23])"
   ]
  },
  {
   "cell_type": "code",
   "execution_count": 60,
   "id": "65368b58-cf23-44ac-959e-fcc205c36e3d",
   "metadata": {},
   "outputs": [
    {
     "data": {
      "text/plain": [
       "{5, 6, 8, 9, 10, 12, 13, 15, 22, 23}"
      ]
     },
     "execution_count": 60,
     "metadata": {},
     "output_type": "execute_result"
    }
   ],
   "source": [
    "s1"
   ]
  },
  {
   "cell_type": "code",
   "execution_count": 65,
   "id": "d12c3917-ee00-4578-917b-c4e75296599a",
   "metadata": {},
   "outputs": [
    {
     "data": {
      "text/plain": [
       "{2, 4, 5, 9, 22}"
      ]
     },
     "execution_count": 65,
     "metadata": {},
     "output_type": "execute_result"
    }
   ],
   "source": [
    "s2 = {4, 9,5,2,22}\n",
    "s2"
   ]
  },
  {
   "cell_type": "code",
   "execution_count": 66,
   "id": "60454f44-d43e-4e59-9d69-b46a30438f4f",
   "metadata": {},
   "outputs": [],
   "source": [
    "s2.add((2,5,7))"
   ]
  },
  {
   "cell_type": "code",
   "execution_count": 67,
   "id": "24b50d35-18cd-49b3-b357-70bbeb1e985e",
   "metadata": {},
   "outputs": [
    {
     "data": {
      "text/plain": [
       "{(2, 5, 7), 2, 22, 4, 5, 9}"
      ]
     },
     "execution_count": 67,
     "metadata": {},
     "output_type": "execute_result"
    }
   ],
   "source": [
    "s2"
   ]
  },
  {
   "cell_type": "code",
   "execution_count": 68,
   "id": "168a48d7-2213-4d5d-bb21-14ee16e287f2",
   "metadata": {},
   "outputs": [
    {
     "data": {
      "text/plain": [
       "{5, 6, 8, 9, 10, 12, 13, 15, 22, 23}"
      ]
     },
     "execution_count": 68,
     "metadata": {},
     "output_type": "execute_result"
    }
   ],
   "source": [
    "s1"
   ]
  },
  {
   "cell_type": "code",
   "execution_count": 69,
   "id": "2149f6ec-439b-4830-a1c7-481ddc6cf034",
   "metadata": {},
   "outputs": [],
   "source": [
    "s1.remove(10)"
   ]
  },
  {
   "cell_type": "code",
   "execution_count": 70,
   "id": "af91521a-f8e0-4757-b33f-cf5622386f0e",
   "metadata": {},
   "outputs": [
    {
     "data": {
      "text/plain": [
       "{5, 6, 8, 9, 12, 13, 15, 22, 23}"
      ]
     },
     "execution_count": 70,
     "metadata": {},
     "output_type": "execute_result"
    }
   ],
   "source": [
    "s1"
   ]
  },
  {
   "cell_type": "code",
   "execution_count": 71,
   "id": "13e95bd3-6570-4020-bf52-0774ca3a4fce",
   "metadata": {},
   "outputs": [],
   "source": [
    "s1.discard(12)"
   ]
  },
  {
   "cell_type": "code",
   "execution_count": 72,
   "id": "660926c9-f4bc-48f2-b818-937800d5b94d",
   "metadata": {},
   "outputs": [
    {
     "data": {
      "text/plain": [
       "{5, 6, 8, 9, 13, 15, 22, 23}"
      ]
     },
     "execution_count": 72,
     "metadata": {},
     "output_type": "execute_result"
    }
   ],
   "source": [
    "s1"
   ]
  },
  {
   "cell_type": "code",
   "execution_count": 73,
   "id": "e244c07a-80be-4fdc-a2b9-10632980e7a1",
   "metadata": {},
   "outputs": [
    {
     "ename": "KeyError",
     "evalue": "7",
     "output_type": "error",
     "traceback": [
      "\u001b[1;31m---------------------------------------------------------------------------\u001b[0m",
      "\u001b[1;31mKeyError\u001b[0m                                  Traceback (most recent call last)",
      "Cell \u001b[1;32mIn[73], line 1\u001b[0m\n\u001b[1;32m----> 1\u001b[0m s1\u001b[38;5;241m.\u001b[39mremove(\u001b[38;5;241m7\u001b[39m)\n",
      "\u001b[1;31mKeyError\u001b[0m: 7"
     ]
    }
   ],
   "source": [
    "s1.remove(7)"
   ]
  },
  {
   "cell_type": "code",
   "execution_count": 74,
   "id": "6a10fa31-7228-4835-8b7a-65e802dbf1e1",
   "metadata": {},
   "outputs": [],
   "source": [
    "s1.discard(7)"
   ]
  },
  {
   "cell_type": "code",
   "execution_count": 75,
   "id": "cacebb76-2123-4ae6-8d5e-9056535ad230",
   "metadata": {},
   "outputs": [],
   "source": [
    "s1.clear()"
   ]
  },
  {
   "cell_type": "code",
   "execution_count": 76,
   "id": "1fa9a299-573d-43e0-b718-56e11fc4eade",
   "metadata": {},
   "outputs": [
    {
     "data": {
      "text/plain": [
       "set()"
      ]
     },
     "execution_count": 76,
     "metadata": {},
     "output_type": "execute_result"
    }
   ],
   "source": [
    "s1"
   ]
  },
  {
   "cell_type": "code",
   "execution_count": 77,
   "id": "2145b34b-885f-4a3f-8f0f-269de690d9dc",
   "metadata": {},
   "outputs": [],
   "source": [
    "del s1"
   ]
  },
  {
   "cell_type": "code",
   "execution_count": 78,
   "id": "d40a1eb4-b1c5-46c6-a7c1-e935260e7cd3",
   "metadata": {},
   "outputs": [
    {
     "ename": "NameError",
     "evalue": "name 's1' is not defined",
     "output_type": "error",
     "traceback": [
      "\u001b[1;31m---------------------------------------------------------------------------\u001b[0m",
      "\u001b[1;31mNameError\u001b[0m                                 Traceback (most recent call last)",
      "Cell \u001b[1;32mIn[78], line 1\u001b[0m\n\u001b[1;32m----> 1\u001b[0m s1\n",
      "\u001b[1;31mNameError\u001b[0m: name 's1' is not defined"
     ]
    }
   ],
   "source": [
    "s1"
   ]
  },
  {
   "cell_type": "markdown",
   "id": "b74d8d8f-e029-468c-a5c2-1571941e5b8e",
   "metadata": {},
   "source": [
    "### Set Operations"
   ]
  },
  {
   "cell_type": "code",
   "execution_count": 79,
   "id": "1cc1a75e-0b06-4ee1-9b27-ad222fd495d4",
   "metadata": {},
   "outputs": [],
   "source": [
    "A = {1,2,3,4}\n",
    "B = {2,4,6,8}\n",
    "C = {2,5,9,6}"
   ]
  },
  {
   "cell_type": "code",
   "execution_count": 80,
   "id": "0619c30f-a1a6-41e8-ae72-27c21f4c37af",
   "metadata": {},
   "outputs": [
    {
     "data": {
      "text/plain": [
       "{1, 2, 3, 4, 6, 8}"
      ]
     },
     "execution_count": 80,
     "metadata": {},
     "output_type": "execute_result"
    }
   ],
   "source": [
    "A.union(B)"
   ]
  },
  {
   "cell_type": "code",
   "execution_count": 81,
   "id": "d30a3a6c-e8fd-458f-8875-5c15321c1dc4",
   "metadata": {},
   "outputs": [
    {
     "data": {
      "text/plain": [
       "{1, 2, 3, 4, 6, 8}"
      ]
     },
     "execution_count": 81,
     "metadata": {},
     "output_type": "execute_result"
    }
   ],
   "source": [
    "B.union(A)"
   ]
  },
  {
   "cell_type": "code",
   "execution_count": 82,
   "id": "375b937b-7a58-4c13-8a59-b8d608167d1e",
   "metadata": {},
   "outputs": [
    {
     "data": {
      "text/plain": [
       "{1, 2, 3, 4, 5, 6, 8, 9}"
      ]
     },
     "execution_count": 82,
     "metadata": {},
     "output_type": "execute_result"
    }
   ],
   "source": [
    "A.union(B,C)"
   ]
  },
  {
   "cell_type": "code",
   "execution_count": 83,
   "id": "1a0f3353-55fe-4669-8010-7f51547a8b98",
   "metadata": {},
   "outputs": [
    {
     "data": {
      "text/plain": [
       "{2, 4}"
      ]
     },
     "execution_count": 83,
     "metadata": {},
     "output_type": "execute_result"
    }
   ],
   "source": [
    "A.intersection(B)"
   ]
  },
  {
   "cell_type": "code",
   "execution_count": 84,
   "id": "913108d2-708c-4840-a79d-cc79d4c38be9",
   "metadata": {},
   "outputs": [
    {
     "data": {
      "text/plain": [
       "{2, 4}"
      ]
     },
     "execution_count": 84,
     "metadata": {},
     "output_type": "execute_result"
    }
   ],
   "source": [
    "B.intersection(A)"
   ]
  },
  {
   "cell_type": "code",
   "execution_count": 85,
   "id": "7c0dca3a-ed2f-430f-9a13-1d5e74884848",
   "metadata": {},
   "outputs": [
    {
     "data": {
      "text/plain": [
       "{2}"
      ]
     },
     "execution_count": 85,
     "metadata": {},
     "output_type": "execute_result"
    }
   ],
   "source": [
    "A.intersection(B,C)"
   ]
  },
  {
   "cell_type": "code",
   "execution_count": 87,
   "id": "65764705-ba5c-4ca4-9b16-173a6712caae",
   "metadata": {},
   "outputs": [
    {
     "data": {
      "text/plain": [
       "{1, 3}"
      ]
     },
     "execution_count": 87,
     "metadata": {},
     "output_type": "execute_result"
    }
   ],
   "source": [
    "A.difference(B)"
   ]
  },
  {
   "cell_type": "code",
   "execution_count": 88,
   "id": "d654c3fc-0277-43aa-9afc-da2b2d790350",
   "metadata": {},
   "outputs": [
    {
     "data": {
      "text/plain": [
       "{6, 8}"
      ]
     },
     "execution_count": 88,
     "metadata": {},
     "output_type": "execute_result"
    }
   ],
   "source": [
    "B.difference(A)"
   ]
  },
  {
   "cell_type": "markdown",
   "id": "d0141ad6-a941-4a25-8a77-996bbb5b3609",
   "metadata": {},
   "source": [
    "## Dictionary"
   ]
  },
  {
   "cell_type": "code",
   "execution_count": 89,
   "id": "d90fc15b-97be-49f6-8f28-19a095171edb",
   "metadata": {},
   "outputs": [
    {
     "data": {
      "text/plain": [
       "{'Name': 'Rahul', 'Age': 25, 'Id': 'A001'}"
      ]
     },
     "execution_count": 89,
     "metadata": {},
     "output_type": "execute_result"
    }
   ],
   "source": [
    "d1 = {'Name':'Rahul', 'Age':25, 'Id':'A001'}\n",
    "d1"
   ]
  },
  {
   "cell_type": "code",
   "execution_count": 90,
   "id": "f7b13455-b6d1-4e21-9ad0-6b6371c4b50e",
   "metadata": {},
   "outputs": [
    {
     "data": {
      "text/plain": [
       "dict"
      ]
     },
     "execution_count": 90,
     "metadata": {},
     "output_type": "execute_result"
    }
   ],
   "source": [
    "type(d1)"
   ]
  },
  {
   "cell_type": "code",
   "execution_count": 91,
   "id": "7a357df5-4795-4a32-bad7-934f280069f3",
   "metadata": {},
   "outputs": [
    {
     "data": {
      "text/plain": [
       "3"
      ]
     },
     "execution_count": 91,
     "metadata": {},
     "output_type": "execute_result"
    }
   ],
   "source": [
    "len(d1)"
   ]
  },
  {
   "cell_type": "code",
   "execution_count": 92,
   "id": "969ba920-77da-4ab8-bcd0-5b83363d2ab0",
   "metadata": {},
   "outputs": [
    {
     "data": {
      "text/plain": [
       "dict_keys(['Name', 'Age', 'Id'])"
      ]
     },
     "execution_count": 92,
     "metadata": {},
     "output_type": "execute_result"
    }
   ],
   "source": [
    "d1.keys()"
   ]
  },
  {
   "cell_type": "code",
   "execution_count": 93,
   "id": "b45e8f22-e6da-4514-b500-6f6cad495849",
   "metadata": {},
   "outputs": [
    {
     "data": {
      "text/plain": [
       "dict_values(['Rahul', 25, 'A001'])"
      ]
     },
     "execution_count": 93,
     "metadata": {},
     "output_type": "execute_result"
    }
   ],
   "source": [
    "d1.values()"
   ]
  },
  {
   "cell_type": "code",
   "execution_count": 95,
   "id": "fde9fffc-c56e-4184-96c9-9d988aa36952",
   "metadata": {},
   "outputs": [
    {
     "data": {
      "text/plain": [
       "dict_items([('Name', 'Rahul'), ('Age', 25), ('Id', 'A001')])"
      ]
     },
     "execution_count": 95,
     "metadata": {},
     "output_type": "execute_result"
    }
   ],
   "source": [
    "d1.items()"
   ]
  },
  {
   "cell_type": "code",
   "execution_count": 96,
   "id": "2f2cb692-c17d-40fb-8fe2-24ecdadbff07",
   "metadata": {},
   "outputs": [
    {
     "data": {
      "text/plain": [
       "{'Name': 'Pavan', 'Age': 25, 'Id': 'A001'}"
      ]
     },
     "execution_count": 96,
     "metadata": {},
     "output_type": "execute_result"
    }
   ],
   "source": [
    "d2 = {'Name':'Rahul', 'Age':25, 'Id':'A001', 'Name':'Pavan'}\n",
    "d2"
   ]
  },
  {
   "cell_type": "code",
   "execution_count": 97,
   "id": "63bd62d9-a6a8-40bf-ade4-7aef2cd376d2",
   "metadata": {},
   "outputs": [
    {
     "data": {
      "text/plain": [
       "{'Name': 'Rahul', 'Age': 25, 'Id': 'A001', 'Name1': 'Rahul'}"
      ]
     },
     "execution_count": 97,
     "metadata": {},
     "output_type": "execute_result"
    }
   ],
   "source": [
    "d3 = {'Name':'Rahul', 'Age':25, 'Id':'A001', 'Name1':'Rahul'}\n",
    "d3"
   ]
  },
  {
   "cell_type": "code",
   "execution_count": null,
   "id": "ea8304ac-22ef-4e0f-91af-4c3566503cfa",
   "metadata": {},
   "outputs": [],
   "source": []
  }
 ],
 "metadata": {
  "kernelspec": {
   "display_name": "Python 3 (ipykernel)",
   "language": "python",
   "name": "python3"
  },
  "language_info": {
   "codemirror_mode": {
    "name": "ipython",
    "version": 3
   },
   "file_extension": ".py",
   "mimetype": "text/x-python",
   "name": "python",
   "nbconvert_exporter": "python",
   "pygments_lexer": "ipython3",
   "version": "3.12.4"
  }
 },
 "nbformat": 4,
 "nbformat_minor": 5
}
