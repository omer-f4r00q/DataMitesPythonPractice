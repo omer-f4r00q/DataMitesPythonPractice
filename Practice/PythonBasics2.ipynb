{
 "cells": [
  {
   "cell_type": "markdown",
   "id": "5c93510a-6d16-43fc-9310-4833a7e42134",
   "metadata": {},
   "source": [
    "## if-else condition or conditional statements"
   ]
  },
  {
   "cell_type": "code",
   "execution_count": 176,
   "id": "0bc32e3f-f30c-4c9c-b872-a1dcf4c6d914",
   "metadata": {},
   "outputs": [
    {
     "name": "stdout",
     "output_type": "stream",
     "text": [
      "You are allowed to drive\n"
     ]
    }
   ],
   "source": [
    "age = 22\n",
    "if age >= 18:\n",
    "    print(\"You are allowed to drive\")"
   ]
  },
  {
   "cell_type": "code",
   "execution_count": 178,
   "id": "c90b82a4-d3aa-4c55-a4b2-211dbee1c3ca",
   "metadata": {},
   "outputs": [],
   "source": [
    "age = 15\n",
    "if age >= 18:\n",
    "    print(\"You are allowed to drive\")"
   ]
  },
  {
   "cell_type": "code",
   "execution_count": 182,
   "id": "50883272-cc7e-484f-9bdf-94b9e110488a",
   "metadata": {},
   "outputs": [
    {
     "name": "stdout",
     "output_type": "stream",
     "text": [
      "hi\n"
     ]
    }
   ],
   "source": [
    "age = 15\n",
    "if age >= 18:\n",
    "    print(\"You are allowed to drive\") #Indentation shows if the code is part of the if statement or not\n",
    "print(\"hi\")"
   ]
  },
  {
   "cell_type": "code",
   "execution_count": 188,
   "id": "637a893a-32e2-4c7d-a330-13fcbfb6e8c8",
   "metadata": {},
   "outputs": [
    {
     "name": "stdout",
     "output_type": "stream",
     "text": [
      "You are not allowed to drive\n"
     ]
    }
   ],
   "source": [
    "age = 15\n",
    "if age >= 18:\n",
    "    print(\"You are allowed to drive\")\n",
    "else:\n",
    "    print(\"You are not allowed to drive\")"
   ]
  },
  {
   "cell_type": "markdown",
   "id": "d4bdbb96-2384-4f60-9d5e-ad6a3dbef719",
   "metadata": {},
   "source": [
    "## Input Function"
   ]
  },
  {
   "cell_type": "code",
   "execution_count": 191,
   "id": "273111c0-dd44-44fb-8d22-5e5b2bf150aa",
   "metadata": {},
   "outputs": [
    {
     "name": "stdin",
     "output_type": "stream",
     "text": [
      " 20\n"
     ]
    }
   ],
   "source": [
    "a = input()"
   ]
  },
  {
   "cell_type": "code",
   "execution_count": 193,
   "id": "97e5af7d-78ff-4df0-99cd-7904b3c7466b",
   "metadata": {},
   "outputs": [
    {
     "data": {
      "text/plain": [
       "'20'"
      ]
     },
     "execution_count": 193,
     "metadata": {},
     "output_type": "execute_result"
    }
   ],
   "source": [
    "a"
   ]
  },
  {
   "cell_type": "code",
   "execution_count": 195,
   "id": "5a8b43cf-6005-422c-9fa0-961d96b8a966",
   "metadata": {},
   "outputs": [
    {
     "data": {
      "text/plain": [
       "str"
      ]
     },
     "execution_count": 195,
     "metadata": {},
     "output_type": "execute_result"
    }
   ],
   "source": [
    "type(a)"
   ]
  },
  {
   "cell_type": "markdown",
   "id": "dd5727ea-4ac0-404c-9800-1cda13db61c6",
   "metadata": {},
   "source": [
    "#### input function stores the given input in string type by default"
   ]
  },
  {
   "cell_type": "code",
   "execution_count": 202,
   "id": "c5b3aeea-b2b5-44ce-b46c-52afbdcb3a41",
   "metadata": {},
   "outputs": [
    {
     "name": "stdin",
     "output_type": "stream",
     "text": [
      "Enter the age 22\n"
     ]
    }
   ],
   "source": [
    "a = input(\"Enter the age\")   #we can write the prompt in the parenthesis of the input function"
   ]
  },
  {
   "cell_type": "code",
   "execution_count": 204,
   "id": "5eac370d-5904-4323-a90d-3288e0c40780",
   "metadata": {},
   "outputs": [
    {
     "data": {
      "text/plain": [
       "'22'"
      ]
     },
     "execution_count": 204,
     "metadata": {},
     "output_type": "execute_result"
    }
   ],
   "source": [
    "a"
   ]
  },
  {
   "cell_type": "markdown",
   "id": "ac848a2a-2fd7-41e6-85f9-1fcd3738c12e",
   "metadata": {},
   "source": [
    "#### we can change the datatype of the input by using type conversion"
   ]
  },
  {
   "cell_type": "code",
   "execution_count": 207,
   "id": "b62b98c3-78e1-4cd2-91c1-7b39e0629e28",
   "metadata": {},
   "outputs": [
    {
     "name": "stdin",
     "output_type": "stream",
     "text": [
      "Enter the age 22\n"
     ]
    }
   ],
   "source": [
    "a = int(input(\"Enter the age\"))"
   ]
  },
  {
   "cell_type": "code",
   "execution_count": 209,
   "id": "cdea8177-968a-428a-b4ac-6b941a4e63ad",
   "metadata": {},
   "outputs": [
    {
     "data": {
      "text/plain": [
       "int"
      ]
     },
     "execution_count": 209,
     "metadata": {},
     "output_type": "execute_result"
    }
   ],
   "source": [
    "type(a)"
   ]
  },
  {
   "cell_type": "code",
   "execution_count": 211,
   "id": "2f4b36ad-9e02-4a91-ba9a-5c84b29cea76",
   "metadata": {},
   "outputs": [
    {
     "name": "stdin",
     "output_type": "stream",
     "text": [
      "Enter the age 18\n"
     ]
    },
    {
     "name": "stdout",
     "output_type": "stream",
     "text": [
      "You are allowed to drive\n"
     ]
    }
   ],
   "source": [
    "age = int(input(\"Enter the age\"))\n",
    "if age >= 18:\n",
    "    print(\"You are allowed to drive\")\n",
    "else:\n",
    "    print(\"You are not allowed to drive\")"
   ]
  },
  {
   "cell_type": "code",
   "execution_count": 213,
   "id": "73385a22-5f99-43cc-9e22-bf3d25614885",
   "metadata": {},
   "outputs": [
    {
     "name": "stdin",
     "output_type": "stream",
     "text": [
      "Enter the age 18\n"
     ]
    },
    {
     "name": "stdout",
     "output_type": "stream",
     "text": [
      "Take a test drive\n"
     ]
    }
   ],
   "source": [
    "age = int(input(\"Enter the age\"))\n",
    "if age > 18:\n",
    "    print(\"You are allowed to drive\")\n",
    "elif age == 18:\n",
    "    print(\"Take a test drive\")\n",
    "else:\n",
    "    print(\"You are not allowed to drive\")"
   ]
  },
  {
   "cell_type": "code",
   "execution_count": 251,
   "id": "9fa0e361-2ac1-4d0e-9db1-eb17cca4aa84",
   "metadata": {},
   "outputs": [
    {
     "name": "stdin",
     "output_type": "stream",
     "text": [
      "Enter the marks 66\n"
     ]
    },
    {
     "name": "stdout",
     "output_type": "stream",
     "text": [
      "B\n"
     ]
    }
   ],
   "source": [
    "marks = int(input(\"Enter the marks\"))\n",
    "if marks >= 90:\n",
    "    print(\"A+\")\n",
    "elif marks >= 80 and marks < 90:    #another format: 80>marks>=90\n",
    "    print(\"A\")\n",
    "elif marks >= 70 and marks < 80:\n",
    "    print(\"B+\")\n",
    "elif marks >= 60 and marks < 70:\n",
    "    print(\"B\")\n",
    "elif marks >= 50 and marks < 60:\n",
    "    print(\"C+\")\n",
    "elif marks >= 40 and marks < 50:\n",
    "    print(\"C\")\n",
    "elif marks > 100:\n",
    "    print(\"Enter correct marks\")\n",
    "else:\n",
    "    print(\"F\")"
   ]
  },
  {
   "cell_type": "markdown",
   "id": "896779a3-23cf-465b-9399-6a8aa20e8263",
   "metadata": {},
   "source": [
    "## Loops"
   ]
  },
  {
   "cell_type": "markdown",
   "id": "6598e7fa-40ae-49ce-8dc7-835994fbc1aa",
   "metadata": {},
   "source": [
    "1. while loop\n",
    "2. for loop"
   ]
  },
  {
   "cell_type": "markdown",
   "id": "426dee7c-b59c-431c-a9f3-d647133a6174",
   "metadata": {},
   "source": [
    "### while loop : it is like an if statement but which iterates until the condition becomes false"
   ]
  },
  {
   "cell_type": "code",
   "execution_count": 3,
   "id": "fe63251e-f549-4451-8caa-49d97d631056",
   "metadata": {},
   "outputs": [
    {
     "name": "stdout",
     "output_type": "stream",
     "text": [
      "1\n",
      "2\n",
      "3\n",
      "4\n",
      "5\n",
      "6\n",
      "7\n",
      "8\n",
      "9\n",
      "10\n",
      "Done\n"
     ]
    }
   ],
   "source": [
    "i = 1\n",
    "while i<=10:\n",
    "    print(i)\n",
    "    i = i+1\n",
    "print(\"Done\")"
   ]
  },
  {
   "cell_type": "code",
   "execution_count": 4,
   "id": "a8290cd9-1fc6-44b0-ab55-e333a68b3df9",
   "metadata": {},
   "outputs": [
    {
     "name": "stdout",
     "output_type": "stream",
     "text": [
      "DataScience\n",
      "DataScience\n",
      "DataScience\n",
      "DataScience\n",
      "DataScience\n",
      "DataScience\n",
      "DataScience\n",
      "DataScience\n",
      "DataScience\n",
      "DataScience\n"
     ]
    }
   ],
   "source": [
    "i = 1\n",
    "while i<=10:\n",
    "    print(\"DataScience\")\n",
    "    i = i+1"
   ]
  },
  {
   "cell_type": "code",
   "execution_count": 5,
   "id": "ac4111d3-107d-415a-873f-e92685680f38",
   "metadata": {},
   "outputs": [
    {
     "name": "stdout",
     "output_type": "stream",
     "text": [
      "5\n",
      "10\n",
      "15\n",
      "20\n",
      "25\n",
      "30\n",
      "35\n",
      "40\n",
      "45\n",
      "50\n"
     ]
    }
   ],
   "source": [
    "i = 1\n",
    "while i<=10:\n",
    "    print(5*i)\n",
    "    i = i + 1"
   ]
  },
  {
   "cell_type": "markdown",
   "id": "4f232f19-3a01-43d7-9864-65176f1f2280",
   "metadata": {},
   "source": [
    "### break: it exits the loop"
   ]
  },
  {
   "cell_type": "code",
   "execution_count": 13,
   "id": "7da019f9-afe6-4c94-9477-1ba569e1e327",
   "metadata": {},
   "outputs": [
    {
     "name": "stdout",
     "output_type": "stream",
     "text": [
      "1\n",
      "2\n",
      "3\n",
      "4\n",
      "5\n"
     ]
    }
   ],
   "source": [
    "# code to print from 1 to 5\n",
    "i = 1\n",
    "while i<=10:\n",
    "    print(i)\n",
    "    if i == 5:\n",
    "        break\n",
    "    i = i+1"
   ]
  },
  {
   "cell_type": "markdown",
   "id": "68500de7-49f6-4b53-8a46-fe060143725b",
   "metadata": {},
   "source": [
    "### continue: it jumps back to the start of the loop without running what is below it"
   ]
  },
  {
   "cell_type": "code",
   "execution_count": 11,
   "id": "22789077-8ed3-4374-ad5e-3a97e130b7d8",
   "metadata": {},
   "outputs": [
    {
     "name": "stdout",
     "output_type": "stream",
     "text": [
      "1\n",
      "2\n",
      "3\n",
      "4\n",
      "6\n",
      "7\n",
      "8\n",
      "9\n",
      "10\n"
     ]
    }
   ],
   "source": [
    "#code to skip the number '5'\n",
    "i = 0\n",
    "while i < 10:\n",
    "    i = i+1\n",
    "    if i == 5:\n",
    "        continue\n",
    "    print(i)"
   ]
  },
  {
   "cell_type": "code",
   "execution_count": 23,
   "id": "894b07ce-30e5-47a4-8c09-696b9e433e4a",
   "metadata": {},
   "outputs": [
    {
     "name": "stdout",
     "output_type": "stream",
     "text": [
      "1\n",
      "2\n",
      "4\n",
      "5\n",
      "7\n",
      "8\n",
      "10\n"
     ]
    }
   ],
   "source": [
    "# code to print from 1 to 10 with skipping the numbers divisible by three\n",
    "i = 0\n",
    "while i < 10:\n",
    "    i = i+1\n",
    "    if i % 3 == 0:\n",
    "        continue\n",
    "    print(i)"
   ]
  },
  {
   "cell_type": "code",
   "execution_count": 16,
   "id": "2b260782-1e7f-4dc4-8835-f96c2887a7eb",
   "metadata": {},
   "outputs": [
    {
     "name": "stdout",
     "output_type": "stream",
     "text": [
      "1\n",
      "2\n",
      "4\n",
      "5\n",
      "7\n",
      "8\n",
      "10\n"
     ]
    }
   ],
   "source": [
    "i = 0\n",
    "while i < 10:\n",
    "    i = i+1\n",
    "    if i in [3,6,9]:\n",
    "        continue\n",
    "    print(i)"
   ]
  },
  {
   "cell_type": "markdown",
   "id": "5a4ad836-5bbe-4022-9040-672e358dcb30",
   "metadata": {},
   "source": [
    "## for loop: in this type of loop it iterates over an \"iterable\"."
   ]
  },
  {
   "cell_type": "markdown",
   "id": "f2a661c1-a7cf-4815-ae5e-a3f60fd14976",
   "metadata": {},
   "source": [
    "### In programming, an \"iterable\" is an object that can be looped over, example: list, tuple, set, range etc"
   ]
  },
  {
   "cell_type": "code",
   "execution_count": 22,
   "id": "43d6ea64-d0d6-4991-a48c-b6ae615e2a07",
   "metadata": {},
   "outputs": [
    {
     "name": "stdout",
     "output_type": "stream",
     "text": [
      "2\n",
      "4\n",
      "6\n",
      "8\n",
      "10\n"
     ]
    }
   ],
   "source": [
    "a1 = [1,2,3,4,5]\n",
    "for i in a1:\n",
    "    print(i*2)"
   ]
  },
  {
   "cell_type": "code",
   "execution_count": 18,
   "id": "c309bf1e-da87-47b8-a2f5-8b7abc07a8db",
   "metadata": {},
   "outputs": [
    {
     "name": "stdout",
     "output_type": "stream",
     "text": [
      "2\n",
      "4\n",
      "6\n",
      "8\n",
      "10\n"
     ]
    }
   ],
   "source": [
    "a1 = (1,2,3,4,5)\n",
    "for i in a1:\n",
    "    print(i*2)"
   ]
  },
  {
   "cell_type": "code",
   "execution_count": 24,
   "id": "a5526616-1344-40e9-9032-d4e175eb8f43",
   "metadata": {},
   "outputs": [
    {
     "name": "stdout",
     "output_type": "stream",
     "text": [
      "2\n",
      "4\n",
      "6\n",
      "8\n",
      "10\n"
     ]
    }
   ],
   "source": [
    "a1 = {5,2,1,3,4}\n",
    "for i in a1:\n",
    "    print(i*2)"
   ]
  },
  {
   "cell_type": "code",
   "execution_count": 30,
   "id": "1c04746c-369e-4160-8e10-3c2135dc7232",
   "metadata": {},
   "outputs": [
    {
     "name": "stdout",
     "output_type": "stream",
     "text": [
      "x\n",
      "y\n",
      "z\n"
     ]
    }
   ],
   "source": [
    "a1 = {'x':1, 'y':2, 'z':3}\n",
    "for i in a1:\n",
    "    print(i)"
   ]
  },
  {
   "cell_type": "code",
   "execution_count": 31,
   "id": "1657484f-22a1-43c1-979a-160a98800b5e",
   "metadata": {},
   "outputs": [
    {
     "name": "stdout",
     "output_type": "stream",
     "text": [
      "1\n",
      "2\n",
      "3\n",
      "4\n",
      "5\n"
     ]
    }
   ],
   "source": [
    "a1 = {\"numbers\":[1,2,3,4,5]}\n",
    "for i in a1:\n",
    "    for j in a1[i]:\n",
    "        print(j)"
   ]
  },
  {
   "cell_type": "code",
   "execution_count": 32,
   "id": "e5c30aa5-bb12-4c82-88d7-7e7532c4d860",
   "metadata": {},
   "outputs": [
    {
     "name": "stdout",
     "output_type": "stream",
     "text": [
      "x\n",
      "y\n",
      "z\n"
     ]
    }
   ],
   "source": [
    "a1 = {'x':1, 'y':2, 'z':3}\n",
    "for i in a1.keys():\n",
    "    print(i)"
   ]
  },
  {
   "cell_type": "code",
   "execution_count": 33,
   "id": "235ea42a-2e18-4c67-8d25-6dc92b525d6d",
   "metadata": {},
   "outputs": [
    {
     "name": "stdout",
     "output_type": "stream",
     "text": [
      "1\n",
      "2\n",
      "3\n"
     ]
    }
   ],
   "source": [
    "for i in a1.values():\n",
    "    print(i)"
   ]
  },
  {
   "cell_type": "code",
   "execution_count": 34,
   "id": "55d7a338-3858-4784-850d-6d65c95b3585",
   "metadata": {},
   "outputs": [
    {
     "name": "stdout",
     "output_type": "stream",
     "text": [
      "('x', 1)\n",
      "('y', 2)\n",
      "('z', 3)\n"
     ]
    }
   ],
   "source": [
    "for i in a1.items():\n",
    "    print(i)"
   ]
  },
  {
   "cell_type": "markdown",
   "id": "09d542fa-5612-43ff-a3e4-2cdc76b6fac0",
   "metadata": {},
   "source": [
    "### range : it generates numbers as follows- range(start,end,stepsize)"
   ]
  },
  {
   "cell_type": "code",
   "execution_count": 36,
   "id": "9bae1ca6-d129-4a32-a105-bf25a8a511bb",
   "metadata": {},
   "outputs": [
    {
     "data": {
      "text/plain": [
       "[10, 11, 12, 13, 14, 15, 16, 17, 18, 19]"
      ]
     },
     "execution_count": 36,
     "metadata": {},
     "output_type": "execute_result"
    }
   ],
   "source": [
    "list(range(10,20))"
   ]
  },
  {
   "cell_type": "code",
   "execution_count": 37,
   "id": "64a02374-5a7a-42a7-a624-5b967d00889f",
   "metadata": {},
   "outputs": [
    {
     "data": {
      "text/plain": [
       "(10, 11, 12, 13, 14, 15, 16, 17, 18, 19)"
      ]
     },
     "execution_count": 37,
     "metadata": {},
     "output_type": "execute_result"
    }
   ],
   "source": [
    "tuple(range(10,20))"
   ]
  },
  {
   "cell_type": "code",
   "execution_count": 38,
   "id": "55c5d913-db29-45a9-8fd0-76d373eaef99",
   "metadata": {},
   "outputs": [
    {
     "data": {
      "text/plain": [
       "{10, 11, 12, 13, 14, 15, 16, 17, 18, 19}"
      ]
     },
     "execution_count": 38,
     "metadata": {},
     "output_type": "execute_result"
    }
   ],
   "source": [
    "set(range(10,20))"
   ]
  },
  {
   "cell_type": "code",
   "execution_count": 39,
   "id": "af27b524-99a3-40ed-8847-de613e6dac48",
   "metadata": {},
   "outputs": [
    {
     "data": {
      "text/plain": [
       "[20, 19, 18, 17, 16, 15, 14, 13, 12, 11, 10]"
      ]
     },
     "execution_count": 39,
     "metadata": {},
     "output_type": "execute_result"
    }
   ],
   "source": [
    "list(range(20,9,-1))"
   ]
  },
  {
   "cell_type": "markdown",
   "id": "e8a0ffb3-9724-4e23-bcba-f927bd4121d3",
   "metadata": {},
   "source": [
    "### If you just put one number in the range function it will act as the end and the start by default will be 0."
   ]
  },
  {
   "cell_type": "code",
   "execution_count": 41,
   "id": "92aaf24b-48e4-40cf-96ef-f39b8b11b6ca",
   "metadata": {},
   "outputs": [
    {
     "data": {
      "text/plain": [
       "[0, 1, 2, 3, 4, 5, 6, 7, 8, 9]"
      ]
     },
     "execution_count": 41,
     "metadata": {},
     "output_type": "execute_result"
    }
   ],
   "source": [
    "list(range(10))"
   ]
  },
  {
   "cell_type": "code",
   "execution_count": 49,
   "id": "96035ae3-2872-405f-8d46-6d52257614db",
   "metadata": {},
   "outputs": [
    {
     "name": "stdout",
     "output_type": "stream",
     "text": [
      "1\n",
      "2\n",
      "3\n",
      "4\n",
      "5\n",
      "6\n",
      "7\n",
      "8\n",
      "9\n",
      "10\n",
      "Done\n"
     ]
    }
   ],
   "source": [
    "#using loop with range()\n",
    "for i in range(1,11):\n",
    "    print(i)\n",
    "else:\n",
    "    print(\"Done\")"
   ]
  },
  {
   "cell_type": "code",
   "execution_count": 48,
   "id": "f9bfc044-7037-4976-adf8-5a51ea9bf205",
   "metadata": {},
   "outputs": [
    {
     "name": "stdout",
     "output_type": "stream",
     "text": [
      "5 * 1 = 5\n",
      "5 * 2 = 10\n",
      "5 * 3 = 15\n",
      "5 * 4 = 20\n",
      "5 * 5 = 25\n",
      "5 * 6 = 30\n",
      "5 * 7 = 35\n",
      "5 * 8 = 40\n",
      "5 * 9 = 45\n",
      "5 * 10 = 50\n"
     ]
    }
   ],
   "source": [
    "for i in range(1,11):\n",
    "    print('5 *',i,'=',i*5)"
   ]
  },
  {
   "cell_type": "code",
   "execution_count": 3,
   "id": "b18828d4-46c9-4a36-a3bd-f164252f2653",
   "metadata": {},
   "outputs": [
    {
     "data": {
      "text/plain": [
       "[13, 18, 15, 17, 22, 24, 11, 8]"
      ]
     },
     "execution_count": 3,
     "metadata": {},
     "output_type": "execute_result"
    }
   ],
   "source": [
    "a1 = [13, 18, 15, 17, 22, 24, 11, 8]\n",
    "a1\n"
   ]
  },
  {
   "cell_type": "code",
   "execution_count": 5,
   "id": "71dc385a-82bc-471b-9d20-b5e7d3fe3bfa",
   "metadata": {},
   "outputs": [
    {
     "name": "stdout",
     "output_type": "stream",
     "text": [
      "13 is odd\n",
      "18 is even\n",
      "15 is odd\n",
      "17 is odd\n",
      "22 is even\n",
      "24 is even\n",
      "11 is odd\n",
      "8 is even\n"
     ]
    }
   ],
   "source": [
    "for i in a1:\n",
    "    if i % 2== 0:\n",
    "        print(f\"{i} is even\")\n",
    "    else:\n",
    "        print(f\"{i} is odd\")"
   ]
  },
  {
   "cell_type": "code",
   "execution_count": 17,
   "id": "497a02d3-2a37-4ca4-a7c1-438f7c21c1a9",
   "metadata": {},
   "outputs": [
    {
     "data": {
      "text/plain": [
       "[18, 22, 24, 8]"
      ]
     },
     "execution_count": 17,
     "metadata": {},
     "output_type": "execute_result"
    }
   ],
   "source": [
    "a2 = []\n",
    "for i in a1:\n",
    "    if i % 2== 0:\n",
    "        a2.append(i)\n",
    "a2"
   ]
  },
  {
   "cell_type": "markdown",
   "id": "d1a9e812-3193-4a8b-bada-bc1e923142be",
   "metadata": {},
   "source": [
    "## very important problem, refer and practice it again"
   ]
  },
  {
   "cell_type": "code",
   "execution_count": 69,
   "id": "49cdc008-9944-412b-9530-dc51fc918dc2",
   "metadata": {},
   "outputs": [
    {
     "name": "stdin",
     "output_type": "stream",
     "text": [
      "enter number 1\n"
     ]
    },
    {
     "name": "stdout",
     "output_type": "stream",
     "text": [
      "1 is neither prime nor composite\n"
     ]
    }
   ],
   "source": [
    "n = int(input(\"enter number\"))\n",
    "if n>1:\n",
    "    for i in range(2,n):\n",
    "        if n%i == 0:\n",
    "            print(f\"{n} is not prime\")\n",
    "            break\n",
    "    else:\n",
    "        print(f\"{n} it is prime\")\n",
    "elif n==1:\n",
    "    print(\"1 is neither prime nor composite\")\n",
    "else:\n",
    "    print(f\"{n} is not prime\")\n",
    "        "
   ]
  },
  {
   "cell_type": "markdown",
   "id": "349fb17d-27e7-4913-82ec-7049f9aa4724",
   "metadata": {},
   "source": [
    "# Functions:\n",
    "1. in-built functions\n",
    "2. User-defined function\n",
    "3. Lambda/Anonymous functions"
   ]
  },
  {
   "cell_type": "markdown",
   "id": "24f4b487-81e7-417a-a461-c26bb32d3e35",
   "metadata": {},
   "source": [
    "## User-defined function"
   ]
  },
  {
   "cell_type": "code",
   "execution_count": 119,
   "id": "af1ee767-a63f-40e9-abef-3b1b5c11d8c8",
   "metadata": {},
   "outputs": [],
   "source": [
    "def area_of_circle(r):\n",
    "    return (3.1415)*(r*r)"
   ]
  },
  {
   "cell_type": "code",
   "execution_count": 117,
   "id": "94e327dc-8e88-4d50-9944-fbfa089ad615",
   "metadata": {},
   "outputs": [],
   "source": [
    "def area_of_rect(l,b):\n",
    "    return l*b"
   ]
  },
  {
   "cell_type": "code",
   "execution_count": 94,
   "id": "c1deda93-62c6-4170-8a19-64022f71ebf7",
   "metadata": {},
   "outputs": [
    {
     "name": "stdout",
     "output_type": "stream",
     "text": [
      "area of the rectangle is 8\n"
     ]
    }
   ],
   "source": [
    "area_of_rect(2,4)"
   ]
  },
  {
   "cell_type": "code",
   "execution_count": 96,
   "id": "b8161d70-b513-4410-bc9d-0e9399a142a1",
   "metadata": {},
   "outputs": [
    {
     "name": "stdout",
     "output_type": "stream",
     "text": [
      "area of the cicle is 314.15000000000003\n"
     ]
    }
   ],
   "source": [
    "area_of_circle(10)"
   ]
  },
  {
   "cell_type": "code",
   "execution_count": 99,
   "id": "f94e9917-878c-4d78-8a43-7f1cc46e1cd4",
   "metadata": {},
   "outputs": [
    {
     "name": "stdin",
     "output_type": "stream",
     "text": [
      "enter radius:  5\n"
     ]
    },
    {
     "name": "stdout",
     "output_type": "stream",
     "text": [
      "area of the cicle is 78.53750000000001\n"
     ]
    }
   ],
   "source": [
    "radius = int(input(\"enter radius: \"))\n",
    "print(\"area of the cicle is\", (3.1415)*(radius**2))"
   ]
  },
  {
   "cell_type": "code",
   "execution_count": 121,
   "id": "1902aca3-0b11-4dae-ba53-412f7cae20de",
   "metadata": {},
   "outputs": [
    {
     "name": "stdin",
     "output_type": "stream",
     "text": [
      "Enter the length 5\n",
      "enter the breadth 5\n"
     ]
    },
    {
     "data": {
      "text/plain": [
       "25"
      ]
     },
     "execution_count": 121,
     "metadata": {},
     "output_type": "execute_result"
    }
   ],
   "source": [
    "length = int(input(\"Enter the length\"))\n",
    "breadth = int(input(\"enter the breadth\"))\n",
    "area_of_rect(length,breadth)"
   ]
  },
  {
   "cell_type": "code",
   "execution_count": 27,
   "id": "5327ab9e-163a-44e6-a172-9c05916e668f",
   "metadata": {},
   "outputs": [],
   "source": [
    "def even_list(list1):\n",
    "    list2=[]\n",
    "    for i in list1:\n",
    "        if i % 2== 0:\n",
    "            list2.append(i)\n",
    "    return list2"
   ]
  },
  {
   "cell_type": "code",
   "execution_count": 9,
   "id": "4bc2c9e0-d433-480c-9e03-9f8fc7b52411",
   "metadata": {},
   "outputs": [
    {
     "name": "stdout",
     "output_type": "stream",
     "text": [
      "[18, 22, 24, 8]\n"
     ]
    }
   ],
   "source": [
    "a2 = [13, 18, 15, 17, 22, 24, 11, 8]\n",
    "print(even_odd_arranger(a2))"
   ]
  },
  {
   "cell_type": "code",
   "execution_count": 29,
   "id": "663e9b52-add0-432c-bfbb-799ac026b44d",
   "metadata": {},
   "outputs": [],
   "source": [
    "# a function which takes a number as input and return whether it is prime or not prime\n",
    "def prime(n):\n",
    "    if n>1:\n",
    "        for i in range(2,n):\n",
    "            if n%i == 0:\n",
    "                return(f\"{n} is not prime\")\n",
    "                break\n",
    "        else:\n",
    "            return(f\"{n} is a prime\")\n",
    "    elif n==1:\n",
    "        return(\"1 is neither prime nor composite\")\n",
    "    else:\n",
    "        return(f\"{n} is not prime\")"
   ]
  },
  {
   "cell_type": "code",
   "execution_count": 27,
   "id": "c99e2b29-a9f6-4be9-933c-a848a422daef",
   "metadata": {},
   "outputs": [
    {
     "data": {
      "text/plain": [
       "'3 is a prime'"
      ]
     },
     "execution_count": 27,
     "metadata": {},
     "output_type": "execute_result"
    }
   ],
   "source": [
    "prime(3)"
   ]
  },
  {
   "cell_type": "code",
   "execution_count": 5,
   "id": "72d3c7c2-20bf-4a03-af2b-62261373352c",
   "metadata": {},
   "outputs": [],
   "source": [
    "def double_number(n):\n",
    "    return n*2"
   ]
  },
  {
   "cell_type": "code",
   "execution_count": 7,
   "id": "6aea5be5-86b1-4422-85f9-93839bd625e2",
   "metadata": {},
   "outputs": [
    {
     "data": {
      "text/plain": [
       "4"
      ]
     },
     "execution_count": 7,
     "metadata": {},
     "output_type": "execute_result"
    }
   ],
   "source": [
    "double_number(2)"
   ]
  },
  {
   "cell_type": "markdown",
   "id": "9bae77e0-1bb2-4f1f-8b92-467bf37d93d3",
   "metadata": {},
   "source": [
    "## Lambda function or anonymous function"
   ]
  },
  {
   "cell_type": "code",
   "execution_count": 9,
   "id": "9549c740-c5fe-4fa0-b116-bfd079760db7",
   "metadata": {},
   "outputs": [],
   "source": [
    "a1 =lambda a: a*2"
   ]
  },
  {
   "cell_type": "code",
   "execution_count": 13,
   "id": "77c36a38-a31d-4729-bc4f-568f78780ca5",
   "metadata": {},
   "outputs": [
    {
     "data": {
      "text/plain": [
       "10"
      ]
     },
     "execution_count": 13,
     "metadata": {},
     "output_type": "execute_result"
    }
   ],
   "source": [
    "a1(5)"
   ]
  },
  {
   "cell_type": "code",
   "execution_count": 15,
   "id": "2f6545d7-3131-49c4-bfc7-7339ec30d234",
   "metadata": {},
   "outputs": [],
   "source": [
    "a2 = lambda a,b : a+b"
   ]
  },
  {
   "cell_type": "code",
   "execution_count": 17,
   "id": "5954fa43-05e0-4ee0-813d-513897277742",
   "metadata": {},
   "outputs": [
    {
     "data": {
      "text/plain": [
       "3"
      ]
     },
     "execution_count": 17,
     "metadata": {},
     "output_type": "execute_result"
    }
   ],
   "source": [
    "a2(1,2)"
   ]
  },
  {
   "cell_type": "code",
   "execution_count": 21,
   "id": "39282268-7a33-4083-b10c-423f32d4f1c1",
   "metadata": {},
   "outputs": [
    {
     "data": {
      "text/plain": [
       "16"
      ]
     },
     "execution_count": 21,
     "metadata": {},
     "output_type": "execute_result"
    }
   ],
   "source": [
    "a3 = lambda a: a**2\n",
    "a3(4)"
   ]
  },
  {
   "cell_type": "markdown",
   "id": "f8928c0b-35ab-4197-b80b-5f0f938732a6",
   "metadata": {},
   "source": [
    "1. filter\n",
    "2. map\n",
    "3. reduce\n"
   ]
  },
  {
   "cell_type": "markdown",
   "id": "c90c71f7-866a-4db0-a51e-64aa4caf9633",
   "metadata": {},
   "source": [
    "## Uses of lambda function"
   ]
  },
  {
   "cell_type": "markdown",
   "id": "1f3d314b-b80b-4636-917e-be398d44b385",
   "metadata": {},
   "source": [
    "### filter : it filters out the provided iterable using the given function"
   ]
  },
  {
   "cell_type": "markdown",
   "id": "0f177604-30ea-46c6-92f8-903f0749a681",
   "metadata": {},
   "source": [
    "### syntax: filter(function,iterable)"
   ]
  },
  {
   "cell_type": "code",
   "execution_count": 29,
   "id": "f6545dac-7e30-4aef-8ae0-108a681b1cca",
   "metadata": {},
   "outputs": [
    {
     "data": {
      "text/plain": [
       "[18, 22, 24, 8]"
      ]
     },
     "execution_count": 29,
     "metadata": {},
     "output_type": "execute_result"
    }
   ],
   "source": [
    "a2 = [13, 18, 15, 17, 22, 24, 11, 8]\n",
    "list(filter(lambda a: a%2 == 0, a2))"
   ]
  },
  {
   "cell_type": "markdown",
   "id": "2f202692-391a-4bdc-9d47-af489a2857a5",
   "metadata": {},
   "source": [
    "### map : it applies the provided function to all the elements of the iterable"
   ]
  },
  {
   "cell_type": "code",
   "execution_count": 46,
   "id": "54eed75a-915e-4ee5-bba4-896657912d9b",
   "metadata": {},
   "outputs": [
    {
     "data": {
      "text/plain": [
       "[26, 36, 30, 34, 44, 48, 22, 16]"
      ]
     },
     "execution_count": 46,
     "metadata": {},
     "output_type": "execute_result"
    }
   ],
   "source": [
    "list(map(double_number, a2))"
   ]
  },
  {
   "cell_type": "code",
   "execution_count": 42,
   "id": "c2771d41-7d02-420e-aedc-408d08f31591",
   "metadata": {},
   "outputs": [
    {
     "data": {
      "text/plain": [
       "[26, 36, 30, 34, 44, 48, 22, 16]"
      ]
     },
     "execution_count": 42,
     "metadata": {},
     "output_type": "execute_result"
    }
   ],
   "source": [
    "list(map(lambda a: a*2, a2))"
   ]
  },
  {
   "cell_type": "markdown",
   "id": "a825d297-f5eb-4476-ae32-165a0d47c5cb",
   "metadata": {},
   "source": [
    "### reduce : to reduce the whole iterable into one element"
   ]
  },
  {
   "cell_type": "code",
   "execution_count": 53,
   "id": "7a7788f8-3c5a-4fb0-a31c-ab0a7cd1c3aa",
   "metadata": {},
   "outputs": [],
   "source": [
    "from functools import reduce"
   ]
  },
  {
   "cell_type": "code",
   "execution_count": 59,
   "id": "3ed16d38-7e82-43a2-978e-1f7268319b97",
   "metadata": {},
   "outputs": [
    {
     "data": {
      "text/plain": [
       "128"
      ]
     },
     "execution_count": 59,
     "metadata": {},
     "output_type": "execute_result"
    }
   ],
   "source": [
    "reduce(lambda a,b:a+b, a2)"
   ]
  },
  {
   "cell_type": "code",
   "execution_count": 63,
   "id": "c1f29b48-99f1-4778-bee4-0dffd381c6a3",
   "metadata": {},
   "outputs": [
    {
     "data": {
      "text/plain": [
       "24"
      ]
     },
     "execution_count": 63,
     "metadata": {},
     "output_type": "execute_result"
    }
   ],
   "source": [
    "reduce(lambda a,b: a if a>b else b, a2)"
   ]
  },
  {
   "cell_type": "markdown",
   "id": "5b1f228b-ac6f-4b10-b134-6065af0dd561",
   "metadata": {},
   "source": [
    "Practice and explore lambda function more"
   ]
  },
  {
   "cell_type": "code",
   "execution_count": 69,
   "id": "b0821823-3193-4e52-99ba-d8feab8a1b9a",
   "metadata": {},
   "outputs": [
    {
     "ename": "SyntaxError",
     "evalue": "invalid syntax (3792295579.py, line 2)",
     "output_type": "error",
     "traceback": [
      "\u001b[1;36m  Cell \u001b[1;32mIn[69], line 2\u001b[1;36m\u001b[0m\n\u001b[1;33m    a2 = lambda a: while a<=10 :  a = a+1 print a\u001b[0m\n\u001b[1;37m                   ^\u001b[0m\n\u001b[1;31mSyntaxError\u001b[0m\u001b[1;31m:\u001b[0m invalid syntax\n"
     ]
    }
   ],
   "source": [
    "a = 0\n",
    "a2 = lambda a: while a<=10 :  a = a+1 print a "
   ]
  },
  {
   "cell_type": "markdown",
   "id": "3c26890f-32a7-4f7b-a48a-72127e8405dd",
   "metadata": {},
   "source": [
    "## Libraries, Packages and Moddules"
   ]
  },
  {
   "cell_type": "markdown",
   "id": "280cf3fb-3088-409c-892b-287bd332a7cb",
   "metadata": {},
   "source": [
    "#### example: \n",
    "#### import science (or)\n",
    "#### from science import physics (or)\n",
    "#### from science.maths import differentiation\n",
    "#### and so on"
   ]
  },
  {
   "cell_type": "markdown",
   "id": "2e241df4-d43b-4b3c-ab47-a2fd8fb6a5bd",
   "metadata": {},
   "source": [
    "### Hierarchy \n",
    "Library>Packages>Modules>Submodules"
   ]
  },
  {
   "cell_type": "code",
   "execution_count": 29,
   "id": "9fd02384-fc62-4352-8655-5dadd21f3673",
   "metadata": {},
   "outputs": [],
   "source": [
    "import datetime\n",
    "from datetime import date"
   ]
  },
  {
   "cell_type": "code",
   "execution_count": 19,
   "id": "c5cab6d1-e245-4b2b-8b35-60c7c0f2c6f4",
   "metadata": {},
   "outputs": [],
   "source": [
    "my_date = date(2025, 1, 26) # format for date is yyyy mm dd"
   ]
  },
  {
   "cell_type": "code",
   "execution_count": 17,
   "id": "41023f45-9fe4-4822-a1db-4710b7df9c30",
   "metadata": {},
   "outputs": [
    {
     "name": "stdout",
     "output_type": "stream",
     "text": [
      "2025-01-26\n"
     ]
    }
   ],
   "source": [
    "print(my_date)"
   ]
  },
  {
   "cell_type": "code",
   "execution_count": 11,
   "id": "9e30ee74-3dfe-4f34-bf46-d2afaf2201ac",
   "metadata": {},
   "outputs": [
    {
     "data": {
      "text/plain": [
       "26"
      ]
     },
     "execution_count": 11,
     "metadata": {},
     "output_type": "execute_result"
    }
   ],
   "source": [
    "my_date.day"
   ]
  },
  {
   "cell_type": "code",
   "execution_count": 13,
   "id": "ccde5ed4-aebe-4146-a9cf-fb376c51809c",
   "metadata": {},
   "outputs": [
    {
     "data": {
      "text/plain": [
       "2025"
      ]
     },
     "execution_count": 13,
     "metadata": {},
     "output_type": "execute_result"
    }
   ],
   "source": [
    "my_date.year"
   ]
  },
  {
   "cell_type": "code",
   "execution_count": 15,
   "id": "3a68db78-41eb-4a0f-abf3-ae2a7b976695",
   "metadata": {},
   "outputs": [
    {
     "data": {
      "text/plain": [
       "1"
      ]
     },
     "execution_count": 15,
     "metadata": {},
     "output_type": "execute_result"
    }
   ],
   "source": [
    "my_date.month"
   ]
  },
  {
   "cell_type": "code",
   "execution_count": 23,
   "id": "69fdc6ca-2fcf-4f9e-a0d4-3b0e2f876062",
   "metadata": {},
   "outputs": [],
   "source": [
    "today_date = date.today()"
   ]
  },
  {
   "cell_type": "code",
   "execution_count": 27,
   "id": "66778bd2-db98-4ced-a4a7-e11e7bdfa7c6",
   "metadata": {},
   "outputs": [
    {
     "name": "stdout",
     "output_type": "stream",
     "text": [
      "2025-04-30\n"
     ]
    }
   ],
   "source": [
    "print(today_date)"
   ]
  },
  {
   "cell_type": "code",
   "execution_count": 31,
   "id": "74a37361-ea50-416a-acde-e6b8aea90c8e",
   "metadata": {},
   "outputs": [],
   "source": [
    "from datetime import datetime"
   ]
  },
  {
   "cell_type": "code",
   "execution_count": 33,
   "id": "78f73c2e-2cee-466c-9865-fbff52f27647",
   "metadata": {},
   "outputs": [
    {
     "name": "stdout",
     "output_type": "stream",
     "text": [
      "2025-04-30 11:17:08.029493\n"
     ]
    }
   ],
   "source": [
    "now1 = datetime.now()\n",
    "print(now1)"
   ]
  },
  {
   "cell_type": "code",
   "execution_count": 35,
   "id": "9ec0ca4b-19c3-4448-98ba-662edda86870",
   "metadata": {},
   "outputs": [
    {
     "data": {
      "text/plain": [
       "11"
      ]
     },
     "execution_count": 35,
     "metadata": {},
     "output_type": "execute_result"
    }
   ],
   "source": [
    "now1.hour"
   ]
  },
  {
   "cell_type": "code",
   "execution_count": 37,
   "id": "3af69042-09fe-4db4-b717-657d95797770",
   "metadata": {},
   "outputs": [
    {
     "data": {
      "text/plain": [
       "17"
      ]
     },
     "execution_count": 37,
     "metadata": {},
     "output_type": "execute_result"
    }
   ],
   "source": [
    "now1.minute"
   ]
  },
  {
   "cell_type": "code",
   "execution_count": 39,
   "id": "0e4ecb92-0fd1-40fb-9ae5-cf5f50fbcdc4",
   "metadata": {},
   "outputs": [
    {
     "data": {
      "text/plain": [
       "8"
      ]
     },
     "execution_count": 39,
     "metadata": {},
     "output_type": "execute_result"
    }
   ],
   "source": [
    "now1.second"
   ]
  },
  {
   "cell_type": "code",
   "execution_count": 45,
   "id": "e0507ae1-1e22-40dd-bb79-1a6702034bd8",
   "metadata": {},
   "outputs": [
    {
     "data": {
      "text/plain": [
       "29493"
      ]
     },
     "execution_count": 45,
     "metadata": {},
     "output_type": "execute_result"
    }
   ],
   "source": [
    "now1.microsecond"
   ]
  },
  {
   "cell_type": "code",
   "execution_count": 47,
   "id": "f3cbc8d1-acb5-43f8-a67c-2a5adea16b92",
   "metadata": {},
   "outputs": [],
   "source": [
    "from datetime import datetime as dt # as is used to give alias"
   ]
  },
  {
   "cell_type": "code",
   "execution_count": 49,
   "id": "458b9276-3215-4f65-9307-712b2462124d",
   "metadata": {},
   "outputs": [
    {
     "name": "stdout",
     "output_type": "stream",
     "text": [
      "2025-04-30 11:21:42.280746\n"
     ]
    }
   ],
   "source": [
    "print(dt.now())"
   ]
  },
  {
   "cell_type": "code",
   "execution_count": 51,
   "id": "0dc18b13-eb70-4c51-8de7-09db1b608c28",
   "metadata": {},
   "outputs": [
    {
     "name": "stdout",
     "output_type": "stream",
     "text": [
      "30\n"
     ]
    }
   ],
   "source": [
    "date1 = dt.now()\n",
    "print(date1.day)"
   ]
  },
  {
   "cell_type": "code",
   "execution_count": null,
   "id": "fbd0c875-5295-40d7-bffa-11a7f07fd2ee",
   "metadata": {},
   "outputs": [],
   "source": []
  }
 ],
 "metadata": {
  "kernelspec": {
   "display_name": "Python 3 (ipykernel)",
   "language": "python",
   "name": "python3"
  },
  "language_info": {
   "codemirror_mode": {
    "name": "ipython",
    "version": 3
   },
   "file_extension": ".py",
   "mimetype": "text/x-python",
   "name": "python",
   "nbconvert_exporter": "python",
   "pygments_lexer": "ipython3",
   "version": "3.12.4"
  }
 },
 "nbformat": 4,
 "nbformat_minor": 5
}
