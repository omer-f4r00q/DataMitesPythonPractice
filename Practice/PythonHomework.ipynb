{
 "cells": [
  {
   "cell_type": "markdown",
   "id": "14975237-b5a8-41d2-b867-2ccbe00d26be",
   "metadata": {},
   "source": [
    "# HomeWork Problems"
   ]
  },
  {
   "cell_type": "markdown",
   "id": "63a41679-725e-4f51-9cb9-7b924b988aab",
   "metadata": {},
   "source": [
    "### 24/04/2025\n",
    "#### Question: Create a program which takes units from the user and calculates the electric bill charges based on the units used.\n",
    "#### Logic:\n",
    "#### if units <= 200 then no charges,\n",
    "#### if > 200 and <= 300 then 5 rupees per units and\n",
    "#### if >300 then rupees 10 per unit."
   ]
  },
  {
   "cell_type": "code",
   "execution_count": 7,
   "id": "a6bc500b-20ad-465c-99a9-f659d45fb6b0",
   "metadata": {},
   "outputs": [
    {
     "name": "stdin",
     "output_type": "stream",
     "text": [
      "Enter the units consumed:  256\n"
     ]
    },
    {
     "name": "stdout",
     "output_type": "stream",
     "text": [
      "Charges: 280\n"
     ]
    }
   ],
   "source": [
    "units = int(input(\"Enter the units consumed: \"))\n",
    "if units <= 200:\n",
    "    print(\"No charges\")\n",
    "elif 200 < units <= 300:\n",
    "    above_200 = units - 200\n",
    "    print(\"Charges:\", above_200*5)\n",
    "elif units > 300:\n",
    "    above_300 = units - 300\n",
    "    print(\"Charges:\", (above_300*10)+500)"
   ]
  },
  {
   "cell_type": "code",
   "execution_count": 21,
   "id": "2a2efa0e-10ea-4a06-9ddb-49c2d4930096",
   "metadata": {},
   "outputs": [
    {
     "name": "stdin",
     "output_type": "stream",
     "text": [
      "Enter the units consumed:  328\n"
     ]
    },
    {
     "name": "stdout",
     "output_type": "stream",
     "text": [
      "Charges: 780\n"
     ]
    }
   ],
   "source": [
    "units = int(input(\"Enter the units consumed: \"))\n",
    "if units <= 200:\n",
    "    print(\"No charges\")\n",
    "elif 200 < units <= 300:\n",
    "    above_200 = units - 200\n",
    "    print(\"Charges:\", above_200*5)\n",
    "elif units > 300:\n",
    "    above_300 = units - 300\n",
    "    print(\"Charges:\", (above_300*10)+500)"
   ]
  },
  {
   "cell_type": "markdown",
   "id": "790d8407-adc7-4c40-88d4-22cc391e7dd1",
   "metadata": {},
   "source": [
    "## Python Assignment questions:"
   ]
  },
  {
   "cell_type": "markdown",
   "id": "a732e562-bdde-4cbd-a431-dda1e11a3ca4",
   "metadata": {},
   "source": [
    "### 1)Write a Python program to get the Python version you are using"
   ]
  },
  {
   "cell_type": "code",
   "execution_count": 3,
   "id": "e0acd7b2-50cc-444e-862a-636855224962",
   "metadata": {},
   "outputs": [],
   "source": [
    "import sys"
   ]
  },
  {
   "cell_type": "code",
   "execution_count": 9,
   "id": "b36381bd-52c3-4d3f-a8de-c4ee1b2f63c3",
   "metadata": {},
   "outputs": [
    {
     "name": "stdout",
     "output_type": "stream",
     "text": [
      "3.12.4 | packaged by Anaconda, Inc. | (main, Jun 18 2024, 15:03:56) [MSC v.1929 64 bit (AMD64)]\n"
     ]
    }
   ],
   "source": [
    "print(sys.version)"
   ]
  },
  {
   "cell_type": "markdown",
   "id": "5fe666b8-3504-4f39-a7db-792bfe78e687",
   "metadata": {},
   "source": [
    "### 2)Write a Python program to display the current date and time"
   ]
  },
  {
   "cell_type": "code",
   "execution_count": 3,
   "id": "97106865-4c2b-41af-80ac-a22fa48d75c7",
   "metadata": {},
   "outputs": [],
   "source": [
    "import datetime"
   ]
  },
  {
   "cell_type": "code",
   "execution_count": 5,
   "id": "041cc99c-c8ab-40be-aab2-4bc8af1c87f2",
   "metadata": {},
   "outputs": [
    {
     "name": "stdout",
     "output_type": "stream",
     "text": [
      "Current date and time is: 2025-05-04 16:16:31.747925\n"
     ]
    }
   ],
   "source": [
    "present = datetime.datetime.now()\n",
    "print(\"Current date and time is:\", present)"
   ]
  },
  {
   "cell_type": "markdown",
   "id": "28861f35-5631-4fb6-b821-df10133ee48b",
   "metadata": {},
   "source": [
    "### 3) Write a Python program which accepts the radius of a circle from the user and compute the area. "
   ]
  },
  {
   "cell_type": "code",
   "execution_count": 4,
   "id": "3dc08a2b-8e26-43ea-806c-aea1b0681132",
   "metadata": {},
   "outputs": [
    {
     "name": "stdin",
     "output_type": "stream",
     "text": [
      "Enter the radius:  5\n"
     ]
    },
    {
     "name": "stdout",
     "output_type": "stream",
     "text": [
      "Area of the circle is: 78.53750000000001\n"
     ]
    }
   ],
   "source": [
    "radius = float(input(\"Enter the radius: \"))\n",
    "def area_of_cir(r):\n",
    "    return (3.1415*(r**2))\n",
    "\n",
    "print(\"Area of the circle is:\", area_of_cir(radius))"
   ]
  },
  {
   "cell_type": "markdown",
   "id": "7689ed6b-f66c-46b7-885c-7c442402845d",
   "metadata": {},
   "source": [
    "### 4)Solve the expression. 5.2 + True + bool(-5) - 4 + 42//5 +bool(0) + False + int(5.9) + float('1')"
   ]
  },
  {
   "cell_type": "code",
   "execution_count": 7,
   "id": "c4bac0d5-dcb8-4b70-8ee8-f34fb37955be",
   "metadata": {},
   "outputs": [
    {
     "data": {
      "text/plain": [
       "17.2"
      ]
     },
     "execution_count": 7,
     "metadata": {},
     "output_type": "execute_result"
    }
   ],
   "source": [
    "5.2 + True + bool(-5) - 4 + 42//5 +bool(0) + False + int(5.9) + float('1')"
   ]
  },
  {
   "cell_type": "markdown",
   "id": "5011d221-2661-4322-90fd-303fbc666f25",
   "metadata": {},
   "source": [
    "### 5)Write code to test whether the given number lies between 1 and 10"
   ]
  },
  {
   "cell_type": "code",
   "execution_count": 18,
   "id": "618796a2-f5e3-4488-83fb-e3c1092782b3",
   "metadata": {},
   "outputs": [
    {
     "name": "stdin",
     "output_type": "stream",
     "text": [
      "Enter the number:  10\n"
     ]
    },
    {
     "name": "stdout",
     "output_type": "stream",
     "text": [
      "Given number is between 1 to 10\n"
     ]
    }
   ],
   "source": [
    "user_input = int(input(\"Enter the number: \"))\n",
    "if user_input in range(1,11):\n",
    "    print(\"Given number is between 1 to 10\")\n",
    "else:\n",
    "    print(\"Given nubmer is not between 1 to 10\")"
   ]
  },
  {
   "cell_type": "markdown",
   "id": "70f1c60f-bd6a-43c9-94e5-67f42af4b59c",
   "metadata": {},
   "source": [
    "### 6)sum the numbers from 1 to 20 using for loop"
   ]
  },
  {
   "cell_type": "code",
   "execution_count": 29,
   "id": "6125b456-ce0d-43ae-89e1-93cf538f7ac2",
   "metadata": {},
   "outputs": [
    {
     "name": "stdout",
     "output_type": "stream",
     "text": [
      "210\n"
     ]
    }
   ],
   "source": [
    "list1 = list(range(1,21))\n",
    "sum_of_list1 = 0\n",
    "for i in list1:\n",
    "    sum_of_list1 = i + sum_of_list1\n",
    "print(sum_of_list1)\n",
    "    "
   ]
  },
  {
   "cell_type": "code",
   "execution_count": 42,
   "id": "4e3dcb7b-580c-4e17-ac74-12f4808df0ca",
   "metadata": {},
   "outputs": [
    {
     "data": {
      "text/plain": [
       "210"
      ]
     },
     "execution_count": 42,
     "metadata": {},
     "output_type": "execute_result"
    }
   ],
   "source": [
    "from functools import reduce\n",
    "reduce((lambda a,b: a+b),list1)"
   ]
  },
  {
   "cell_type": "markdown",
   "id": "4c2c8011-e88e-427e-945b-0948caa10aa3",
   "metadata": {},
   "source": [
    "### 7)Display the numbers in reverse from 100 to 1"
   ]
  },
  {
   "cell_type": "code",
   "execution_count": 56,
   "id": "c06df107-f8d0-43ac-be1b-dc3a5d185013",
   "metadata": {
    "scrolled": true
   },
   "outputs": [
    {
     "data": {
      "text/plain": [
       "[100,\n",
       " 99,\n",
       " 98,\n",
       " 97,\n",
       " 96,\n",
       " 95,\n",
       " 94,\n",
       " 93,\n",
       " 92,\n",
       " 91,\n",
       " 90,\n",
       " 89,\n",
       " 88,\n",
       " 87,\n",
       " 86,\n",
       " 85,\n",
       " 84,\n",
       " 83,\n",
       " 82,\n",
       " 81,\n",
       " 80,\n",
       " 79,\n",
       " 78,\n",
       " 77,\n",
       " 76,\n",
       " 75,\n",
       " 74,\n",
       " 73,\n",
       " 72,\n",
       " 71,\n",
       " 70,\n",
       " 69,\n",
       " 68,\n",
       " 67,\n",
       " 66,\n",
       " 65,\n",
       " 64,\n",
       " 63,\n",
       " 62,\n",
       " 61,\n",
       " 60,\n",
       " 59,\n",
       " 58,\n",
       " 57,\n",
       " 56,\n",
       " 55,\n",
       " 54,\n",
       " 53,\n",
       " 52,\n",
       " 51,\n",
       " 50,\n",
       " 49,\n",
       " 48,\n",
       " 47,\n",
       " 46,\n",
       " 45,\n",
       " 44,\n",
       " 43,\n",
       " 42,\n",
       " 41,\n",
       " 40,\n",
       " 39,\n",
       " 38,\n",
       " 37,\n",
       " 36,\n",
       " 35,\n",
       " 34,\n",
       " 33,\n",
       " 32,\n",
       " 31,\n",
       " 30,\n",
       " 29,\n",
       " 28,\n",
       " 27,\n",
       " 26,\n",
       " 25,\n",
       " 24,\n",
       " 23,\n",
       " 22,\n",
       " 21,\n",
       " 20,\n",
       " 19,\n",
       " 18,\n",
       " 17,\n",
       " 16,\n",
       " 15,\n",
       " 14,\n",
       " 13,\n",
       " 12,\n",
       " 11,\n",
       " 10,\n",
       " 9,\n",
       " 8,\n",
       " 7,\n",
       " 6,\n",
       " 5,\n",
       " 4,\n",
       " 3,\n",
       " 2,\n",
       " 1]"
      ]
     },
     "execution_count": 56,
     "metadata": {},
     "output_type": "execute_result"
    }
   ],
   "source": [
    "list(range(100,0,-1))"
   ]
  },
  {
   "cell_type": "code",
   "execution_count": 61,
   "id": "3e1ea2d7-3296-470d-8d81-165261003669",
   "metadata": {
    "scrolled": true
   },
   "outputs": [
    {
     "data": {
      "text/plain": [
       "[100,\n",
       " 99,\n",
       " 98,\n",
       " 97,\n",
       " 96,\n",
       " 95,\n",
       " 94,\n",
       " 93,\n",
       " 92,\n",
       " 91,\n",
       " 90,\n",
       " 89,\n",
       " 88,\n",
       " 87,\n",
       " 86,\n",
       " 85,\n",
       " 84,\n",
       " 83,\n",
       " 82,\n",
       " 81,\n",
       " 80,\n",
       " 79,\n",
       " 78,\n",
       " 77,\n",
       " 76,\n",
       " 75,\n",
       " 74,\n",
       " 73,\n",
       " 72,\n",
       " 71,\n",
       " 70,\n",
       " 69,\n",
       " 68,\n",
       " 67,\n",
       " 66,\n",
       " 65,\n",
       " 64,\n",
       " 63,\n",
       " 62,\n",
       " 61,\n",
       " 60,\n",
       " 59,\n",
       " 58,\n",
       " 57,\n",
       " 56,\n",
       " 55,\n",
       " 54,\n",
       " 53,\n",
       " 52,\n",
       " 51,\n",
       " 50,\n",
       " 49,\n",
       " 48,\n",
       " 47,\n",
       " 46,\n",
       " 45,\n",
       " 44,\n",
       " 43,\n",
       " 42,\n",
       " 41,\n",
       " 40,\n",
       " 39,\n",
       " 38,\n",
       " 37,\n",
       " 36,\n",
       " 35,\n",
       " 34,\n",
       " 33,\n",
       " 32,\n",
       " 31,\n",
       " 30,\n",
       " 29,\n",
       " 28,\n",
       " 27,\n",
       " 26,\n",
       " 25,\n",
       " 24,\n",
       " 23,\n",
       " 22,\n",
       " 21,\n",
       " 20,\n",
       " 19,\n",
       " 18,\n",
       " 17,\n",
       " 16,\n",
       " 15,\n",
       " 14,\n",
       " 13,\n",
       " 12,\n",
       " 11,\n",
       " 10,\n",
       " 9,\n",
       " 8,\n",
       " 7,\n",
       " 6,\n",
       " 5,\n",
       " 4,\n",
       " 3,\n",
       " 2,\n",
       " 1]"
      ]
     },
     "execution_count": 61,
     "metadata": {},
     "output_type": "execute_result"
    }
   ],
   "source": [
    "list2 = list(range(1,101))\n",
    "list2[::-1]"
   ]
  },
  {
   "cell_type": "markdown",
   "id": "29b1b249-d3b7-4678-9fc3-9792a9001a30",
   "metadata": {},
   "source": [
    "### 8)Display multiples of 2 from 10 to 50 using range"
   ]
  },
  {
   "cell_type": "code",
   "execution_count": 63,
   "id": "3ba5274e-c439-4b20-94d8-79b113818865",
   "metadata": {
    "scrolled": true
   },
   "outputs": [
    {
     "name": "stdout",
     "output_type": "stream",
     "text": [
      "20\n",
      "22\n",
      "24\n",
      "26\n",
      "28\n",
      "30\n",
      "32\n",
      "34\n",
      "36\n",
      "38\n",
      "40\n",
      "42\n",
      "44\n",
      "46\n",
      "48\n",
      "50\n",
      "52\n",
      "54\n",
      "56\n",
      "58\n",
      "60\n",
      "62\n",
      "64\n",
      "66\n",
      "68\n",
      "70\n",
      "72\n",
      "74\n",
      "76\n",
      "78\n",
      "80\n",
      "82\n",
      "84\n",
      "86\n",
      "88\n",
      "90\n",
      "92\n",
      "94\n",
      "96\n",
      "98\n",
      "100\n"
     ]
    }
   ],
   "source": [
    "list3 = list(range(10,51))\n",
    "for i in list3:\n",
    "    print(2*i)"
   ]
  },
  {
   "cell_type": "markdown",
   "id": "88cc5c93-e91d-4537-a824-6e52856fe1a9",
   "metadata": {},
   "source": [
    "### 9)From the below nested dictionary, pick the word \"Bangalore\". "
   ]
  },
  {
   "cell_type": "code",
   "execution_count": 69,
   "id": "48ba57af-04ab-43cb-ad45-1a67ea72fd69",
   "metadata": {},
   "outputs": [],
   "source": [
    "d = {'1':'One','2':[1,{'Two':['Ch','Cbe','Salem',{'Place':[5,6,7,'Bangalore']}]}]}"
   ]
  },
  {
   "cell_type": "code",
   "execution_count": 71,
   "id": "982cc8c2-3a14-4279-bfde-d4cd9da9ce18",
   "metadata": {},
   "outputs": [
    {
     "name": "stdout",
     "output_type": "stream",
     "text": [
      "Bangalore\n"
     ]
    }
   ],
   "source": [
    "print(d['2'][1]['Two'][3]['Place'][3])"
   ]
  },
  {
   "cell_type": "markdown",
   "id": "fb7df557-fdcd-4fcf-8da7-557f1c0e44f5",
   "metadata": {},
   "source": [
    "### 10)Use functions to return square of numbers from 2 to 5"
   ]
  },
  {
   "cell_type": "code",
   "execution_count": 76,
   "id": "8360cb17-0f77-4b8a-b9f3-46340f84f2c4",
   "metadata": {},
   "outputs": [
    {
     "name": "stdout",
     "output_type": "stream",
     "text": [
      "4\n",
      "9\n",
      "16\n",
      "25\n"
     ]
    }
   ],
   "source": [
    "def square(n):\n",
    "    return n*n\n",
    "for i in range(2,6):\n",
    "    print (square(i))"
   ]
  },
  {
   "cell_type": "markdown",
   "id": "2571158f-bcbd-4d4d-bcd1-2b2edea8bee5",
   "metadata": {},
   "source": [
    "### 11)Write a Python program which accepts a sequence of comma-separated numbers from user and generate a list and  tuple with those numbers"
   ]
  },
  {
   "cell_type": "code",
   "execution_count": 89,
   "id": "53c22525-0404-4b59-809a-850a357c7bd0",
   "metadata": {},
   "outputs": [
    {
     "name": "stdin",
     "output_type": "stream",
     "text": [
      "Enter a sequence of comma-separated numbers:  1,2,3,4,5\n"
     ]
    },
    {
     "name": "stdout",
     "output_type": "stream",
     "text": [
      "List of the given numbers is ['1', '2', '3', '4', '5']\n",
      "Tuple of the given numbers is ('1', '2', '3', '4', '5')\n"
     ]
    }
   ],
   "source": [
    "user_input = input(\"Enter a sequence of comma-separated numbers: \")\n",
    "list4 = user_input.split(',')\n",
    "print(\"List of the given numbers is\", list4)\n",
    "print(\"Tuple of the given numbers is\", tuple(list4))"
   ]
  },
  {
   "cell_type": "markdown",
   "id": "df3d1b88-3f85-496e-b81a-8285bff86c99",
   "metadata": {},
   "source": [
    "### 12) Write a Python program to display the first and last colors from the following list."
   ]
  },
  {
   "cell_type": "code",
   "execution_count": 92,
   "id": "b00b7ae4-6292-4ae0-88f4-e3cf60a00096",
   "metadata": {},
   "outputs": [
    {
     "name": "stdout",
     "output_type": "stream",
     "text": [
      "first color: Red\n",
      "last color: Black\n"
     ]
    }
   ],
   "source": [
    "color_list = [\"Red\",\"Green\",\"White\" ,\"Black\"]\n",
    "print(\"first color:\", color_list[0])\n",
    "print(\"last color:\", color_list[-1])"
   ]
  },
  {
   "cell_type": "markdown",
   "id": "6bf72f64-d4ad-4da2-bcac-e109379d25ca",
   "metadata": {},
   "source": [
    "### 13)Write a Python program to calculate number of days between two dates.\n",
    "Sample dates : (2014, 7, 2), (2014, 7, 11)"
   ]
  },
  {
   "cell_type": "code",
   "execution_count": 97,
   "id": "34b2484e-3d83-4aa6-90c2-166d797b4df0",
   "metadata": {},
   "outputs": [],
   "source": [
    "from datetime import date"
   ]
  },
  {
   "cell_type": "code",
   "execution_count": 113,
   "id": "24f96379-7944-461e-b724-97cf321a22bf",
   "metadata": {},
   "outputs": [
    {
     "name": "stdout",
     "output_type": "stream",
     "text": [
      "9\n"
     ]
    }
   ],
   "source": [
    "date1 = date(2014, 7, 2)\n",
    "date2 = date(2014, 7, 11)\n",
    "print(abs((date1.day) - (date2.day)))"
   ]
  },
  {
   "cell_type": "markdown",
   "id": "cdd617a0-0163-44e7-9999-6465c2d6e8b9",
   "metadata": {},
   "source": [
    "### 14)Write a Python program to get the difference between a given number and 17, if the number is greater than 17 return double the absolute difference"
   ]
  },
  {
   "cell_type": "code",
   "execution_count": 126,
   "id": "469f3d60-ffa6-4fbb-a99b-952a85935001",
   "metadata": {},
   "outputs": [
    {
     "name": "stdin",
     "output_type": "stream",
     "text": [
      "Enter a number:  25\n"
     ]
    },
    {
     "name": "stdout",
     "output_type": "stream",
     "text": [
      "Difference: 8\n",
      "Double the absolute difference: 16\n"
     ]
    }
   ],
   "source": [
    "user_number = int(input(\"Enter a number: \"))\n",
    "if user_number > 17:\n",
    "    print(\"Difference:\", user_number - 17)\n",
    "    print(\"Double the absolute difference:\", (user_number - 17)*2)\n",
    "else:\n",
    "    print(\"Difference:\", user_number - 17)\n"
   ]
  },
  {
   "cell_type": "markdown",
   "id": "c140ca7c-13c5-4493-8f07-9b41816537d5",
   "metadata": {},
   "source": [
    "### 15)To check whather given element exists in list or not?? list=[1,2,3,4,5,6,7,8,9,10] check if 9 and 12 are present in given list or not"
   ]
  },
  {
   "cell_type": "code",
   "execution_count": 132,
   "id": "b42bfd0d-fae4-4aa2-ac63-dbec4601eea6",
   "metadata": {},
   "outputs": [
    {
     "name": "stdin",
     "output_type": "stream",
     "text": [
      "Enter the number:  5\n"
     ]
    },
    {
     "name": "stdout",
     "output_type": "stream",
     "text": [
      "The number is in the list.\n",
      "9 is in the list\n",
      "12 is not in the list\n"
     ]
    }
   ],
   "source": [
    "user_number = int(input(\"Enter the number: \"))\n",
    "list5 =[1,2,3,4,5,6,7,8,9,10]\n",
    "if user_number in list5:\n",
    "    print(\"The number is in the list.\")\n",
    "else:\n",
    "    print(\"The number is not in the list.\")\n",
    "if 9 in list5:\n",
    "    print(\"9 is in the list\")\n",
    "else:\n",
    "    print(\"9 is not in the list\")\n",
    "if 12 in list5:\n",
    "    print(\"12 is in the list\")\n",
    "else:\n",
    "    print(\"12 is not in the list\")"
   ]
  },
  {
   "cell_type": "markdown",
   "id": "7127ab00-1ec9-4638-8830-c54edaefb278",
   "metadata": {},
   "source": [
    "### 16)Write a function calculation() such that it can accept two variables and calculate the addition and subtraction of it.And also it must return both addition and subtraction in a single return call"
   ]
  },
  {
   "cell_type": "code",
   "execution_count": 141,
   "id": "06656224-bb6e-4d88-a542-4bf5cf18e0fa",
   "metadata": {},
   "outputs": [
    {
     "data": {
      "text/plain": [
       "(5, -1)"
      ]
     },
     "execution_count": 141,
     "metadata": {},
     "output_type": "execute_result"
    }
   ],
   "source": [
    "def calculation(a,b):\n",
    "    return a+b, a-b\n",
    "calculation(2,3)"
   ]
  },
  {
   "cell_type": "markdown",
   "id": "7711e8de-6547-4429-bac7-b20ba12c4544",
   "metadata": {},
   "source": [
    "### 17)Create a function showEmployee() in such a way that it should accept employee name, and it’s salary and display both, and if the salary is missing in function call it should show it as 9000"
   ]
  },
  {
   "cell_type": "code",
   "execution_count": 169,
   "id": "9a7cf8c6-803d-440a-a51c-0c6117b85b54",
   "metadata": {},
   "outputs": [
    {
     "name": "stdout",
     "output_type": "stream",
     "text": [
      "Employee Name: Omer\n",
      "Salary: 9000\n"
     ]
    }
   ],
   "source": [
    "def showEmployee(name,salary=9000):\n",
    "    print(\"Employee Name:\", name)\n",
    "    print(\"Salary:\", salary)\n",
    "\n",
    "showEmployee(\"Omer\")"
   ]
  },
  {
   "cell_type": "markdown",
   "id": "e5a62d40-c067-4e9f-b755-733d7300e223",
   "metadata": {},
   "source": [
    "### 18) Write a recursive function to calculate the sum of numbers from 0 to 10"
   ]
  },
  {
   "cell_type": "code",
   "execution_count": 1,
   "id": "f25b6e53-729a-4dca-a130-6959c542e4cc",
   "metadata": {},
   "outputs": [
    {
     "data": {
      "text/plain": [
       "55"
      ]
     },
     "execution_count": 1,
     "metadata": {},
     "output_type": "execute_result"
    }
   ],
   "source": [
    "def sum_of_sequence(x):\n",
    "    if x == 1:\n",
    "        return 1\n",
    "    elif x == 0:\n",
    "        return 0\n",
    "    else:\n",
    "        return x + sum_of_sequence(x-1)\n",
    "\n",
    "sum_of_sequence(10)\n",
    "    "
   ]
  },
  {
   "cell_type": "markdown",
   "id": "703b8949-c9b3-45ac-83ff-8dad6a06084e",
   "metadata": {},
   "source": [
    "### 19)Generate a Python list of all the even numbers between 4 to 30"
   ]
  },
  {
   "cell_type": "code",
   "execution_count": 194,
   "id": "c3adb12e-0b73-4121-a90f-7ad5969d0395",
   "metadata": {},
   "outputs": [
    {
     "data": {
      "text/plain": [
       "[4, 6, 8, 10, 12, 14, 16, 18, 20, 22, 24, 26, 28, 30]"
      ]
     },
     "execution_count": 194,
     "metadata": {},
     "output_type": "execute_result"
    }
   ],
   "source": [
    "list6 = list(range(4,31))\n",
    "list(filter(lambda a: a%2 == 0, list6))"
   ]
  },
  {
   "cell_type": "markdown",
   "id": "ec8ba9ab-a270-43e5-813e-dc6459208f0a",
   "metadata": {},
   "source": [
    "### 20)Return the largest item from the given list"
   ]
  },
  {
   "cell_type": "code",
   "execution_count": 199,
   "id": "948af73e-4fe3-4a87-84c4-a963b489d1f6",
   "metadata": {},
   "outputs": [
    {
     "data": {
      "text/plain": [
       "30"
      ]
     },
     "execution_count": 199,
     "metadata": {},
     "output_type": "execute_result"
    }
   ],
   "source": [
    "from functools import reduce\n",
    "reduce(lambda a,b: a if a>b else b, list6)"
   ]
  },
  {
   "cell_type": "markdown",
   "id": "545396dd-fe48-404b-a619-45e5601ee16d",
   "metadata": {},
   "source": [
    "## More Practice Questions"
   ]
  },
  {
   "cell_type": "markdown",
   "id": "931e06b9-1c0b-425a-89ef-b15d911e7fce",
   "metadata": {},
   "source": [
    "### 1. Write a Python program to print the following string in a specific format (see the output). Sample String : \"Twinkle, twinkle, little star, How I wonder what you are! Up above the world so high, Like a diamond in the sky. Twinkle, twinkle, little star, How I wonder what you are\" Output : Twinkle, twinkle, little star, How I wonder what you are! Up above the world so high, Like a diamond in the sky. Twinkle, twinkle, little star, How I wonder what you are"
   ]
  },
  {
   "cell_type": "code",
   "execution_count": 3,
   "id": "d9e5e996-fa7d-446a-ba69-289a6ead07f6",
   "metadata": {},
   "outputs": [
    {
     "name": "stdout",
     "output_type": "stream",
     "text": [
      "Twinkle, twinkle, little star, \n",
      "\tHow I wonder what you are! \n",
      "\t\tUp above the world so high, \n",
      "\t\tLike a diamond in the sky. \n",
      "Twinkle, twinkle, little star, \n",
      "\tHow I wonder what you are!\n"
     ]
    }
   ],
   "source": [
    "print(\"Twinkle, twinkle, little star, \\n\\tHow I wonder what you are! \\n\\t\\tUp above the world so high, \\n\\t\\tLike a diamond in the sky. \\nTwinkle, twinkle, little star, \\n\\tHow I wonder what you are!\")\n"
   ]
  },
  {
   "cell_type": "markdown",
   "id": "76ea27f0-4383-4f53-8616-a627508c2b62",
   "metadata": {},
   "source": [
    "### 2. Write a Python program to get the Python version you are using"
   ]
  },
  {
   "cell_type": "code",
   "execution_count": 17,
   "id": "fb831539-2b90-4b59-838c-d562aabbaec5",
   "metadata": {},
   "outputs": [
    {
     "name": "stdout",
     "output_type": "stream",
     "text": [
      "3.12.4 | packaged by Anaconda, Inc. | (main, Jun 18 2024, 15:03:56) [MSC v.1929 64 bit (AMD64)]\n"
     ]
    }
   ],
   "source": [
    "import sys\n",
    "print(sys.version)"
   ]
  },
  {
   "cell_type": "markdown",
   "id": "757f54a2-6541-4892-b672-9eb2cdae6b68",
   "metadata": {},
   "source": [
    "### 3. Write a Python program to display the current date and time."
   ]
  },
  {
   "cell_type": "code",
   "execution_count": 22,
   "id": "2cc4b937-01cd-411d-879c-02e7828bb648",
   "metadata": {},
   "outputs": [
    {
     "name": "stdout",
     "output_type": "stream",
     "text": [
      "2025-05-05 09:57:16.305342\n"
     ]
    }
   ],
   "source": [
    "import datetime\n",
    "print(datetime.datetime.now())"
   ]
  },
  {
   "cell_type": "markdown",
   "id": "e2db0a12-0b9a-4dcc-9629-b0ad67f73549",
   "metadata": {},
   "source": [
    "### 4. Write a Python program which accepts the radius of a circle from the user and compute the area"
   ]
  },
  {
   "cell_type": "code",
   "execution_count": 27,
   "id": "0cf0b9e5-f73f-460c-a43a-a6c700a47e72",
   "metadata": {},
   "outputs": [
    {
     "name": "stdin",
     "output_type": "stream",
     "text": [
      "Enter the radius:  5\n"
     ]
    },
    {
     "name": "stdout",
     "output_type": "stream",
     "text": [
      "Area of the circle is: 78.5\n"
     ]
    }
   ],
   "source": [
    "radius = int(input(\"Enter the radius: \"))\n",
    "print(\"Area of the circle is:\", 3.14*radius**2)"
   ]
  },
  {
   "cell_type": "markdown",
   "id": "27428a35-a030-4de2-9f1c-8faf9b00e8b4",
   "metadata": {},
   "source": [
    "### 5. Write a Python program which accepts the user's first and last name and print them in reverse order with a space between them."
   ]
  },
  {
   "cell_type": "code",
   "execution_count": 30,
   "id": "f231ad2d-6622-4b5d-a3dc-986b2d376c7b",
   "metadata": {},
   "outputs": [
    {
     "name": "stdin",
     "output_type": "stream",
     "text": [
      "Enter your first Name:  Omer\n",
      "Enter your last Name:  Farooq\n"
     ]
    },
    {
     "name": "stdout",
     "output_type": "stream",
     "text": [
      "Hello, Farooq Omer\n"
     ]
    }
   ],
   "source": [
    "first_name = input(\"Enter your first Name: \")\n",
    "last_name = input(\"Enter your last Name: \")\n",
    "print(\"Hello,\", last_name, first_name)"
   ]
  },
  {
   "cell_type": "markdown",
   "id": "00a07992-afca-41fa-ab07-1ae5caf9a015",
   "metadata": {},
   "source": [
    "### 6. Write a Python program which accepts a sequence of comma-separated numbers from user and generate a list  with those numbers"
   ]
  },
  {
   "cell_type": "code",
   "execution_count": 33,
   "id": "908f8a12-b07e-4606-b457-fcb22cad8d96",
   "metadata": {},
   "outputs": [
    {
     "name": "stdin",
     "output_type": "stream",
     "text": [
      "Enter the numbers:  1,2,3,4,5,6\n"
     ]
    },
    {
     "data": {
      "text/plain": [
       "['1', '2', '3', '4', '5', '6']"
      ]
     },
     "execution_count": 33,
     "metadata": {},
     "output_type": "execute_result"
    }
   ],
   "source": [
    "user_input = input(\"Enter the numbers: \")\n",
    "list(user_input.split(\",\"))"
   ]
  },
  {
   "cell_type": "markdown",
   "id": "25cf28af-c6de-4c9f-aee4-994f4e7eb540",
   "metadata": {},
   "source": [
    "### 7. Write a Python program to accept a filename from the user and print the extension of that"
   ]
  },
  {
   "cell_type": "code",
   "execution_count": 38,
   "id": "7bfa34cd-794c-4bb5-b34b-96c0862d93e1",
   "metadata": {},
   "outputs": [
    {
     "name": "stdin",
     "output_type": "stream",
     "text": [
      "Enter your file name:  college.py\n"
     ]
    },
    {
     "name": "stdout",
     "output_type": "stream",
     "text": [
      "The extension of your file is: .py\n"
     ]
    }
   ],
   "source": [
    "filename = input(\"Enter your file name: \")\n",
    "prefix, extension = filename.split(\".\")\n",
    "print(f\"The extension of your file is: .{extension}\")"
   ]
  },
  {
   "cell_type": "markdown",
   "id": "c43a9b79-140e-4104-877a-e2282abb4994",
   "metadata": {},
   "source": [
    "### 8. Write a Python program to display the first and last colors from the following list\n"
   ]
  },
  {
   "cell_type": "code",
   "execution_count": 41,
   "id": "484d06a9-818f-45ad-a34f-dfcbc79c7240",
   "metadata": {},
   "outputs": [
    {
     "name": "stdout",
     "output_type": "stream",
     "text": [
      "First color is yellow and Last color is orange\n"
     ]
    }
   ],
   "source": [
    "color_list = [\"yellow\",\"Green\",\"grey\" ,\"orange\"]\n",
    "first_color = color_list[0]\n",
    "last_color = color_list[-1]\n",
    "print(f\"First color is {first_color} and Last color is {last_color}\")"
   ]
  },
  {
   "cell_type": "markdown",
   "id": "344e8afa-cf8b-45c7-908b-505130e0d46d",
   "metadata": {},
   "source": [
    "### 9. Write a Python program that accepts an integer (n) and computes the value of n+nn+nnn"
   ]
  },
  {
   "cell_type": "code",
   "execution_count": 53,
   "id": "99ab0ce3-a653-4b67-85d9-481d53b9a097",
   "metadata": {},
   "outputs": [
    {
     "name": "stdin",
     "output_type": "stream",
     "text": [
      "Enter a number:  1\n"
     ]
    },
    {
     "name": "stdout",
     "output_type": "stream",
     "text": [
      "n+nn+nnn = 123\n"
     ]
    }
   ],
   "source": [
    "#accept the number from user as string\n",
    "n = input(\"Enter a number: \")\n",
    "#concatenate the string n with another n and then convert into integer\n",
    "nn = int(n + n)\n",
    "nnn = int(n + n + n)\n",
    "#compute the given expression by converting the input into integer and then adding all the values\n",
    "computation = int(n) + nn + nnn\n",
    "print(f\"n+nn+nnn = {computation}\")"
   ]
  },
  {
   "cell_type": "markdown",
   "id": "4acf0f65-8e91-4658-bc25-536005728c1e",
   "metadata": {},
   "source": [
    "### 10.Write a program to demonstrate different number data types in Python."
   ]
  },
  {
   "cell_type": "code",
   "execution_count": 63,
   "id": "5b20081f-6c66-4123-bfb8-fede3c466b49",
   "metadata": {},
   "outputs": [
    {
     "name": "stdout",
     "output_type": "stream",
     "text": [
      "10 <class 'int'>\n",
      "10.5 <class 'float'>\n",
      "True <class 'bool'>\n",
      "(2+3j) <class 'complex'>\n"
     ]
    }
   ],
   "source": [
    "a1 = 10\n",
    "a2 = 10.5\n",
    "a3 = True\n",
    "a4 = 2 + 3j\n",
    "print(a1, type(a1))\n",
    "print(a2, type(a2))\n",
    "print(a3, type(a3))\n",
    "print(a4, type(a4))"
   ]
  },
  {
   "cell_type": "markdown",
   "id": "6233df58-5313-4613-8053-f40406929285",
   "metadata": {},
   "source": [
    "### 11. Python Program to find sum of array"
   ]
  },
  {
   "cell_type": "code",
   "execution_count": 68,
   "id": "9a37b8ec-ca75-4205-94b6-c688a3e21fe8",
   "metadata": {},
   "outputs": [
    {
     "name": "stdout",
     "output_type": "stream",
     "text": [
      "Sum of the array is 21\n"
     ]
    }
   ],
   "source": [
    "from functools import reduce\n",
    "l1 = [1,2,3,4,5,6]\n",
    "print(f\"Sum of the array is {reduce(lambda a,b:a+b, l1)}\")"
   ]
  },
  {
   "cell_type": "code",
   "execution_count": null,
   "id": "ce80853f-1668-4e4c-a543-fcb2e414f0e8",
   "metadata": {},
   "outputs": [],
   "source": []
  }
 ],
 "metadata": {
  "kernelspec": {
   "display_name": "Python 3 (ipykernel)",
   "language": "python",
   "name": "python3"
  },
  "language_info": {
   "codemirror_mode": {
    "name": "ipython",
    "version": 3
   },
   "file_extension": ".py",
   "mimetype": "text/x-python",
   "name": "python",
   "nbconvert_exporter": "python",
   "pygments_lexer": "ipython3",
   "version": "3.12.4"
  }
 },
 "nbformat": 4,
 "nbformat_minor": 5
}
